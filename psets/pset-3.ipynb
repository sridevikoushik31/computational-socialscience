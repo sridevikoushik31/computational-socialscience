{
 "cells": [
  {
   "cell_type": "markdown",
   "metadata": {},
   "source": [
    "Project 3: Text analysis of political social media\n",
    "======\n",
    "\n",
    "- By Jacob Eisenstein\n",
    "- For CS 8803-CSS, March 2015\n",
    "\n",
    "This project involves mining text from the social media site Reddit. \n",
    "It is possible that you will encounter content that is offensive and derogatory. \n",
    "We are studying this content, not endorsing it. \n",
    "But if you encounter something that is too upsetting for you to work with, please contact me and we will work out a solution."
   ]
  },
  {
   "cell_type": "markdown",
   "metadata": {},
   "source": [
    "# Setup #\n",
    "\n",
    "This code is written by me, and includes code to load in text that I scraped from Reddit.\n",
    "\n",
    "I'm also including the code that I used to do the scraping (in another file), in case you want to expand this project later."
   ]
  },
  {
   "cell_type": "code",
   "execution_count": 1,
   "metadata": {
    "collapsed": false
   },
   "outputs": [
    {
     "name": "stdout",
     "output_type": "stream",
     "text": [
      "Populating the interactive namespace from numpy and matplotlib\n"
     ]
    }
   ],
   "source": [
    "%pylab inline\n",
    "import csv\n",
    "from collections import Counter, defaultdict\n",
    "from nltk import sent_tokenize,word_tokenize,porter\n",
    "import matplotlib.pyplot as plt\n",
    "import numpy as np\n",
    "from sklearn.feature_extraction.text import CountVectorizer\n",
    "from sklearn.linear_model import LogisticRegression\n",
    "from sklearn import cross_validation\n",
    "import codecs\n",
    "import nltk\n",
    "from nltk.stem.porter import *\n",
    "# nltk.download()"
   ]
  },
  {
   "cell_type": "code",
   "execution_count": 2,
   "metadata": {
    "collapsed": false
   },
   "outputs": [],
   "source": [
    "subreddit_names = ['Libertarian','Conservative','Progressive','Socialism','Anarchism']\n",
    "linebreak = '-----==----==---==-----'"
   ]
  },
  {
   "cell_type": "code",
   "execution_count": 3,
   "metadata": {
    "collapsed": false
   },
   "outputs": [],
   "source": [
    "subreddits = dict()\n",
    "for subreddit in subreddit_names:\n",
    "    comments = []\n",
    "    with codecs.open('.'.join([\"pset-3-data/\"+subreddit,'txt']),'r','utf-8-sig') as fin:\n",
    "        comment = ''        \n",
    "        for line in fin:\n",
    "            if not(line.rstrip() == linebreak):\n",
    "                #print line\n",
    "                #comment += line.decode('utf-8')\n",
    "                comment += line\n",
    "            else:\n",
    "                comments.append(comment)\n",
    "                comment = ''\n",
    "    subreddits[subreddit] = comments\n",
    "    "
   ]
  },
  {
   "cell_type": "markdown",
   "metadata": {},
   "source": [
    "This is my function for building a dictionary of words from a set of threads.\n",
    "\n",
    "Notice that it takes a function as an argument, which allows you to preprocess the words."
   ]
  },
  {
   "cell_type": "code",
   "execution_count": 4,
   "metadata": {
    "collapsed": false
   },
   "outputs": [],
   "source": [
    "# print subreddits\n",
    "def getWordCounts(comments,word_proc = lambda x : x):\n",
    "    word_counts = Counter()\n",
    "    for comment in comments:\n",
    "        for sent in sent_tokenize(comment):\n",
    "            for word in word_tokenize(sent):\n",
    "                word_counts[word_proc(word)] += 1\n",
    "    return word_counts"
   ]
  },
  {
   "cell_type": "markdown",
   "metadata": {},
   "source": [
    "This function makes a plot with log rank on the x-axis and log count on the y-axis, for one thread"
   ]
  },
  {
   "cell_type": "code",
   "execution_count": 5,
   "metadata": {
    "collapsed": false
   },
   "outputs": [],
   "source": [
    "def scatterCounts(counts,color='b'):\n",
    "    plt.scatter(np.log(range(len(counts))),[np.log(x[1]) for x in counts.most_common()],marker='.',alpha=0.5,color=color)\n",
    "    plt.xlabel('log rank')\n",
    "    plt.ylabel('log count')"
   ]
  },
  {
   "cell_type": "code",
   "execution_count": 6,
   "metadata": {
    "collapsed": false
   },
   "outputs": [],
   "source": [
    "allcomments = []\n",
    "for subreddit in subreddits.values():\n",
    "    for comment in subreddit:\n",
    "        allcomments.append(comment)"
   ]
  },
  {
   "cell_type": "code",
   "execution_count": 7,
   "metadata": {
    "collapsed": false
   },
   "outputs": [
    {
     "name": "stderr",
     "output_type": "stream",
     "text": [
      "/usr/local/lib/python2.7/site-packages/IPython/kernel/__main__.py:2: RuntimeWarning: divide by zero encountered in log\n",
      "  from IPython.kernel.zmq import kernelapp as app\n"
     ]
    },
    {
     "data": {
      "image/png": "[encoded data removed]",
      "text/plain": [
       "<matplotlib.figure.Figure at 0x10fe609d0>"
      ]
     },
     "metadata": {},
     "output_type": "display_data"
    }
   ],
   "source": [
    "import nltk\n",
    "\n",
    "scatterCounts(getWordCounts(allcomments));"
   ]
  },
  {
   "cell_type": "markdown",
   "metadata": {},
   "source": [
    "**Deliverable 1a**\n",
    "\n",
    "Modify the word counter function to downcase and/or stem words, using the Porter Stemmer (see nltk for information).\n",
    "Overlay three plots:\n",
    "\n",
    "- original (blue)\n",
    "- downcase (red)\n",
    "- downcased and stemmed (green)"
   ]
  },
  {
   "cell_type": "code",
   "execution_count": 8,
   "metadata": {
    "collapsed": false
   },
   "outputs": [
    {
     "name": "stderr",
     "output_type": "stream",
     "text": [
      "/usr/local/lib/python2.7/site-packages/IPython/kernel/__main__.py:2: RuntimeWarning: divide by zero encountered in log\n",
      "  from IPython.kernel.zmq import kernelapp as app\n"
     ]
    },
    {
     "data": {
      "image/png": "[encoded data removed]",
      "text/plain": [
       "<matplotlib.figure.Figure at 0x10b115e50>"
      ]
     },
     "metadata": {},
     "output_type": "display_data"
    }
   ],
   "source": [
    "\n",
    "stemmer = porter.PorterStemmer()\n",
    "scatterCounts(getWordCounts(allcomments));\n",
    "scatterCounts(getWordCounts(allcomments, lambda x : stemmer.stem(x.lower())), 'g');\n",
    "scatterCounts(getWordCounts(allcomments, lambda x : x.lower()), 'r');\n",
    "# scatterCounts(getWordCounts(allcomments));"
   ]
  },
  {
   "cell_type": "markdown",
   "metadata": {},
   "source": [
    "**Deliverable 1b**\n",
    "\n",
    "Please explain the difference between the three lines.\n",
    "\n",
    "In each case, what percentage of the words are singletons, a.k.a. [hapax legomena](http://en.wikipedia.org/wiki/Hapax_legomenon)?"
   ]
  },
  {
   "cell_type": "code",
   "execution_count": 9,
   "metadata": {
    "collapsed": false
   },
   "outputs": [
    {
     "name": "stdout",
     "output_type": "stream",
     "text": [
      "52.3166592888\n"
     ]
    }
   ],
   "source": [
    "#Without stemming, two words that were of the same family were considered \n",
    "#as two separate words\n",
    "#This is shown in the plot with the green having higher log count.\n",
    "#\n",
    "#to do ...\n",
    "cnt = getWordCounts(allcomments, lambda x : stemmer.stem(x.lower()))\n",
    "singleton_cnt = 0.0\n",
    "for k in cnt.iteritems():\n",
    "    if k[1] == 1:\n",
    "        singleton_cnt+=1\n",
    "print ((singleton_cnt/len(cnt)) * 100)"
   ]
  },
  {
   "cell_type": "markdown",
   "metadata": {},
   "source": [
    "**Deliverable 1c** Write a modified version of getWordCounts that returns bigram counts. See nltk.util.bigrams.\n",
    "\n",
    "Make the plots from Deliverable 1a for the bigrams (with raw, downcased, and stemmed bigrams). \n",
    "Compute the percentage of singletones."
   ]
  },
  {
   "cell_type": "code",
   "execution_count": 10,
   "metadata": {
    "collapsed": false
   },
   "outputs": [],
   "source": [
    "from nltk.util import bigrams"
   ]
  },
  {
   "cell_type": "code",
   "execution_count": 11,
   "metadata": {
    "collapsed": false
   },
   "outputs": [
    {
     "name": "stdout",
     "output_type": "stream",
     "text": [
      "52.3166592888\n"
     ]
    },
    {
     "name": "stderr",
     "output_type": "stream",
     "text": [
      "/usr/local/lib/python2.7/site-packages/IPython/kernel/__main__.py:2: RuntimeWarning: divide by zero encountered in log\n",
      "  from IPython.kernel.zmq import kernelapp as app\n"
     ]
    },
    {
     "data": {
      "image/png": "[encoded data removed]",
      "text/plain": [
       "<matplotlib.figure.Figure at 0x11056afd0>"
      ]
     },
     "metadata": {},
     "output_type": "display_data"
    }
   ],
   "source": [
    "# your code\n",
    "# note that the word_proc argument to getWordCounts allows you to specify some preprocessing operations\n",
    "from nltk.util import ngrams\n",
    "def getWordCountsBiGrams(comments,word_proc = lambda x : x):\n",
    "    word_counts = Counter()\n",
    "    for comment in comments:\n",
    "        for sent in sent_tokenize(comment):\n",
    "            for word in word_tokenize(sent):\n",
    "                bigrams=ngrams(word_proc(word),2)\n",
    "                word_counts[word_proc(word)] += 1\n",
    "    return word_counts\n",
    "\n",
    "stemmer = porter.PorterStemmer()\n",
    "scatterCounts(getWordCountsBiGrams(allcomments));\n",
    "scatterCounts(getWordCountsBiGrams(allcomments, lambda x : stemmer.stem(x.lower())), 'g');\n",
    "scatterCounts(getWordCountsBiGrams(allcomments, lambda x : x.lower()), 'r');\n",
    "\n",
    "cnt = getWordCountsBiGrams(allcomments, lambda x : stemmer.stem(x.lower()))\n",
    "singleton_cnt = 0.0\n",
    "for k in cnt.iteritems():\n",
    "    if k[1] == 1:\n",
    "        singleton_cnt+=1\n",
    "print ((singleton_cnt/len(cnt)) * 100)"
   ]
  },
  {
   "cell_type": "markdown",
   "metadata": {},
   "source": [
    "**Deliverable 1d** Compute the frequency of each word in each set, using downcasing but not stemming.\n",
    "\n",
    "- Choose two subreddits (e.g., \"Libertarian\" and \"Conservative\")\n",
    "- Build a vocabulary of all words that appear in both subreddits.\n",
    "- Find the differences in word frequencies between the two subreddits. \n",
    "Print the top 10 and bottom 10 words.\n",
    "- Find the ratios of word frequencies between the two subreddits. Print the top 10 and bottom 10 words."
   ]
  },
  {
   "cell_type": "code",
   "execution_count": 37,
   "metadata": {
    "collapsed": false
   },
   "outputs": [
    {
     "name": "stdout",
     "output_type": "stream",
     "text": [
      "8421\n",
      "73634\n",
      "sorted diff\n",
      "[(u'.', 171), (u'you', 168), (u',', 158), (u'the', 130), (u'are', 90), (u'a', 88), (u'is', 84), (u'that', 81), (u'to', 72), (u\"''\", 65)]\n",
      "bottom\n",
      "[(u'about', -31), (u\"'s\", -32), (u'gay', -32), (u'our', -32), (u'conservative', -37), (u'minimum', -38), (u'was', -39), (u'wage', -44), (u'he', -62), (u'his', -66)]\n",
      "sorted ratios\n",
      "[(u'cops', 34.0), (u'liberty', 19.0), (u'taxation', 19.0), (u'safe', 14.0), (u'safety', 14.0), (u'property', 13.5), (u'paper', 13.0), (u'libertarians', 13.0), (u'whether', 13.0), (u'association', 12.0)]\n",
      "bottom\n",
      "[(u'weed', 0.125), (u'hour', 0.125), (u'imagine', 0.125), (u'wages', 0.125), (u'marijuana', 0.1111111111111111), (u'election', 0.08333333333333333), (u'alcohol', 0.08333333333333333), (u'general', 0.07142857142857142), (u'wage', 0.06382978723404255), (u'conservative', 0.02631578947368421)]\n"
     ]
    }
   ],
   "source": [
    "# your code\n",
    "import operator\n",
    "subreddit_names1 = ['Libertarian','Conservative']\n",
    "linebreak = '-----==----==---==-----'\n",
    "comments_of_both = []\n",
    "comments_of_both.append(subreddits['Libertarian'])\n",
    "comments_of_both.append(subreddits['Conservative'])\n",
    "vocabulary = set()\n",
    "all_words = []\n",
    "# print comments_of_both\n",
    "for c in comments_of_both:\n",
    "    for comms in c:\n",
    "        for sent in sent_tokenize(comms):\n",
    "#             print sent\n",
    "            for word in word_tokenize(sent):\n",
    "                vocabulary.add(word.lower())\n",
    "#                 print word\n",
    "                all_words.append(word.lower())\n",
    "# print vocabulary\n",
    "#To do .. frequency not count..\n",
    "    \n",
    "lib_voc = getWordCounts(subreddits['Libertarian'])\n",
    "con_voc = getWordCounts(subreddits['Conservative'])\n",
    "\n",
    "diffe_in_vocab = dict()\n",
    "ratios_in_vocab = dict()\n",
    "print len(vocabulary)\n",
    "print len(all_words)\n",
    "for i in vocabulary:\n",
    "#     print lib_voc[i]\n",
    "#     print con_voc[i]\n",
    "    if (lib_voc[i] > 0 and con_voc[i] > 0):\n",
    "        diffe_in_vocab[i]=(lib_voc[i]-con_voc[i])\n",
    "        ratios_in_vocab[i]=float(lib_voc[i])/(con_voc[i])\n",
    "    \n",
    "sorted_diff = sorted(diffe_in_vocab.items(), key=operator.itemgetter(1), reverse=True)\n",
    "sorted_ratio = sorted(ratios_in_vocab.items(), key=operator.itemgetter(1), reverse=True)\n",
    "# print lib_voc['the45']\n",
    "# for i in vocabulary:\n",
    "print \"sorted diff\"\n",
    "print sorted_diff[0:10]\n",
    "print \"bottom\"\n",
    "print sorted_diff[len(sorted_diff)-10:len(sorted_diff)]\n",
    "print \"sorted ratios\"\n",
    "print sorted_ratio[0:10]\n",
    "print \"bottom\"\n",
    "print sorted_ratio[len(sorted_ratio)-10:len(sorted_ratio)]\n",
    "    \n"
   ]
  },
  {
   "cell_type": "markdown",
   "metadata": {},
   "source": [
    "**Deliverable 1e** The Jurafsky et al paper uses a technique from Monroe et al (2008) to score words -- see the equations on the second and third pages of the paper.\n",
    "\n",
    "Reimplement this technique, setting $\\alpha_w = 0.01$ for all words, and $\\alpha_0 = V \\alpha_w$, with $V$ equal to the size of the vocabulary. Show the top words for your comparison groups, ranked by z-score. Explain how this word list relates to the previous two that you have computed."
   ]
  },
  {
   "cell_type": "code",
   "execution_count": 18,
   "metadata": {
    "collapsed": false
   },
   "outputs": [
    {
     "name": "stdout",
     "output_type": "stream",
     "text": [
      "[(u'government', 4.098622503217615), (u',', 3.6456776612967503), (u'.', 3.4976346551952), (u\"''\", 3.4788878749002703), (u'``', 3.4788878749002703), (u'the', 2.7840633360445612), (u'is', 2.5724768874596613), (u'a', 2.359348873218051), (u'just', 2.242439611357232), (u'it', 1.8983017807759586), (u'kind', 1.8788793400119426), (u\"n't\", 1.772005839919845), (u'with', 1.7109705190934763), (u'to', 1.5564007547291527), (u'one', 1.2435881616581663), (u'because', 1.192491688936957), (u'charged', 1.0777884464122207), (u'every', 0.986082940223097), (u'though', 0.9228130153897152), (u'god', 0.7834419372116166), (u'be', 0.76253579277014), (u'everyone', 0.5198774197719903), (u'sad', 0.42820990363248496), (u'of', 0.31913087602480644), (u'few', 0.31477003450202745), (u'and', 0.31334925729417934), (u'crime', 0.2521149763377736), (u'only', 0.0426335753694608), (u'tymoshenko', -0.0009835119754307586), (u'infowars', -0.009885809971987633), (u'crimes', -0.017071775554652707), (u'more', -0.09792576765999514), (u'quite', -0.3532974961267184), (u'prisoner', -0.4606448199553161), (u'basket', -0.4606448199553161), (u'oh', -0.575777490758175), (u'happened', -0.7962046351083345), (u'who', -0.9282308366389992), (u'guilty', -0.9620068108650407), (u'same', -0.996822957738238), (u'jail', -0.9996802141922848), (u'in', -1.00050517095195), (u'political', -1.2012887212007017), (u'convicted', -1.481630459804319), (u\"'s\", -1.6608082234332238), (u'she', -1.9072101174514065), (u'was', -2.5383858532452854)]\n",
      "138\n"
     ]
    }
   ],
   "source": [
    "import math\n",
    "aw = 0.01\n",
    "a0 = len(all_words)*aw\n",
    "length_of_i = len(lib_voc.keys())\n",
    "length_of_j = len(con_voc.keys())\n",
    "z_score = dict()\n",
    "for i in vocabulary:\n",
    "    num_i = (lib_voc[i]+aw)\n",
    "    num_j = (con_voc[i]+aw)\n",
    "    deno_i = (length_of_i)+a0-num_i\n",
    "    deno_j = (length_of_j)+a0-num_j\n",
    "    log_odds_ratio=math.log(num_i/deno_i) - math.log(num_j/deno_j)\n",
    "    sigma_square = (1/(num_i))+(1/(num_j))\n",
    "    z_score[i]=log_odds_ratio/math.sqrt(sigma_square)\n",
    "\n",
    "sorted_z_score = sorted(z_score.items(), key=operator.itemgetter(1), reverse=True)\n",
    "print sorted_z_score\n",
    "    \n",
    "print len(all_words)"
   ]
  },
  {
   "cell_type": "markdown",
   "metadata": {},
   "source": [
    "** Extra-credit 1 ** (small) Make a plot as similar as possible to the ones in the Monroe et al paper, e.g. figure 5."
   ]
  },
  {
   "cell_type": "code",
   "execution_count": 14,
   "metadata": {
    "collapsed": false
   },
   "outputs": [],
   "source": [
    "# your code"
   ]
  },
  {
   "cell_type": "markdown",
   "metadata": {},
   "source": [
    "# Word Lists #\n",
    "\n",
    "In this section, you will use the [General Inquirer](http://www.wjh.harvard.edu/~inquirer) lexicon to learn more about these political subreddits. Download the \"inqtabs.txt\" file at [this URL](http://www.wjh.harvard.edu/~inquirer/inqtabs.txt)."
   ]
  },
  {
   "cell_type": "code",
   "execution_count": 64,
   "metadata": {
    "collapsed": false,
    "scrolled": true
   },
   "outputs": [
    {
     "name": "stdout",
     "output_type": "stream",
     "text": [
      "{'yellow': [], 'four': [], 'centimeter': [], 'aggression': ['N'], 'conjure': ['P'], 'eligible': [], 'electricity': [], 'rupture': ['N', 'N'], 'rouse': ['P'], 'scold': ['N', 'N'], 'originality': ['P'], 'outwit': ['P'], 'sputter': ['N'], 'lord': [], 'immature': ['N'], 'slothful': ['N'], 'co-operation': ['P'], 'regional': [], 'stipulate': [], 'pigment': [], 'wisconson': [], 'appropriation': [], 'lignite': [], 'politician': [], 'disturb': ['N', 'N', 'N'], 'prize': ['P'], 'wooden': [], 'wednesday': [], 'brutish': ['N'], 'hague': [], 'succession': [], 'steadfastness': ['P'], 'reliable': ['P'], 'non-violent': ['P'], 'charter': [], 'maneuver': [], 'miller': [], 'bacon': [], 'pulse': [], 'budget': [], 'elegant': ['P'], 'rusty': ['N'], 'valiant': ['P'], 'ruthless': ['N'], 'cyprus': [], 'united-nations': [], 'admiral': [], 'specialist': [], 'insinuation': [], 'crouch': [], 'avert': ['N'], 'reporter': [], 'here': [], 'herd': [], 'china': [], 'cult': [], 'shriek': ['N'], 'calculate': [], 'doldrums': ['N'], 'substance': [], 'unwillingness': ['N'], 'elaborate': ['P'], 'unfriendly': ['N'], 'controversy': ['N'], 'military': [], \"i'm\": [], 'redevelopment': [], 'cancellation': ['N'], 'criticism': [], 'golden': ['P'], 'divide': ['N', 'N'], 'classification': [], 'criticise': [], 'replace': [], 'brought': [], 'sizeable': [], 'stern': ['N'], 'unit': [], 'sexual': [], 'spoke': [], 'insecurity': ['N'], 'impartiality': ['P'], 'cannibal': ['N'], 'backing': ['P'], 'symphony': [], 'music': [], 'telegraph': [], 'passport': [], 'mystic': [], 'strike': ['N', 'N'], 'until': [], 'holy': ['P'], 'relax': [], 'successful': ['P'], 'hereby': [], 'hurt': ['N', 'N'], 'glass': [], 'tying': [], 'hurl': [], 'midst': [], 'hold': [], 'pursue': [], 'sweeten': ['P'], 'blade': [], 'imperialism': [], 'example': [], 'wane': ['N'], 'unjust': ['N'], 'household': [], 'currency': [], 'caution': [], 'want': [], 'absolute': [], 'preferably': [], 'provincial': [], 'validity': ['P'], 'travel': ['P'], 'damage': ['N', 'N'], 'revisit': [], 'machine': [], 'how': [], 'hot': ['N'], 'hop': [], 'significance': ['P'], 'preferable': [], 'classify': [], 'abstraction': [], 'beauty': ['P'], 'despondent': [], 'modest': ['P'], 'unselfish': ['P'], 'promotion': [], 'effective': ['P'], 'revolt': ['N'], 'headquarters': [], 'stupor': ['N'], 'democratic': [], 'wing': [], 'wind': [], 'wine': [], 'restriction': ['N'], 'govern': [], 'vary': [], 'stoicism': [], 'sunshine': [], 'fidelity': ['P'], 'wrought': ['N'], 'dreamer': [], 'fit': ['P', 'P'], 'unforeseen': ['N'], 'heretofore': [], 'fix': ['N'], 'secede': ['N'], 'fig': [], 'hidden': [], 'admirable': ['P'], 'glorify': ['P'], 'grievous': [], 'enrich': ['P'], 'commemorate': ['P'], 'renunciation': ['N'], 'detachment': ['N'], 'interrupt': ['N'], 'township': [], 'sixteen': [], 'silver': [], 'scholar': [], 'merrily': ['P'], 'debut': [], 'spotless': ['P'], 'arrow': [], 'burial': [], 'whim': [], 'angola': [], 'garment': [], 'displacement': [], 'cathedral': [], 'ring': [], 'whip': ['N', 'N', 'N'], 'borne': [], 'toleration': ['P'], 'misfortune': ['N'], 'diction': [], 'freeze': [], 'encourage': ['P', 'P'], 'adapt': [], 'outburst': ['N'], 'foundation': [], 'fugitive': ['N'], 'managerial': [], 'sensory': [], 'estimate': [], 'knit': [], 'enormous': [], 'ate': [], 'shelves': [], 'rumple': ['N'], 'speedy': [], 'symbolize': ['P'], 'ardour': [], 'angelic': ['P'], 'wash': [], 'instruct': [], 'clamorous': ['N'], 'clarity': ['P'], 'bitten': [], 'suitable': ['P'], 'exchequer': [], 'service': ['N'], 'engagement': [], 'master': [], 'infamous': ['N'], 'woe': ['N'], 'bitter': ['N'], 'listen': [], 'danish': [], 'collapse': ['N', 'N'], 'geneva': [], 'convention': [], 'wisdom': ['P'], 'technique': [], 'task': [], 'predictable': [], 'crawl': ['N'], 'peril': ['N'], 'exultation': ['P'], 'coward': ['N'], 'tree': [], 'likely': [], 'project': [], 'idle': [], 'endure': [], 'seminary': [], 'acquisition': [], 'acclaim': ['P'], 'entail': [], 'willingness': ['P'], 'runner': [], 'boston': [], 'untrained': ['N'], 'antagonistic': ['N'], 'tale': [], 'dozen': [], 'wholesome': ['P'], 'person': [], 'responsible': ['P'], 'kremlin': [], 'rhodesia': [], 'shall': [], 'limitless': [], 'vexing': ['N'], 'simplify': ['P', 'P'], 'affirmation': ['P'], 'mouth': [], 'addict': ['N'], 'letter': [], 'entry': [], 'drought': ['N'], 'morality': ['P'], 'singer': [], 'antitrust': ['N'], 'grove': [], 'confederation': ['P'], 'professor': [], 'camp': [], 'consummate': ['P'], 'thunder': [], 'nineteenth': [], 'scream': ['N', 'N'], 'incomplete': [], 'marvel': ['P'], 'advisory': [], 'bomb': ['N', 'N'], 'undue': ['N'], 'gauge': [], 'hazy': ['N'], 'participate': [], 'hungary': [], 'orleans': [], 'busy': [], 'quaint': ['P'], 'cupid': ['P'], 'bush': [], 'bliss': ['P'], 'rich': ['P', 'P', 'P', 'P', 'P', 'P'], 'heartily': ['P'], 'rice': [], 'plate': [], 'denounce': ['N'], 'foremost': ['P'], 'pocket': [], 'altogether': [], 'relish': ['P'], 'volatility': ['N'], 'boarder': [], 'patch': [], 'adherence': ['P'], 'hasten': [], 'respond': [], 'traverse': [], 'disaster': ['N'], 'fair': ['P', 'P', 'P'], 'expediency': [], 'sensitivity': ['P'], 'iron-curtain': [], 'unexpectedly': ['N'], 'radius': [], 'result': [], 'fail': ['N', 'N', 'N', 'N'], 'hero': ['P'], 'best': ['P'], 'irk': ['N'], 'scorn': ['N'], 'occupational': [], 'side': [], 'preserve': [], 'indecisive': [], 'never': [], 'extend': [], 'nature': [], 'superficial': ['N'], 'reconstitute': [], 'extent': [], 'defiance': ['N'], 'debt': [], 'roller': [], 'pity': [], 'accident': ['N'], 'disdain': ['N'], 'country': [], 'sublime': ['P'], 'logic': ['P'], 'argue': ['N'], 'eradicate': ['N'], 'irresponsible': ['N'], 'hers': [], 'canyon': [], 'pregnancy': [], 'truthful': ['P'], 'roofer': [], 'bewilder': ['N'], 'source': [], 'union': [], 'subside': ['N'], 'subsidy': ['P'], 'much': [], 'stadium': [], 'privilege': [], 'fry': [], 'adroitly': ['P'], 'incompetent': ['N'], 'life': [], 'rather': [], 'spit': [], 'eastern': [], 'worker': [], 'wish': [], 'confinement': ['N'], 'chile': [], 'child': [], 'spin': [], 'chill': [], 'commerce': [], 'presidency': [], 'administrative': [], 'employ': [], 'calcium': [], 'vulnerability': [], 'congratulation': ['P'], 'characterize': [], 'eighteen': [], 'violin': [], 'severity': ['N'], 'cumulative': [], 'enlistment': [], 'haphazard': ['N'], 'harmony': ['P'], 'emphatic': [], 'european': [], 'exertion': ['P'], 'marcher': [], 'seamen': [], 'ownership': [], 'supper': [], 'haggard': ['N'], 'tune': [], 'rebut': ['N'], 'wanderer': [], 'intrusion': ['N'], 'vice-president': [], 'bonny': ['P'], 'academic': [], 'quantitative': [], 'corporate': [], 'plaque': [], 'uraguay': [], 'capitol': [], 'distribute': [], 'beset': ['N'], 'disguise': ['N'], 'plight': ['N'], 'brandish': ['N'], 'previous': [], 'ease': ['P', 'P'], 'had': [], 'advancement': ['P'], 'hag': ['N'], 'hay': [], 'obedient': ['P'], 'innocent': ['P'], 'prison': ['N', 'N'], 'falter': ['N'], 'east': [], 'hat': [], 'municipal': [], 'survival': ['P'], 'disagreement': ['N'], 'possible': [], 'possibly': [], 'indicative': ['P'], 'roughness': ['N'], 'birth': [], 'shadow': ['N'], 'unique': ['P'], 'desire': ['N'], 'psychological': [], 'excitedness': ['P'], 'pencil': [], 'remind': [], 'misled': [], 'battlefield': ['N'], 'attorney': [], 'right': ['P', 'P'], 'old': [], 'creek': [], 'crowd': [], 'people': [], 'czech': [], 'crown': [], 'captive': ['N'], 'sure': [], 'insistence': [], 'embitter': [], 'animate': [], 'creep': [], 'sociology': [], 'for': [], 'bottom': [], 'fox': [], 'creative': ['P'], 'witty': ['P'], 'foe': ['N'], 'fog': [], 'theological': [], 'palatable': ['P'], 'shaker': [], 'energy': [], 'rep': [], 'yoke': [], 'defensive': ['N'], 'memorable': ['P'], 'shaken': [], 'restlessness': ['N'], 'anomalous': ['N'], 'despair': ['N', 'N'], 'aden': [], 'meddle': ['N'], 'nixon': [], 'sob': ['N'], 'facility': [], 'infraction': ['N'], 'marshall': [], 'honeymoon': ['P'], 'son': [], 'administer': [], 'clatter': ['N'], 'wrap': [], 'fabric': [], 'suffice': ['P'], 'godliness': ['P'], 'avail': [], 'width': [], 'greatness': ['P'], 'panacea': [], 'happy': ['P', 'P', 'P', 'P'], 'insurrection': [], 'offer': ['P', 'P', 'P'], 'fascination': ['P'], 'hemisphere': [], 'understandable': ['P'], 'straggle': ['N'], 'safeguard': ['P'], 'otter': [], 'underdeveloped': [], 'misinform': ['N'], 'inside': [], 'equalization': [], 'pest': ['N'], 'passenger': [], 'juvenile': [], 'proud': ['P'], 'liberal': ['P', 'P'], 'unnerve': ['N'], 'proven': [], 'crumble': ['N'], 'somebody': [], 'exist': [], 'dealer': [], 'eventual': [], 'floor': ['N'], 'cambodia': [], 'flood': [], 'republic': [], 'ambitious': [], 'momentary': [], 'smell': [], 'roll': [], 'intend': [], 'comely': ['P'], 'intent': [], 'persecution': ['N'], 'entrust': ['P'], 'congested': ['N'], 'security-council': [], 'reorganization': [], 'dogma': [], 'quandary': ['N'], 'time': [], 'push': ['N', 'N', 'N'], 'subvert': ['N'], 'peacock': [], 'chain': [], 'whoever': [], 'per': [], 'chair': [], 'hole': ['N', 'N'], 'ballet': [], 'uneven': ['N'], 'vex': ['N'], 'recurrence': [], 'oversight': ['N'], 'bogus': ['N'], 'persevere': ['P'], 'jerk': ['N', 'N'], 'pursuant': [], 'navigable': ['P'], 'consolidation': [], 'choice': [], 'embark': [], 'gloomy': ['N'], 'mourn': ['N', 'N'], 'fullest': [], 'betterment': [], 'minute': [], 'cooky': [], 'unify': [], 'pea': [], 'leave': [], 'tap': [], 'settle': ['P'], 'team': [], 'speculation': [], 'unaware': [], 'prevent': [], 'spiritual': [], 'accomplishment': ['P'], 'occurrence': [], 'insignificant': ['N'], 'attic': [], 'sigh': [], 'prediction': [], 'sign': [], 'adulation': ['P'], 'educate': [], 'cleanliness': ['P'], 'convulse': [], 'jeopardy': ['N'], 'melt': [], 'current': [], 'lazily': ['N'], 'boost': ['P', 'P'], 'jury': [], 'abscond': ['N'], 'assertive': [], 'funeral': [], 'contemplate': [], 'upgrade': ['P'], 'address': [], 'alone': [], 'along': [], 'momentous': ['P'], 'enroll': [], 'redemption': ['P'], 'brilliant': ['P'], 'root': ['N'], 'wherever': [], 'ineffective': ['N'], 'influx': [], 'respite': ['P'], 'love': ['P', 'P', 'P', 'P'], 'proportion': [], 'prefer': [], 'logical': ['P'], 'bloody': ['N'], 'marvelous': ['P'], 'fake': ['N'], 'red': [], 'undergone': [], 'positive': ['P'], 'angry': ['N'], 'vigour': [], 'scope': [], 'theoretical': [], 'wicked': ['N'], 'afford': [], 'subsistence': ['P'], 'apparent': [], 'oregon': [], 'visual': [], 'ignorant': ['N'], 'degrade': ['N'], 'easiest': [], 'behalf': ['P'], 'contemporaneous': [], 'involve': ['N'], 'wool': [], 'pretend': ['N'], 'fatalistic': ['N'], 'privy': ['P'], 'believer': [], 'instable': ['N'], 'geograpghy': [], 'harmonious': ['P'], 'insubordination': [], 'greatcoat': [], 'parachute': [], 'intransigent': [], 'conciliatory': [], 'admirer': ['P'], 'stole': ['N'], 'evidently': [], 'winter': [], 'savor': ['P'], 'writhe': ['N'], 'elephant': [], 'optimal': ['P'], 'parameter': [], 'undertook': [], 'edinburgh': [], 'explorer': [], 'ivory-coast': [], 'spot': ['N'], 'rehabilitate': [], 'date': [], 'such': [], 'data': [], 'egotistical': ['N'], 'disagreeable': ['N'], 'pulley': [], 'stress': ['N', 'N'], 'natural': ['P', 'P'], 'correlate': [], 'conscious': [], 'applicant': [], 'opinionated': ['N'], 'so': [], 'swollen': [], 'skirmish': ['N'], 'dreamland': ['P'], 'drunken': ['N'], 'noteworthy': [], 'feature': [], 'course': [], 'yearn': ['N'], 'incapacity': [], 'horrify': ['N'], 'tendency': [], 'thoughtfulness': ['P'], 'tore': [], 'avid': ['P'], 'derive': [], 'overhaul': [], 'haughty': ['N'], 'imperishable': [], 'torn': [], 'stupidity': ['N'], 'attraction': ['P'], 'suspicion': ['N'], 'antipathy': ['N'], 'suspension': ['N'], 'tory': [], 'deviant': [], 'instantly': [], 'thereby': [], 'civilian': [], 'bashful': ['N'], 'nation': [], 'twilight': [], 'revert': ['N'], 'dignified': ['P'], 'instability': ['N'], 'amnesty': ['P'], 'quarter': [], 'quartet': [], 'turtle': [], 'square': [], 'honduras': [], 'beloved': ['P'], 'unlikelihood': [], 'sponsor': [], 'neighbourhood': [], 'giddy': ['P'], 'joker': [], 'canvas': [], 'abide': ['P'], 'boundless': ['P'], 'investigation': [], 'trauma': ['N'], 'formula': [], 'ascendant': [], 'worthiness': ['P'], 'siege': ['N'], 'palatial': ['P'], 'million': [], 'seventh': [], 'possibility': [], 'quite': [], 'lucrative': ['P'], 'matchless': ['P'], 'plea': [], 'grandma': [], 'remainder': [], 'seventy': [], 'patronage': ['P'], 'workmanship': ['P'], 'wrong': ['N', 'N'], 'initiate': [], 'impure': ['N'], 'massive': [], 'bothersome': ['N'], 'neglect': ['N', 'N'], 'puny': ['N'], 'emotion': [], 'intuition': [], 'symmetry': ['P'], 'spoken': [], 'reprisal': [], 'one': [], 'specifically': [], 'spanish': [], 'vote': [], 'open': ['P', 'P'], 'languish': ['N'], 'city': [], 'boulevard': [], 'eastern-europe': [], 'convent': [], 'bite': ['N', 'N', 'N'], 'waist': [], 'indicate': [], 'shiver': ['N'], 'draft': [], 'convene': ['P'], 'cite': [], 'snatch': ['N'], 'ridiculous': ['N'], 'photographic': [], 'inventor': ['P'], 'impractical': [], 'rival': ['N', 'N'], 'stammer': ['N'], 'typography': [], 'future': [], 'glossy': ['P'], 'counselor': [], 'janitor': [], 'damned': ['N'], 'proactive': ['P'], 'prospect': [], 'illness': ['N'], 'sumptuous': ['P'], 'sag': ['N'], 'argument': ['N'], 'sad': ['N'], 'say': [], 'sagacity': ['P'], 'flatness': [], 'sap': ['N'], 'saw': [], 'perplex': ['N'], 'fashionable': ['P'], 'unsuitable': [], 'aside': [], 'note': [], 'take': [], 'destroy': ['N'], 'coincide': [], 'opposite': [], 'knew': [], 'compress': [], 'knee': [], 'creditable': [], 'adaptability': ['P'], 'lawn': [], 'energize': ['P'], 'touchy': ['N'], 'average': [], 'constable': [], 'drive': ['N'], 'crooked': ['N'], 'axe': [], 'jittery': ['N'], 'atlantic': [], 'salt': [], 'intoxicate': ['N'], 'surplus': [], 'infuriate': ['N'], 'merit': ['P', 'P'], 'far-reaching': [], 'bright': ['P'], 'inconsistent': [], 'scarce': [], 'aggressive': ['N'], 'pacific': [], 'slot': [], 'fibre': [], 'slow': [], 'unkind': ['N'], 'liberation': [], 'betrothal': ['P'], 'outrage': ['N'], 'congressional': [], 'dispute': ['N', 'N'], 'godlike': ['P'], 'dissimilar': [], 'psychiatrist': [], 'assistant': ['P'], 'between': [], 'simplistic': ['N'], 'infallible': ['P'], 'submerge': [], 'prime': ['P'], 'resource': [], 'artist': [], 'assimilate': [], 'middle-class': [], 'borrow': [], 'skyline': [], 'priest': [], 'neutralism': [], 'landlord': [], 'liable': ['N'], 'worrier': ['N'], 'where': [], 'vision': [], 'temperance': ['P'], 'diver': [], 'mutton': [], 'receipt': [], 'morocco': [], 'ostensibly': [], 'alarming': ['N'], 'kilometer': [], 'bureau': [], 'forsake': ['N'], 'pitiless': ['N'], 'useful': ['P'], 'adept': ['P'], 'concentrate': [], 'spare': ['P'], 'spark': [], 'undermine': ['N'], 'oust': ['N'], 'many': [], 'belie': ['N'], 'expression': [], \"can't\": [], 'allowance': ['P'], 'adjudication': [], 'gaiety': ['P'], 'twin': [], 'comeback': ['P'], 'extinct': ['N'], 'boat': [], 'reconcile': ['P'], 'good-by': [], 'plantation': [], 'companionship': ['P'], 'stretch': [], 'west': [], 'vacation': [], 'concede': [], 'breath': [], 'almighty': ['P'], 'likewise': [], 'reflex': [], 'enable': ['P'], 'unsafe': ['N'], 'thousand': [], 'observe': [], 'singly': [], 'abject': ['N'], 'former': [], 'co-ordination': [], 'tribal': [], 'pretence': [], 'newspaperman': [], 'newspaper': [], 'situation': [], 'perpetuate': [], 'aluminium': [], 'riot': [], 'canoe': [], 'dubious': ['N'], 'blah': ['N'], 'regularity': [], 'technology': [], 'fame': ['P'], 'parliament': [], 'surveillance': [], 'breakdown': ['N'], 'swiss': [], 'sickness': ['N'], 'defy': ['N'], 'allocation': [], 'barber': [], 'entanglement': ['N'], 'cheery': ['P'], 'costa': [], 'undefined': [], 'staunchness': ['P'], 'comer': [], 'dimension': [], 'scholarship': [], 'summer': [], 'being': [], 'slime': ['N'], 'rest': [], 'steamer': [], 'disperse': [], 'potentiality': [], 'provocation': ['N'], 'presumption': [], 'scamper': ['P'], 'instrument': [], 'overthrow': ['N'], 'structural': [], 'joyful': ['P'], 'skies': [], 'around': [], 'dark': ['N'], 'snarl': ['N'], 'traffic': [], 'darn': ['N'], 'vacuum': [], 'unesco': [], 'snare': ['N'], 'vague': ['N'], 'bravery': ['P'], 'sensational': ['P'], 'stranger': [], 'defecate': [], 'shutter': [], 'superiority': ['P'], 'clay': [], 'stationary': [], 'obstruct': ['N'], 'satisfactory': ['P'], 'superintendent': [], 'lebanon': [], 'supplementary': [], 'moreover': [], 'racial': [], 'divine': ['P', 'P'], 'endeavor': [], 'noon': [], 'seaman': [], 'corrosive': ['N'], 'exit': ['N'], 'situate': [], 'refer': [], 'contingent': [], 'power': [], 'intimate': ['P'], 'ration': ['N'], 'poise': ['P'], 'forgetfulness': ['N'], 'leadership': [], 'standpoint': [], 'thailand': [], 'stone': [], 'package': [], 'industry': [], 'favorite': ['P'], 'slender': [], 'meal': [], 'practicable': ['P'], 'neighbor': [], 'act': [], 'luck': ['P'], 'chivalry': ['P'], 'shapely': [], 'image': [], 'surinam': [], 'widower': [], 'lively': ['P'], 'apologize': [], 'financial': [], 'burglar': ['N'], 'her': [], 'gleam': ['P', 'P'], 'glean': ['P'], 'philadelphia': [], 'unassured': [], 'futile': [], 'series': [], 'hen': [], 'bubble': [], 'complete': ['P', 'P'], 'antiquated': ['N'], 'unreliable': ['N'], 'mice': [], 'marital': ['P'], 'with': [], 'amplify': ['P'], 'pull': [], 'rush': [], 'october': [], 'monopoly': [], 'flirt': ['P'], 'impute': [], 'dirty': ['N'], 'agree': [], 'gone': [], 'citizenship': [], 'fright': [], 'gratuitous': ['N'], 'certain': [], 'am': [], 'wartime': [], 'an': [], 'as': [], 'at': [], 'laboratory': [], 'ax': ['N'], 'tranquil': ['P'], 'tremble': [], 'cream': [], 'novice': ['N'], 'vocational': [], 'abolish': ['N'], 'tight': [], 'unparalleled': [], 'puppy': [], 'standardize': ['P'], 'congress': [], 'damnable': ['N'], 'retardation': [], 'brotherhood': ['P'], 'unanimous': [], 'infirmity': [], 'vivacious': ['P'], 'thorn': [], 'groom': ['P'], 'impossibility': [], 'mast': [], 'mass': [], 'original': [], 'consider': ['P', 'P'], 'beware': ['N'], 'weariness': ['N'], 'merchantile': [], 'subtle': ['P'], 'fairness': ['P'], 'attentive': ['P'], 'sparkle': ['P'], 'overlying': [], 'to': [], 'tail': [], 'smile': ['P', 'P', 'P', 'P'], 'sedition': [], 'norm': [], 'ghana': [], 'tatter': ['N'], 'appointment': [], 'discrepant': ['N'], 'blockade': [], 'candid': ['P'], 'manageable': ['P'], 'condition': [], 'sans': [], 'ingratitude': ['N'], 'large': [], 'sang': [], 'desertion': ['N'], 'adjust': ['P'], 'small': [], 'joiner': [], 'sank': ['N'], 'ninetieth': [], 'methodical': [], 'past': [], 'honourable': [], 'pass': ['P', 'N', 'N', 'N'], 'destitute': ['N'], 'investment': [], 'quicken': ['P'], 'clock': [], 'imperceptible': [], 'undecided': [], 'nurse': ['P'], 'method': [], 'contrast': [], 'full': [], 'desegregation': [], 'empower': ['P'], 'indecision': [], 'east-germany': [], 'november': [], 'legend': [], 'compliance': ['P'], 'experience': ['P', 'P'], 'prior': [], 'acquittal': ['P'], 'pick': ['N'], 'cessation': [], 'sweetness': ['P'], 'smuggle': ['N'], 'tour': [], 'via': [], 'depart': [], 'vie': ['N'], 'enactment': [], 'follower': [], 'regiment': [], 'thought': [], 'coercion': ['N'], 'select': [], 'crusader': ['P'], 'granular': [], 'attendance': ['P'], 'implore': ['N'], 'sitter': [], 'gorgeous': ['P'], 'more': [], 'door': [], 'befitting': ['P'], 'company': ['P'], 'coyote': [], 'doom': ['N', 'N'], 'vigorous': [], 'enlightenment': ['P'], 'science': [], 'knocker': [], 'mali': [], 'male': [], 'scramble': [], 'beautiful': [], 'prompt': ['P', 'P'], 'taunt': ['N', 'N'], 'thorough': ['P'], 'accept': ['P'], 'autumn': [], 'kenya': [], 'gallon': [], 'scar': ['N'], 'dress': [], 'condemn': ['N', 'N'], 'information': [], 'dazzle': ['P'], 'imminent': [], 'fruition': ['P'], 'enlarge': [], 'cling': [], 'automotive': [], 'occur': [], 'creature': [], 'plant': [], 'anoint': ['P'], 'signature': [], 'sympathize': ['P'], 'unsound': ['N'], 'plane': [], 'waver': [], 'ethics': ['P'], 'authentic': ['P'], 'semblance': ['P'], 'refuse': ['N'], 'imagery': [], 'resemble': [], 'register': [], 'fundamental': [], 'geographic': [], 'mexican': [], 'cockiness': ['N'], 'ameliorate': ['P'], 'distortion': ['N'], 'attitude': [], 'embassy': [], 'cheerfulness': [], 'urbanization': [], 'ally': ['P'], 'wry': [], 'colleague': ['P'], 'motley': ['N'], 'propose': [], 'consign': ['P'], 'easterner': [], 'misuse': ['N'], 'speculate': [], 'always': [], 'found': [], 'disorganized': ['N'], 'week': [], 'england': [], 'upstairs': [], 'resolute': ['P'], 'reduce': [], 'police': [], 'hemispheric': [], 'measurement': [], 'operation': [], 'terrify': ['N'], 'mrs.': [], 'psychology': [], 'research': [], 'sociological': [], 'ministerial': [], 'darling': ['P'], 'highway': [], 'belief': [], 'risen': [], 'cockpit': [], 'qualify': ['P', 'P'], 'murmur': [], 'imagine': [], 'reproach': ['N'], 'director': [], 'looseness': [], 'expedient': ['N'], 'testament': [], 'contingency': [], 'delicate': ['P'], 'major': ['P'], 'belligerent': ['N'], 'number': [], 'preservation': [], 'slipper': [], 'sequester': ['N'], 'glitter': ['P', 'P'], 'pledge': ['P'], 'guess': [], 'peaceable': ['P'], 'jew': [], 'jet': [], 'introduction': [], 'hallowed': ['P'], 'flimsy': ['N'], 'saint': ['P'], 'molecular': [], 'elaboration': ['P'], 'relationship': [], 'immediate': [], 'appreciation': ['P'], 'consult': ['P'], 'undependability': ['N'], 'interviewer': [], 'rampant': ['N'], 'grace': ['P'], 'ungrateful': ['N'], 'recruitment': [], 'annihilation': ['N'], 'pennsylvania': [], 'marriage': ['P'], 'beneficial': ['P'], 'philosophic': [], 'defect': ['N'], 'livery': [], 'antarctica': [], 'caress': ['P', 'P'], 'servitude': ['N'], 'gasket': [], 'sell': [], 'permanence': [], 'self': [], 'jeopardize': ['N'], 'commotion': ['N'], 'reliance': [], 'also': [], 'internal': [], 'depression': ['N', 'N'], 'analogy': [], 'frail': [], 'brace': [], 'play': [], 'hurtle': [], 'yawn': ['N'], 'ceremony': [], 'plan': [], 'unequal': ['N'], 'seize': ['N'], 'covet': ['N'], 'cover': [], 'artistic': [], 'barren': ['N'], 'barrel': [], 'bulletin': [], 'despise': ['N', 'N'], 'ugh': [], 'gold': ['P'], 'exterminate': ['N'], 'agonize': ['N'], 'affix': ['P'], 'aghast': ['N'], 'desolate': ['N'], 'freight': [], 'defender': ['P'], 'occupation': [], 'impact': [], 'writer': [], 'factor': [], 'indifference': ['N'], 'uncontested': [], 'dependent': ['N'], 'liquid': [], 'resent': ['N'], 'remedy': ['P'], 'compass': [], 'distraction': ['N'], 'enemy': ['N'], 'progressive': ['P'], 'cry': [], 'proclaim': [], 'kill': ['N', 'N'], 'obscure': ['N'], 'river': [], 'outlaw': ['N'], 'insane': ['N'], 'rhodesian': [], 'set': [], 'creator': [], 'overwhelm': [], 'potent': ['P'], 'sex': [], 'see': [], 'migration': [], 'sea': [], 'outward': [], 'shower': [], 'unsettling': ['N'], 'movie': [], 'worth-while': ['P'], 'fission': [], 'topmost': ['P'], 'somber': ['N'], 'rite': [], 'avoidance': ['N'], 'nope': [], 'kneel': [], 'europe': [], 'candor': ['P'], 'hardship': ['N'], 'premises': [], 'postponement': [], 'peacetime': [], 'incident': [], 'tramp': ['N'], 'legislature': [], 'last': [], 'influential': [], 'barely': [], 'connection': [], 'palistine': [], 'long-term': [], 'poverty': ['N'], 'approve': ['P', 'P'], 'shortsighted': ['N'], 'load': ['N'], 'majesty': ['P'], 'drunk': ['N', 'N'], 'loan': [], 'allegiance': ['P'], 'community': ['P'], 'coincidence': [], 'adaptation': ['P'], 'church': [], 'indefinite': ['N'], 'belt': ['N'], 'worthless': ['N'], 'devil': ['N'], 'filth': ['N'], 'acceptance': ['P'], 'satire': [], 'rattle': ['N'], 'proprietor': [], 'extravagant': ['N'], 'rosy': ['P'], 'firm': [], 'sweetheart': ['P'], 'champion': ['P'], 'fire': ['N', 'N', 'N'], 'infect': ['N'], 'proprietary': ['P'], 'bitchy': ['N'], 'adaptable': ['P'], 'moderation': ['P'], 'awake': [], 'representative': [], 'systematic': [], 'uncertain': [], 'hostess': [], 'judicial': [], 'enrollment': [], 'empirical': [], 'admire': ['P'], 'technical': [], 'disproportionate': ['N'], 'error': ['N'], 'swim': [], 'pound': ['N'], 'agitation': ['N'], 'folksy': [], 'vow': [], 'vanish': ['N'], 'chase': ['N', 'N'], 'unfit': ['N'], 'funny': ['P', 'P', 'P'], 'well-grounded': [], 'seek': [], 'shorten': [], 'ruler': [], 'serum': [], 'forgiveness': ['P'], 'commune': ['P'], 'comprehensive': ['P'], 'defeat': ['N', 'N'], 'epithet': ['N'], 'alert': [], 'necessity': [], 'nickname': [], 'fabrication': ['N'], 'focal': [], 'recent': [], 'expend': [], 'concrete': [], 'clearance': [], 'comprise': [], 'uncouth': ['N'], 'telegram': [], 'fiend': ['N'], 'unto': [], 'relevancy': ['P'], 'christendom': [], 'reap': ['P'], 'admission': [], 'eager': ['P'], 'location': [], 'relevance': ['P'], 'shove': ['N'], 'australia': [], 'emergency': ['N'], 'couple': [], 'wives': [], 'quest': [], 'cataclysm': ['N'], 'abound': ['P'], 'measureless': [], 'standstill': ['N'], 'tire': ['N', 'N', 'N'], 'formal': [], 'pertinent': ['P'], 'underway': [], 'consensus': ['P'], 'continue': [], 'stylish': ['P'], 'disorder': ['N'], 'senate': [], 'goddamn': ['N'], 'bounce': [], 'oval': [], 'mighty': ['P'], 'sight': [], 'scandal': ['N'], 'curious': [], 'pale': [], 'amicable': ['P'], 'irresistible': ['P'], 'wrongful': ['N'], 'novelty': ['P'], 'religion': [], 'behave': [], 'temple': [], 'inclination': [], 'be': [], 'object': ['N'], 'odor': [], 'agreement': ['P'], 'nowhere': [], 'by': [], 'anything': [], 'modernity': ['P'], 'ambush': ['N', 'N'], 'forgave': ['P'], 'repair': ['P', 'P'], 'colorado': [], 'into': [], 'recreate': [], 'appropriate': ['P'], 'primarily': ['P'], 'repaid': [], 'contributor': ['P'], 'next': [], 'striven': [], 'span': [], 'chide': ['N'], 'custom': [], 'occupy': [], 'mishandle': ['N'], 'suit': ['P', 'P'], 'elsewhere': [], 'jewish': [], 'poster': [], 'atop': [], 'slump': ['N'], 'pastor': [], 'link': [], 'esplanade': [], 'atom': [], 'line': [], 'considerable': [], 'inhumane': ['N'], 'up': [], 'us': [], 'maturity': ['P'], 'slander': ['N'], 'verification': ['P'], 'mature': ['P', 'P', 'P'], 'medical': [], 'genial': ['P'], 'impostor': [], 'nationalist': [], 'chad': [], 'oddity': ['N'], 'overland': [], 'influence': [], 'haunt': ['N'], 'chat': [], 'graceful': ['P'], 'nationalism': [], 'stiffly': [], 'sunken': [], 'idleness': ['N'], 'uranium': [], 'invalid': ['N'], 'occasional': [], 'deviate': ['N'], 'revision': [], 'scapegoat': ['N'], 'scrub': [], 'energetic': ['P'], 'besiege': ['N'], 'oblige': ['P'], 'lucid': ['P'], 'prosecution': ['N'], 'suppression': ['N'], 'curtail': ['N'], 'hackney': ['N'], 'ago': [], 'lane': [], 'land': [], 'fighter': ['N'], 'age': [], 'feud': ['N'], 'summit': ['P'], 'came': [], 'inaccuracy': ['N'], 'fresh': ['P'], 'menace': ['N'], 'unsolve': [], 'essay': [], 'code': [], 'partial': [], 'incorporate': [], 'scratch': [], 'broaden': [], 'totem': [], 'enjoyable': ['P'], 'baby': [], 'renown': ['P'], 'amiss': ['N'], 'gossip': [], 'turkish': [], 'young': [], 'send': [], 'marshall-plan': [], 'dislike': ['N', 'N'], 'sent': [], 'customer': [], 'jurisdiction': [], 'street': [], 'garden': [], 'precinct': [], 'wipe': [], 'magic': [], 'harbor': [], 'marry': ['P', 'P'], 'anxious': ['N', 'N'], 'this': [], 'race': ['N'], 'insolence': ['N'], 'agrarian': [], 'yourself': [], 'mediterranean': [], 'mishap': ['N'], 'unprofitable': ['N'], 'crook': ['N'], 'imply': [], 'wheat': [], 'odd': ['N'], 'leakage': ['N'], 'victor': [], 'index': [], 'apparatus': [], 'hereditary': [], 'indian': [], 'proffer': ['P'], 'dissatisfy': ['N'], 'bird': [], 'scenery': [], 'led': [], 'leg': [], 'punch': ['N'], 'northeast': [], 'let': ['N'], 'consideration': ['P'], 'fifteen': [], 'great': ['P', 'P', 'P'], 'engage': ['P'], 'receive': [], 'screech': ['N', 'N'], 'rehabilitation': ['P'], 'survey': [], 'grandchild': [], 'derby': [], 'opinion': [], 'bookkeeping': [], 'maker': [], 'grower': [], 'recriminate': [], 'sixty': [], 'mortify': ['N'], 'causal': [], 'confidence': ['P'], 'certificate': [], 'illegal': ['N'], 'murky': ['N'], 'guideline': [], 'eleven': [], 'doubt': ['N', 'N', 'N'], 'pelvic': [], 'confiscate': ['N'], 'teamster': [], 'shipwreck': ['N'], 'mend': ['P'], 'labourer': [], 'rubbish': ['N'], 'demobilization': [], 'vacillate': [], 'charity': ['P'], 'entangle': ['N'], 'pout': ['N'], 'cameroun': [], 'instinctual': [], 'pour': [], 'zealous': [], 'thin': [], 'drill': [], 'fulfill': ['P'], 'coffin': [], 'streamer': [], 'slid': [], 'patronize': ['N'], 'bent': [], 'process': [], 'lock': [], 'coolness': ['N'], 'slim': [], 'rode': [], 'high': [], 'bend': [], 'slip': [], 'pelvis': [], 'trumpet': [], 'weaken': ['N'], 'educational': ['P'], 'purpose': [], 'negation': ['N'], 'delay': ['N', 'N'], 'insistent': ['P'], 'comedy': ['P'], 'establishment': [], 'luster': ['P'], 'abrasive': ['N'], 'await': [], 'society': [], 'marrow': [], 'solidarity': [], 'manpower': [], 'lame': ['N'], 'redundant': ['N'], 'element': [], 'allot': [], 'allow': ['P'], 'evolutionary': [], 'producer': [], 'move': [], 'doubtful': ['N'], 'operative': [], 'perfect': ['P', 'P', 'P'], 'decay': ['N', 'N'], 'chosen': ['P'], 'dispose': ['N', 'N'], 'meantime': [], 'thieves': [], 'forest': [], 'prosper': ['P'], 'animal': [], 'earn': [], 'ship': [], 'snake': [], 'kiss': ['P', 'P'], 'cage': [], 'realize': [], 'presidential': [], 'liberia': [], 'intelligent': ['P'], 'expell': [], 'merge': [], 'delightful': ['P'], 'truth': ['P'], 'shortage': ['N'], 'persia': [], 'beneath': [], 'scorch': ['N'], 'homogeneous': [], 'beginner': [], 'elementary': [], 'frequency': [], 'static': ['N'], 'thirteen': [], 'irritation': ['N'], 'jagged': [], 'banal': ['N'], 'differ': ['N'], 'agriculture': [], 'registrant': [], 'witness': [], 'monumental': ['P'], 'venom': ['N'], 'freshman': [], 'world-famous': ['P'], 'hilarious': ['P'], 'unprepared': [], 'adaptive': ['P'], 'feudalism': [], 'shut': [], 'wallpaper': [], 'perish': ['N'], 'incalculable': [], 'release': [], 'tempt': ['P'], 'shun': ['N'], 'embarrass': ['N'], 'scary': ['N'], 'mainland': [], 'spill': ['N'], 'could': [], 'compulsive': [], 'chilly': [], 'length': [], 'ratification': [], 'distinguish': ['P', 'P'], 'scare': ['N', 'N'], 'ethical': ['P'], 'scene': [], 'affliction': ['N'], 'owner': [], 'opportune': ['P'], 'legislative': [], 'deceptive': ['N'], 'festival': ['P'], 'traveller': [], 'system': [], 'sergeant': [], 'ton': [], 'painful': ['N'], 'malady': ['N'], 'enforcement': [], 'accompany': [], 'grandpa': [], 'elite': [], 'haven': ['P'], 'steel': [], 'valley': [], 'warfare': ['N'], 'wet': [], 'bother': ['N', 'N'], 'aggressor': ['N'], 'intertwine': [], 'steep': [], 'torrent': ['N'], 'devotion': ['P'], 'ingenious': ['P'], 'false': ['N'], 'beggar': ['N'], 'chivalrous': ['P'], 'partnership': ['P'], 'tonight': [], 'gentle': ['P'], 'competency': ['P'], 'depict': [], 'mechanism': [], 'adjunct': ['P'], 'schematically': [], 'korean': [], 'triumphal': ['P'], 'competence': ['P'], 'persistence': [], 'accuracy': ['P'], 'disavowal': ['N'], 'courtesy': ['P'], 'congregational': [], 'device': [], 'medal': [], 'fervent': ['P'], 'hypocrite': ['N'], 'placement': [], 'metaphysical': [], 'enlist': [], 'fiasco': ['N'], 'recoil': ['N'], 'fact': [], 'atmosphere': [], 'terminate': [], 'bring': [], 'manchester': [], 'bedroom': [], 'rough': ['N'], 'economist': [], 'decade': [], 'principal': ['P'], 'disillusion': [], 'pause': [], 'planter': [], 'jaw': [], 'jar': ['N'], 'should': [], 'uninterrupted': [], 'score': [], 'abyssinia': [], 'wretchedness': ['N'], 'indecisiveness': [], 'hope': ['P', 'P'], 'meant': [], 'insight': ['P'], 'handle': [], 'antagonism': ['N'], 'familiar': ['P'], 'cranky': ['N'], 'lucky': ['P'], 'first': [], 'generalise': [], 'listener': [], 'rector': [], 'antagonist': ['N'], 'smash': ['N', 'N'], 'dishearten': ['N'], 'contemptible': ['N'], 'denmark': [], 'summon': [], 'stuff': [], 'allegation': ['N'], 'ohio': [], 'withstand': [], 'temporarily': ['N'], 'allusion': [], 'frame': [], 'credo': [], 'edition': [], 'austrian': [], 'incurable': ['N'], 'dungeon': ['N'], 'wire': [], 'destiny': [], 'nuclear': [], 'partisan': [], 'posse': [], 'injustice': [], 'destine': [], 'pistol': [], 'derogatory': ['N'], 'explosive': ['N'], 'physicist': [], 'multilateral-force': [], 'configuration': [], 'absentee': ['N'], 'tantrum': ['N'], 'drum': [], 'common-market': [], 'drug': [], 'etc': [], 'doorway': [], 'co': [], 'conclude': [], 'incest': [], 'coercive': ['N'], 'undergraduate': [], 'accursed': ['N'], 'shudder': [], 'undependable': ['N'], 'outsider': ['N'], 'steadiness': ['P'], 'rhode': [], 'genetic': [], 'drank': [], 'entitle': [], 'feather': [], 'waste': ['N', 'N'], 'louisiana': [], 'tyranny': ['N'], 'commuter': [], 'neighbour': [], 'acclamation': ['P'], 'misguide': [], 'spain': [], 'banish': ['N', 'N'], 'pretentious': ['N'], 'expiration': [], 'groin': [], 'ripe': ['P'], 'site': [], 'lust': ['P'], 'optimistic': ['P'], 'adultery': ['N'], 'conserve': ['P'], 'lunatic': ['N'], 'cohort': ['P'], 'denial': ['N'], 'romance': ['P'], 'painstaking': ['P'], 'outbreak': ['N'], 'terrorism': ['N'], 'covenant': ['P'], 'ball': ['P', 'P'], 'columbia': [], 'mcgovern': [], 'dusk': [], 'bale': [], 'drink': [], 'upon': [], 'infinite': [], 'identity': [], 'off': [], 'fascinate': [], 'acknowledgement': ['P'], 'indonesia': [], 'enrage': ['N'], 'command': [], 'lest': [], 'gully': [], 'negligence': ['N'], 'less': [], 'glum': ['N'], 'glue': [], 'commemoration': ['P'], 'generous': ['P'], 'clergyman': [], 'wee': ['N'], 'wed': [], 'pompous': ['N'], 'arrest': ['N', 'N', 'P'], 'combine': [], 'weu': [], 'exempt': ['N'], 'practise': [], 'scoundrel': ['N'], 'vain': ['N'], 'magnify': [], 'government': [], 'chancellor': [], 'five': [], 'unquestionable': [], 'desk': [], 'atrophy': ['N'], 'height': [], 'you': [], 'descendant': [], 'crisp': [], 'onion': [], 'bigotry': [], 'parasite': ['N'], 'garage': [], 'stagger': [], 'imprison': ['N'], 'become': [], 'sprain': ['N'], 'replacement': [], 'amendment': [], 'liquidation': ['N'], 'foreseeable': [], 'underwent': [], 'thief': ['N'], 'elitism': [], 'immortal': ['P'], 'daylight': [], 'mozambique': [], 'ballot': [], 'recognition': [], 'disbelief': ['N'], 'literally': [], 'avoid': ['N'], 'doer': [], 'passion': [], 'forgiven': ['P'], 'comestible': ['P'], 'castrate': [], 'stairway': [], 'schedule': [], 'alledge': [], 'pressure': [], 'posterity': ['P'], 'imaginary': [], 'adversary': ['N'], 'stage': [], 'sister': [], 'reconsideration': [], 'world': [], 'idolize': ['P'], 'slayer': ['N'], 'gainer': [], 'insufficient': ['N'], 'concession': ['P'], 'diabolical': ['N'], 'revise': [], 'peak': [], 'burma': [], 'alliance': ['P'], 'unattractive': ['N'], 'unfavourable': [], 'commitment': ['P'], 'assess': [], 'lung': [], 'tiny': [], 'likeliness': [], 'unabated': [], 'mere': [], 'reactivate': [], 'disapproval': ['N'], 'frustration': ['N'], 'heresy': [], 'function': [], 'delivery': [], 'construction': [], 'valuation': [], 'applause': ['P'], 'count': [], 'detestable': ['N'], 'compute': [], 'evident': [], 'deficiency': ['N'], 'soreness': ['N'], 'shrunk': [], 'gravitational': [], 'official': [], 'smooth': [], 'reinforcement': ['P'], 'excitement': ['P'], 'intangible': [], 'monument': [], 'distribution': [], 'baptism': ['P'], 'unmitigated': [], 'appraise': [], 'cordial': ['P'], 'irish': [], 'unusual': [], 'central-america': [], 'recognize': [], 'contribute': ['P', 'P'], 'dissemination': [], 'denote': [], 'beckon': [], 'prosperous': ['P'], 'nonetheless': [], 'deadly': ['N'], 'wander': [], 'predominant': [], 'illusion': [], 'reckless': ['N'], 'francisco': [], 'monday': [], 'oppression': ['N'], 'treason': ['N'], 'chance': [], 'arbiter': ['P'], 'pacify': [], 'repeal': ['N'], 'veil': [], 'vein': [], 'inspiration': ['P'], 'ghost': [], 'searcher': [], 'rule': [], 'lift': [], 'compete': ['N'], 'pension': [], 'rural': [], 'abhor': ['N'], 'unspeakable': ['N'], 'inning': [], 'suicidal': [], 'dote': ['P'], 'magnetic': ['P'], 'desirable': ['P'], 'entropy': [], 'controversial': ['N'], 'crete': [], 'integrity': ['P'], 'voter': [], 'unanimity': [], 'unsteadiness': ['N'], 'daze': ['N'], 'regal': ['P'], 'arkansas': [], 'whack': ['N'], 'compassion': ['P'], 'perishable': [], 'blanket': [], 'evacuation': [], 'distort': ['N'], 'shoot': ['N', 'N', 'N'], 'disobedient': ['N'], 'postpone': [], 'chapel': [], 'exaggerate': [], 'pinch': ['N', 'N'], 'humidity': [], 'nigger': [], 'delegate': [], 'indices': [], 'antagonize': ['N'], 'triumph': ['P', 'P'], 'jamaica': [], 'advocate': [], 'monotonous': ['N'], 'horn': ['N'], 'preacher': [], 'depraved': ['N'], 'rigorous': ['N'], 'repetition': [], 'decadence': ['N'], 'incompatible': ['N'], 'consequent': [], 'above': [], 'toll': [], 'suppose': [], 'told': [], 'festive': ['P'], 'kindred': [], 'inferiority': ['N'], 'protection': ['P'], 'pursuit': [], 'miscarriage': [], 'wastefulness': ['N'], 'celebration': ['P'], 'daughter': [], 'salami': [], 'smoky': [], 'envoy': [], 'foolishness': ['N'], 'cogent': ['P'], 'smoke': [], 'lonesome': ['N'], 'anarchist': ['N'], 'diameter': [], 'envious': ['N'], 'regimentation': [], 'secure': ['P', 'P'], 'servicemen': [], 'inequitable': [], 'soever': [], 'thrust': [], 'lavatory': [], 'glance': [], 'total': [], 'devastation': ['N'], 'plow': [], 'motivate': ['P'], 'negative': ['N'], 'insult': ['N'], 'plod': ['N'], 'indiana': [], 'complicity': ['N'], 'ascribe': ['P'], 'award': ['P', 'P'], 'aware': ['P'], 'continual': [], 'yard': [], 'adamant': ['P'], 'tariff': ['N'], 'overrun': ['N'], 'tnt': [], 'word': [], 'wore': [], 'err': ['N'], 'player': [], 'presentation': [], 'unfailing': [], 'work': [], 'worn': ['N', 'N'], 'cuddle': ['P'], 'era': [], 'mechanic': [], 'radiance': ['P'], 'pollute': ['N'], 'deadweight': ['N'], 'flung': [], 'india': [], 'heartless': ['N'], 'impair': ['N'], 'indies': [], 'indifferent': ['N'], 'recovery': [], 'farce': ['N'], 'provide': ['P'], 'agony': ['N'], 'nuts': ['N'], 'far': [], 'sever': ['N'], 'interview': [], 'disappoint': ['N', 'N', 'N', 'N'], 'ordinary': [], 'beach': [], 'offshore': [], 'fever': ['N'], 'lad': [], 'ladder': [], 'after': [], 'movable': [], 'lab': [], 'fat': ['N', 'N', 'N'], 'law': ['P'], 'arch': [], 'austere': ['N'], 'alienate': ['N'], 'sorrowful': ['N'], 'appreciate': ['P'], 'greet': ['P', 'P'], 'stimulate': ['P'], 'greek': [], 'verb': [], 'green': [], 'ambulance': [], 'boatswain': [], 'order': ['P', 'P', 'P', 'N'], 'greed': [], 'modesty': ['P'], 'office': [], 'devote': ['P', 'P'], 'consent': ['P', 'P'], 'zen': [], 'proportionate': [], 'innovative': ['P'], 'japan': [], 'rebellion': ['N'], 'mayor': [], 'estrange': [], 'appeasement': [], 'somewhere': [], 'blown': [], 'implausibility': [], 'production': [], 'valor': ['P'], 'precipitate': ['N'], 'split': ['N'], 'versus': [], 'then': [], 'coffee': [], 'prevalence': [], 'unfortunate': ['N', 'N', 'N'], 'thee': [], 'amenable': ['P'], 'collide': ['N'], 'bane': ['N'], 'band': [], 'roommate': [], 'penetration': [], 'shameful': ['N'], 'they': [], 'lifelong': ['P'], 'bank': [], 'bread': [], 'suicide': [], 'rocky': [], 'absolve': ['P'], 'misbehave': ['N'], 'reasonable': ['P'], 'observance': [], 'network': [], 'forty': [], 'fellowship': ['P'], 'undone': ['N'], 'remorse': ['N'], 'medicine': [], 'forth': [], 'barrier': ['N'], 'veto': ['N'], 'lawless': ['N'], 'standard': [], 'amazement': ['P'], 'undaunted': [], 'refugee': ['N'], 'descriptive': [], 'flawless': ['P'], 'renew': [], 'oppose': ['N', 'N', 'N'], 'regress': ['N'], 'programme': [], 'organize': ['P', 'P'], 'daunting': ['N'], 'render': [], 'another': [], 'comic': ['P'], 'realistically': ['P'], 'electronic': [], 'nyasaland': [], 'illustrate': [], 'protracted': [], 'approximately': [], 'plentiful': ['P'], 'compromise': ['P', 'P'], 'fumble': ['N'], 'inflate': [], 'decentralize': [], 'paltry': ['N'], 'fanatical': ['N'], 'luncheon': [], 'inexact': ['N'], 'cereal': [], 'rebuff': ['N'], 'self-governing': [], 'mercy': ['P'], 'guild': [], 'stupendous': ['P'], 'rate': [], 'unmistakable': [], 'guilt': ['N'], 'historical': [], 'devious': ['N'], 'minus': [], 'non-intervention': [], 'pessimism': ['N'], 'vastness': ['P'], 'lull': ['N'], 'stomach': [], 'ponder': [], 'strength': [], 'genuine': ['P'], 'widen': [], 'convenient': [], 'latter': [], 'casual': ['P'], 'luxury': ['P'], 'transmit': [], 'pilgrimage': [], 'conducive': ['P'], 'nobody': [], 'maiden': [], 'timidity': ['N'], 'iceland': [], 'viscosity': [], 'prohibitive': ['N'], 'immediacy': [], 'germany': [], 'phase': [], 'grave': ['N', 'N', 'N', 'N', 'N'], 'swamp': [], 'aunt': [], 'accompaniment': ['P'], 'notion': [], 'fussy': ['N'], 'precarious': ['N'], 'eminent': ['P'], 'nephew': [], 'reaffirm': [], 'toast': [], 'latent': [], 'consciousness': [], 'implementation': [], 'guidance': [], 'wasteful': ['N'], 'adequate': ['P'], 'personality': [], 'predecessor': [], 'do': [], 'leisure': ['P'], 'roundabout': ['N'], 'nasty': ['N'], 'dr': [], 'treatise': ['P'], 'infrequent': [], 'suffrage': [], 'unquestioned': [], 'analytical': [], 'implication': [], 'squadron': [], 'steal': ['N', 'N'], 'steam': [], 'secretary': [], 'erroneous': ['N'], 'human': ['P'], 'observer': [], 'lemonade': [], 'gladness': ['P'], 'cattle': [], 'dispensability': ['N'], 'miserable': ['N'], 'away': [], 'afloat': ['P'], 'gentleman': [], 'calamity': ['N'], 'unable': [], 'cooperation': ['P'], 'drawn': [], 'co.': [], 'accord': ['P', 'P', 'P'], 'handful': [], 'kitchen': [], 'cop': [], 'climate': [], 'cow': [], 'brat': ['N'], 'ill': ['N', 'N', 'N', 'N'], 'brag': ['N'], 'misunderstand': ['N'], 'pecuniary': [], 'negotiation': [], 'tone': [], 'spear': ['N'], 'royal': [], 'trunk': [], 'condescending': ['N'], 'speak': [], 'gratitude': ['P'], 'petty': ['N'], 'unhappily': [], 'backwardness': ['N'], 'viewer': [], 'charisma': ['P'], 'accentuate': ['P'], 'flexible': ['P'], 'warmth': ['P'], 'easy': ['P', 'P', 'P', 'P'], 'beastly': ['N'], 'stifle': ['N'], 'excite': ['P', 'P'], 'attacker': [], 'coherent': ['P'], 'dissention': ['N'], 'comfortable': ['P'], 'gracious': ['P'], 'physician': [], 'inhibit': ['N'], 'has': [], 'ahead': [], 'reciprocal': [], 'air': [], 'aim': [], 'ail': ['N'], 'abrupt': ['N'], 'thrash': ['N'], 'aid': ['P', 'P'], 'property': [], 'mistake': ['N', 'N', 'N'], 'cylinder': [], 'preeminent': ['P'], 'sting': ['N'], 'dizzy': ['N'], 'brake': [], 'world-wide': [], 'exile': ['N'], 'uplift': ['P'], 'patent': [], 'authorise': [], 'grapple': ['N'], 'descend': [], 'monarch': [], 'indictment': ['N'], 'wheel': [], 'independent': ['P', 'P'], 'emphasise': [], 'raid': ['N'], 'fuss': ['N'], 'hang': ['N', 'N'], 'evil': ['N', 'N'], 'hand': ['N', 'P'], 'nix': ['N'], 'descry': ['P'], 'vermont': [], 'kept': [], 'whereby': [], 'thy': [], 'humble': ['P'], 'drip': [], 'ragged': [], 'contact': ['P', 'P'], 'the': [], 'musical': [], 'bereave': ['N'], 'stringent': ['N'], 'mingle': [], 'athletic': ['P'], 'photo': [], 'dignify': ['P'], 'repose': ['P'], 'gingerly': [], 'farther': [], 'victim': [], 'extol': ['P'], 'thyroid': [], 'visualization': ['P'], 'hilly': [], 'passive': [], 'exalt': ['P'], 'shout': [], 'spread': [], 'board': ['N', 'P'], 'righteous': ['P'], 'emphasis': [], 'shoulder': [], 'usable': ['P'], 'arab': [], 'boxer': [], 'unification': [], 'retreat': ['N', 'N'], 'disadvantage': ['N'], 'grizzly': ['N'], 'night': [], 'invaluable': ['P'], 'security': ['P', 'P'], 'soar': [], 'portuguese': [], 'flatter': ['P'], 'born': [], 'hassle': ['N'], 'unless': [], 'bore': ['N', 'N', 'N'], 'congratulate': ['P'], 'matriculate': [], 'humor': ['P'], 'purple': [], 'unavoidable': ['N'], 'adorable': ['P'], 'participation': [], 'peel': [], 'pose': [], 'confer': ['P'], 'illustration': [], 'constructive': ['P'], 'stereo': [], 'substitution': ['N'], 'peer': [], 'post': [], 'chafe': ['N'], 'theirs': [], 'banker': [], 'horizon': [], 'cherish': ['P', 'P'], 'croak': ['N'], 'dilemma': ['N'], 'mantle': [], 'float': [], 'profession': [], 'bound': ['N'], 'sedan': [], 'formidable': ['N'], 'dean': [], 'stumble': [], 'familiarize': ['P'], 'deception': ['N'], 'compression': [], 'segment': [], 'legislation': [], 'sovereign': [], 'fight': ['N', 'N', 'N'], 'derision': ['N'], 'clinical': [], 'way': [], 'wax': [], 'was': [], 'war': ['N'], 'overjoyed': ['P'], 'diligence': [], 'converse': [], 'vitality': ['P'], 'somehow': [], 'peninsula': [], 'taken': [], 'elderly': [], 'true': ['P', 'P', 'P', 'P', 'P'], 'absent': ['N'], 'algiers': [], 'invincible': ['P'], 'maximum': [], 'generosity': ['P'], 'anew': [], 'emotional': [], 'scandalous': ['N'], 'abstract': [], 'flaw': ['N'], 'muscular': [], 'evidence': [], 'manure': [], 'subsist': ['P'], 'prayer': [], 'face': [], 'mold': [], 'harassment': ['N'], 'irritable': ['N'], 'physical': [], 'disputable': ['N'], 'dying': ['N', 'N'], 'stake': [], 'reality': [], 'interested': ['P', 'P'], 'test': [], 'unwilling': ['N'], 'frolic': ['P'], 'shrink': [], \"o'clock\": [], 'welcome': ['P', 'P', 'P', 'P'], 'outreach': [], \"let's\": [], 'concurrent': [], 'interval': [], 'flag': [], 'together': [], 'cohesion': ['P'], 'accolade': ['P'], 'cheater': ['N'], 'reception': [], 'northern-rhodesia': [], 'precedent': ['P'], 'concept': [], 'broke': ['N', 'N', 'N', 'N'], 'diplomacy': [], 'dance': ['P', 'P', 'P'], 'global': [], 'selection': [], 'grateful': ['P'], 'battle': ['N', 'N'], 'idealism': ['P'], 'grape': [], 'zone': [], 'flash': [], 'aristocratic': ['P'], 'compensate': ['P'], 'dissatisfied': ['N'], 'rhythm': [], 'terror': ['N'], 'southwest': [], 'division': ['N'], 'protective': ['P'], 'liability': ['N'], 'credulous': ['N'], 'anonymous': [], 'kitten': [], 'starvation': ['N'], 'trouble': ['N', 'N', 'N', 'N'], 'blast': ['N', 'N'], 'feeble': ['N'], 'strain': ['N', 'N'], 'fragile': ['N'], 'gun': ['N'], 'guy': [], 'convince': ['P', 'P'], 'upper': [], 'wanton': ['N'], 'brave': ['P'], 'regret': ['N', 'N'], 'rouge': [], 'discover': [], 'agitate': ['N'], 'affiliation': ['P'], 'thinker': [], 'cost': ['N', 'N'], 'scarcity': ['N'], 'perplexity': ['N'], 'helpless': ['N'], 'tempest': ['N'], 'acrimonious': ['N'], 'curse': ['N', 'N'], 'appear': [], 'trivial': ['N'], 'assistance': ['P'], 'foregoing': [], 'havoc': ['N'], 'uniform': [], 'appeal': ['P'], 'alertness': ['P'], 'satisfy': ['P', 'P', 'P'], 'collateral': [], 'explosion': ['N'], 'inauguration': ['P'], 'disclaim': ['N'], 'lustrous': ['P'], 'combatant': ['N'], 'teacher': [], 'change': [], 'merriment': ['P'], 'disavow': ['N'], 'petitioner': [], 'trial': [], 'burdensome': ['N'], 'patriotic': ['P'], 'pillow': [], 'ineffectiveness': ['N'], 'confrontation': ['N'], 'inference': ['P'], 'extra': [], 'pony': [], 'seashore': [], 'marker': [], 'illumination': [], 'market': [], 'prove': [], 'senile': ['N'], 'super': ['P'], 'live': ['P'], 'plaything': ['P'], 'commissioner': [], 'credulity': [], 'club': ['N', 'N'], 'repentance': ['P'], 'clue': [], 'reunify': [], 'indescribable': ['P'], 'car': [], 'cap': [], 'chastise': ['N'], 'cat': [], 'hardest': [], 'can': [], 'social': [], 'heart': ['P'], 'attribute': [], 'chip': [], 'supremacy': [], 'heard': [], 'chin': [], 'purity': ['P'], 'phrase': [], 'chic': ['P'], 'airplane': [], 'restitution': [], 'unwavering': [], 'productive': ['P'], 'bankrupt': ['N'], 'civilise': [], 'discussion': [], 'undivided': [], 'magazine': [], 'nihilism': [], 'write': [], 'criterion': [], 'allowable': ['P'], 'dominance': ['P'], 'crucifix': [], 'product': [], 'peerless': ['P'], 'dive': [], 'southern': [], 'brazen': ['N'], 'produce': [], 'prohibition': ['N'], 'drastic': [], 'antagonise': [], 'nomination': [], 'remember': [], 'nationalistic': [], 'whenever': [], 'explicit': [], 'nosey': ['N'], 'ordinance': [], 'crept': [], 'offend': ['N'], 'crumple': ['N'], 'typical': [], 'indeed': [], 'forfeit': ['N'], 'utilize': ['P'], 'playful': ['P'], 'brain': [], 'statistical': [], 'cold': ['N', 'N', 'N', 'N'], 'still': [], 'scale': [], 'culmination': ['P'], 'acknowledge': [], 'vicinity': [], 'window': [], 'suffocate': ['N'], 'factual': ['P'], 'norway': [], 'inefficiency': ['N'], 'correspondence': [], 'non': [], 'halt': [], 'nod': [], 'rake': [], 'introduce': [], 'liberality': [], 'flint': [], 'slacks': [], 'half': [], 'not': [], 'denominational': [], 'now': [], 'provision': [], 'hall': [], 'expedite': [], 'organ': [], 'respectable': ['P'], 'servant': [], 'january': [], 'drop': ['N', 'N', 'N'], 'redundancy': ['N'], 'naturalization': [], 'vexation': ['N'], 'domain': [], 'yeah': [], 'defame': ['N'], 'year': [], 'happen': [], 'amusement': ['P'], 'album': [], 'shown': [], 'accomplish': ['P'], 'space': [], 'irony': ['N'], 'thirst': ['N'], 'increase': [], 'tingle': ['P'], 'rational': ['P'], 'ruinous': ['N'], 'viable': ['P'], 'pod': [], 'busybody': ['N'], 'sneak': ['N'], 'rebel': ['N', 'N'], 'obligation': [], 'ominous': ['N'], 'marine': [], 'inevitable': [], 'card': [], 'care': ['P', 'P'], 'chose': [], 'contemplation': [], 'deprivation': [], 'transition': [], 'british': [], 'honest': ['P', 'P', 'P'], 'indomitable': ['P'], 'invitation': ['P'], 'outcry': ['N'], 'profess': ['P'], 'support': ['P', 'P', 'P', 'P'], 'blind': ['N', 'N', 'N', 'N'], 'tennis': [], 'jealousy': [], 'municipality': [], 'indecent': ['N'], 'blink': [], 'consecrate': [], 'gasp': [], 'impossible': [], 'message': [], 'drove': [], 'tomorrow': [], 'size': [], 'impetuous': ['N'], 'sheer': [], 'sheet': [], 'silent': [], 'caught': [], 'breed': [], 'callous': ['N'], 'checker': [], 'tragic': ['N'], 'friend': ['P'], 'nutrition': [], 'brainy': ['P'], 'pomp': ['P'], 'that': [], 'taxation': [], 'expanse': [], 'than': [], 'television': [], 'rugged': [], 'accordance': ['P'], 'recruit': [], 'optimism': ['P'], 'transcendant': [], 'extinguish': ['N'], 'shady': ['N'], 'decompose': ['N'], 'troublesome': ['N'], 'angel': ['P'], 'correction': ['P'], 'premier': ['P'], 'slap': ['N'], 'slam': ['N'], 'anger': ['N', 'N'], 'breakfast': [], 'recover': [], 'veteran': [], 'tenth': [], 'terrific': ['P'], 'equipment': [], 'mr.': [], 'assailant': ['N'], 'objective': ['P', 'P'], 'ego': [], 'begin': [], 'oppressive': ['N'], 'attractiveness': ['P'], 'polaria': [], 'price': [], 'successive': [], 'america': [], 'forever': [], 'feminine': [], 'dream': [], 'steady': ['P'], 'tooth': [], 'unconquerable': [], 'professional': [], 'duplication': [], 'german': [], 'fifty': [], 'maine': [], 'fifth': [], 'ground': [], 'snack': [], 'ratio': [], 'stair': [], 'title': [], 'proclamation': [], 'industrialize': [], 'texture': [], 'only': [], 'stain': ['N'], 'shrill': ['N'], 'interstate': [], 'cannon': ['N'], 'cannot': [], 'piston': [], 'celebrate': ['P'], 'tube': [], 'leather': [], 'seldom': [], 'indeterminable': ['N'], 'overworked': ['N'], 'scientist': [], 'husband': [], 'bulgaria': [], 'concert': [], 'burst': [], 'famine': ['N'], 'ascertainment': [], 'asleep': [], 'recalcitrant': ['N'], 'staunch': ['P'], 'culpable': ['N'], 'sport': [], 'concern': ['N', 'N'], 'altercation': ['N'], 'gazette': [], 'import': [], 'notice': [], 'grumble': ['N'], 'blame': ['N', 'N'], 'article': [], 'discernible': [], 'installation': [], 'talented': ['P'], 'temper': ['N', 'N'], 'susceptible': ['N'], 'wishful': [], 'evict': ['N'], 'nearby': [], 'madness': ['N'], 'adroit': ['P'], 'foreboding': ['N'], 'inexplicable': ['N'], 'exploit': ['N'], 'disgrace': ['N'], 'lioness': [], 'resort': [], 'rebuild': [], 'territorial': [], 'tropical': [], 'overjoy': [], 'dictator': [], 'toss': [], 'partisanship': [], 'exhaustion': ['N'], 'wonderful': ['P'], 'homely': ['N'], 'external': [], 'vagueness': ['N'], 'foggy': [], 'countless': [], 'soothe': ['P'], 'these': [], 'trick': ['N', 'N'], 'notoriety': ['P'], 'editorial': [], 'quitter': ['N'], 'scum': ['N'], 'cherub': ['P'], 'zenith': ['P'], 'alcoholic': [], 'soil': [], 'commander': [], 'embrace': ['P', 'P'], 'beaver': [], 'waterway': [], 'mediocre': ['N'], 'worry': ['N', 'N', 'N', 'N', 'N'], 'develop': [], 'inquire': [], 'media': [], 'gentlemen': [], 'ya': [], 'poetic': ['P'], 'inquiry': [], 'document': [], 'noble': ['P'], 'finish': [], 'enjoyment': ['P'], 'foam': [], 'fruit': [], 'utterly': [], 'speechless': [], 'tradition': ['P'], 'theater': [], 'bondage': ['N'], 'constitutional': [], 'severe': ['N'], 'breeze': [], 'demean': ['N'], 'congressmen': [], 'alleviate': ['P'], 'coordinate': ['P'], 'taxi': [], 'livestock': [], 'battleship': [], 'valuable': ['P'], 'maternity': [], 'actor': [], 'touch': [], 'speed': [], 'revaluation': [], 'death': ['N'], 'senseless': ['N'], 'improvement': ['P'], 'subversion': ['N'], 'verse': [], 'treatment': [], 'role': [], 'struck': ['N'], 'momentum': [], 'real': ['P'], 'frown': ['N', 'N'], 'spectacular': ['P'], 'read': [], 'offence': [], 'discontinue': [], 'gonna': [], 'early': [], 'earnest': ['P'], 'detract': ['N'], 'symbolism': [], 'stunt': ['N'], 'execution': [], 'lady': [], 'rear': [], 'proponent': [], 'fortune': [], 'superfluous': ['N'], 'collective': [], 'miracle': ['P'], 'benefit': ['P', 'P', 'P'], 'united-states': [], 'output': [], 'ceremonial': ['P'], 'twelve': [], 'falsehood': ['N'], 'verbal': [], 'duration': [], 'questionnaire': [], 'derisive': ['N'], 'perverse': ['N'], 'conservative': [], 'deficit': ['N'], 'ethos': [], 'hustle': ['N'], 'assembly': [], 'business': [], 'sixth': [], 'equivalent': [], 'uneasy': ['N'], 'hectic': ['N'], 'innocence': ['P'], 'assemble': [], 'throw': ['N', 'N'], 'fondness': ['P'], 'reexamine': [], 'emasculate': [], 'comparison': [], 'central': [], 'piety': ['P'], 'friendship': ['P'], 'hiatus': [], 'ideology': [], 'journey': [], 'wolf': [], 'testimony': [], 'assassin': ['N'], 'heater': [], 'outlook': [], 'renovate': ['P'], 'variable': [], 'commodious': ['P'], 'involvement': [], 'shipbuilding': [], 'operator': [], 'your': [], 'intervention': ['N'], 'stare': [], 'log': [], 'prepare': [], 'area': [], 'stark': ['N'], 'start': [], 'unreliability': ['N'], 'low': ['N', 'N'], 'lot': [], 'politeness': ['P'], 'immaculate': ['P'], 'know-how': [], 'upbeat': ['P'], 'cottage': [], 'attainable': [], 'hire': [], 'fraud': ['N'], 'dominican': [], 'circulation': [], 'default': ['N'], 'receptive': ['P'], 'sadness': ['N'], 'oxen': [], 'undertake': [], 'subdue': [], 'describe': [], 'reliability': ['P'], 'mover': [], 'completeness': ['P'], 'credibility': ['P'], 'storage': [], 'elemental': [], 'event': [], 'trample': ['N'], 'valid': ['P'], 'mathematics': [], 'woeful': ['N'], 'poor': ['N', 'N', 'N', 'N', 'N', 'N'], 'authoritarian': [], 'desolation': ['N'], 'drift': [], 'carpenter': [], 'massachusetts': [], 'coverage': [], 'pool': [], 'fiscal': [], 'assert': [], 'unbind': [], 'condensation': [], 'inevitability': [], 'apathy': ['N'], 'repay': [], 'stockpile': [], 'mourner': ['N'], 'banishment': ['N'], 'semantic': [], 'month': [], 'unrest': ['N'], 'thoughtful': ['P'], 'bequeath': ['P'], 'viability': ['P'], 'revoke': ['N'], 'religious': ['P'], 'dreadful': ['N'], 'corps': [], 'gymnast': [], 'wyoming': [], 'foster': ['P'], 'fervor': ['P'], 'sustain': [], 'very': [], 'horror': ['N'], 'paradise': ['P'], 'mph': [], 'me': [], 'rogue': ['N'], 'decide': [], 'maladjusted': ['N'], 'heaven': ['P'], 'deficient': ['N'], 'shrivel': ['N'], 'ceaseless': ['P'], 'manager': [], 'random': [], 'wearer': [], 'study': ['N'], 'vanquish': ['P'], 'fence': [], 'colossal': ['P'], 'self-contained': ['P'], 'enhancement': ['P'], 'resound': ['P'], 'hamper': ['N'], 'chuckle': [], 'conscience': ['P'], 'darkness': ['N'], 'ecclesiastical': [], 'bituminous': [], 'learner': ['P'], 'thickness': [], 'thorny': ['N'], 'nullification': ['N'], 'repugnant': ['N'], 'turmoil': ['N'], 'ferocious': ['N'], 'loose': [], 'modify': [], 'selective': ['P'], 'excess': ['N'], 'iraq': [], 'venomous': ['N'], 'arena': [], 'conviction': ['P'], 'whine': ['N'], 'untiring': [], 'soldier': [], 'amount': [], 'base': [], 'euratom': [], 'swoon': ['P'], 'family': [], 'mediator': [], 'marginal': ['N'], 'put': [], 'haemoglobin': [], 'deleware': [], 'gunmen': ['N'], 'seventeenth': [], 'teach': [], 'conventional': [], 'ash': [], 'injure': ['N'], 'revelation': ['P'], 'chaotic': ['N'], 'mysterious': [], 'injury': ['N'], 'assessor': [], 'erode': ['N'], 'regrettable': ['N'], 'instrumental': [], 'excuse': [], 'impulse': [], 'hurry': [], 'pretense': ['N'], 'sovereignty': [], 'offender': ['N'], 'coalition': [], 'nebraska': [], 'nine': [], 'yemen': [], 'spontaneous': [], 'history': [], 'tenacious': ['P'], 'boycott': [], 'prose': [], 'exclude': ['N'], 'cubism': [], 'illussion': [], 'prussian': [], 'ledger': [], 'unlucky': ['N'], 'reject': ['N'], 'vigilance': ['P'], 'idaho': [], 'gash': ['N'], 'rude': ['N'], 'long': [], 'invasion': [], 'horizontal': [], 'inconceivable': [], 'compulsory': [], 'a': [], 'criticize': ['N'], 'deluge': ['N'], 'overnight': [], 'negligible': [], 'dread': ['N'], 'egg': [], 'crafty': ['N'], 'ding': [], 'help': ['P', 'P', 'N', 'P'], 'torturous': ['N'], 'hierarchy': [], 'soon': [], 'held': [], 'committee': [], 'hell': ['N'], 'taxpayer': [], 'exact': ['P', 'P'], 'fruitful': ['P'], 'absence': ['N'], 'astonish': [], 'relate': [], 'fool': ['N', 'N'], 'evening': [], 'motivated': ['P'], 'food': [], 'vomit': ['N'], 'luxemberg': [], 'permissible': [], 'soundness': ['P'], 'foot': [], 'towering': [], 'trustworthiness': ['P'], 'well-known': [], 'stopper': [], 'payer': [], 'decimal': [], 'intervene': [], 'twelfth': [], 'capability': ['P'], 'tear': ['N', 'N'], 'heavy': [], 'pamper': ['P'], 'thirteenth': [], 'exclusiveness': [], 'deride': ['N'], 'balk': ['N'], 'beyond': [], 'absurdity': ['N'], 'anarchy': ['N'], 'presumptuous': ['N'], 'unnatural': ['N'], 'since': [], 'testify': [], 'publish': [], 'jolly': ['P'], 'equate': [], 'safety': ['P'], 'issue': [], 'outrun': ['P'], 'gardener': [], 'ass': [], 'whole-hearted': [], 'dictatorial': ['N'], 'dirt': ['N'], 'reason': [], 'heroin': [], 'dire': ['N'], 'ask': [], 'hapless': ['N'], 'heroic': ['P'], 'revolutionary': [], 'launch': [], 'curtsey': ['P'], 'terrible': ['N'], 'american': [], 'businessmen': [], 'syria': [], 'apocalypse': ['P'], 'devolve': [], 'assign': [], 'probability': [], 'arsenal': [], 'elder': [], 'mist': [], 'miss': ['N'], 'maple': [], 'separation': [], 'arbitration': ['P'], 'horse': [], 'ostracize': ['N'], 'blossom': ['P'], 'obedience': ['P'], 'obtainable': ['P'], 'station': [], 'expand': [], 'nigeria': [], 'hundred': [], 'challenge': ['N', 'N'], 'merciless': ['N'], 'bower': [], 'boredom': ['N'], 'taxable': [], 'flattery': ['P'], 'grew': [], 'lament': ['N'], 'anticipate': [], 'trudge': ['N'], 'impersonal': ['N'], 'grey': [], 'bride': [], 'utopia': [], 'store': [], 'kindle': [], 'garrison': [], 'weapon': [], 'procedural': [], 'phobia': ['N'], 'alongside': [], 'juicy': [], 'affirmative': ['P'], 'juice': [], 'substantial': [], 'cumbersome': ['N'], 'vulnerable': [], 'lie': ['N', 'N'], 'evasion': ['N'], 'speculative': [], 'cave': ['N'], 'scotland': [], 'lit': [], 'uninformed': ['N'], 'labour': [], 'lip': [], 'useless': ['N'], 'quote': [], 'eater': [], 'anniversary': [], 'experiencer': [], 'eaten': [], 'salary': [], 'sturdy': ['P'], 'mobile': [], 'clear': ['P', 'P', 'P', 'P', 'P'], 'popularity': ['P'], 'treasurer': [], 'nonspecific': [], 'jordan': [], 'usual': [], 'physics': [], 'perseverance': ['P'], 'phenomenon': [], 'vindication': [], 'completion': ['P'], 'copyright': [], 'justice': ['P'], 'flesh': [], 'assertion': ['P'], 'versatility': ['P'], 'beauteous': ['P'], 'circle': ['N'], 'seato': [], 'dominant': [], 'meanwhile': [], 'strut': ['P'], 'famous': ['P'], 'basement': [], 'isolationism': [], 'intensify': [], 'catcher': [], 'alteration': [], 'perfume': ['P'], 'switzerland': [], 'courteous': ['P'], 'cramp': ['N'], 'patriotism': [], 'locale': [], 'plausible': [], 'culture': ['P'], 'venerate': ['P'], 'close': ['N', 'N'], 'probable': [], 'horrid': ['N'], 'familiarity': ['P'], 'woo': ['P'], 'stall': [], 'honour': [], 'incompatibility': ['N'], 'unconscious': [], 'spray': [], 'aggrieve': ['N'], 'invisible': ['N'], 'league': [], 'toward': [], 'sensitive': ['P'], 'forgotten': [], 'protector': ['P'], 'experimental': [], 'large-scale': [], 'whatever': [], 'decipher': ['P'], 'cross-sectional': [], 'vessel': [], 'turbulent': ['N'], 'rebate': [], 'mumble': ['N'], 'horticulture': [], 'stamp': ['N'], 'damp': [], 'exert': [], 'damn': ['N'], 'coarse': ['N'], 'maintenance': [], 'threaten': ['N'], 'territory': [], 'empty': ['N', 'N'], 'dialogue': [], 'regroup': [], 'crack': [], 'overnighter': [], 'else': [], 'determination': [], 'disruptive': [], 'folklore': [], 'pact': [], 'loom': ['N'], 'utmost': [], 'look': [], 'conspirator': ['N'], 'socialist': [], 'governor': [], 'rope': [], 'dusty': [], 'while': [], 'socialism': [], 'match': [], 'shift': [], 'endanger': ['N'], 'fleet': [], 'guide': ['P', 'P', 'P'], 'loop': [], 'engulf': ['N'], 'costly': ['N'], 'confound': ['N'], 'ready': [], 'blissful': ['P'], 'communal': ['P'], 'anymore': [], 'grant': [], 'belong': [], 'discredit': ['N'], 'grand': ['P'], 'modification': [], 'composition': [], 'conflict': ['N', 'N', 'N', 'N'], 'clearness': ['P'], 'temporary': [], 'bonus': ['P'], 'banter': [], 'indispensability': ['P'], 'fulfilment': [], 'censure': ['N'], 'user': [], 'decency': ['P'], 'herewith': [], 'poland': [], 'grind': [], 'royalty': [], 'auditor': [], 'consistency': ['P'], 'savvy': ['P'], 'secession': ['N'], 'president-elect': [], 'romanticize': ['P'], 'coup': [], 'chore': ['N'], 'abstain': [], 'collectivism': [], 'bearer': [], 'transference': [], 'supervise': [], 'confiscation': ['N'], 'ignoble': ['N'], 'belgium': [], 'cocky': ['N'], 'elect': [], 'taiwan': [], 'questioner': [], 'informal': [], 'harmonize': ['P'], 'debatable': ['N'], 'transformation': [], 'march': [], 'evaluate': [], 'characterise': [], 'game': ['P'], 'overthrown': [], 'outright': ['P'], 'submission': [], 'signal': [], 'manifest': [], 'popular': ['P'], 'softness': ['P'], 'eec': [], 'mathematical': [], 'sketch': [], 'parade': [], 'creation': [], 'some': [], 'urgent': [], 'economic': [], 'impoverish': [], 'savage': ['N'], 'vacationer': [], 'providence': ['P'], 'civilization': ['P'], 'slash': ['N'], 'defense-community': [], 'minimal': [], 'sympathetic': ['P'], 'run': ['N', 'N'], 'rub': [], 'benefactor': ['P'], 'rug': [], 'rue': ['N'], 'step': [], 'ache': ['N'], 'taboo': ['N'], 'subtract': ['N'], 'abroad': [], 'shine': [], 'faith': ['P', 'P'], 'ill-defined': [], 'plunder': [], 'soft': [], 'hinge': [], 'allotment': [], 'congressman': [], 'therapeutic': ['P'], 'shiny': ['P'], 'block': ['N', 'N'], 'disclosure': [], 'misbehavior': ['N'], 'within': [], 'nonsense': ['N'], 'unimpaired': [], 'dissatisfaction': ['N'], 'conscientious': ['P'], 'pentagon': [], 'statistics': [], 'adeptness': ['P'], 'renewal': ['P'], 'consultation': ['P'], 'heritage': [], 'manufacture': [], 'himself': [], 'healthful': ['P'], 'inept': [], 'south-korea': [], 'alive': ['P'], 'reef': [], 'russian': [], 'warlike': ['N'], 'dull': ['N'], 'skulk': ['N'], 'intuitive': [], 'dahomey': [], 'foresight': ['P'], 'commiseration': ['N'], 'similar': [], 'mindful': ['P'], 'unreasonable': ['N'], 'precept': ['P'], 'estrangement': [], 'seethe': ['N'], 'unwise': ['N'], 'kidney': [], 'cotton': [], 'liberalize': [], 'sullen': ['N'], 'nag': ['N'], 'objection': ['N'], 'application': [], 'electrical': [], 'transport': [], 'department': [], 'nay': [], 'draw': [], 'venerable': ['P'], 'clean': ['P', 'P'], 'kansas': [], 'bravado': ['N'], 'drag': ['N'], 'refrain': ['N'], 'drab': ['N'], 'reservation': [], 'heroine': ['P'], 'structure': [], 'depth': [], 'bribe': ['N'], 'everywhere': [], 'virtue': ['P'], 'kilometre': [], 'cheerful': ['P'], 'proposition': [], 'aristocrat': ['P'], 'birthplace': [], 'arid': [], 'arrogance': ['N'], 'suite': [], 'friendly': ['P'], 'virtuous': ['P'], 'murderous': ['N'], 'prudence': ['P'], 'wave': [], 'unsureness': [], 'telling': [], 'yourselves': [], 'discouragement': ['N'], 'russia': [], 'literary': [], 'compassionate': ['P'], 'readjustment': [], 'verdict': [], 'sedentary': ['N'], 'inspection': [], 'enforce': ['N'], 'encroachment': ['N'], 'jump': [], 'notwithstanding': [], 'cartel': [], 'click': [], 'impasse': ['N'], 'colonel': [], 'cell': [], 'rotten': ['N'], 'experiment': [], 'volatile': ['N'], 'melancholy': ['N'], 'stance': [], 'commercial': [], 'fifteenth': [], 'velocity': [], 'adulterate': ['N'], 'convert': [], 'northern': [], 'haziness': ['N'], 'benevolence': ['P'], 'avaricious': ['N'], 'repel': [], 'overseer': [], 'behead': ['N'], 'commendable': ['P'], 'foresee': [], 'danger': ['N'], 'win': [], 'manage': [], 'apprehensive': ['N'], 'clout': ['P'], 'austria': [], 'wit': [], 'infest': ['N'], 'manipulate': ['N'], 'camera': [], 'contentment': ['P'], 'vehicle': [], 'cram': ['N'], 'depreciate': ['N'], 'belgian': [], 'bureaucracy': [], 'compatriot': [], 'stem': [], 'pretty': ['P', 'P', 'P', 'P'], 'biblical': [], 'missile': [], 'unfaithful': ['N'], 'rivalry': ['N'], 'wretch': ['N'], 'starter': [], 'whisky': [], 'meek': ['N'], 'lapse': ['N'], 'recession': ['N'], 'vexatious': [], 'meet': ['P'], 'nurture': ['P'], 'conformity': [], 'withdrew': [], 'ineffectualness': ['N'], 're-establish': [], 'control': [], 're-establishment': [], 'coincident': ['P'], 'inviolate': [], 'sought': ['P'], 'publicity': [], 'skirt': [], 'fearsome': ['N'], 'hesitate': [], 'defective': ['N'], 'picturesque': ['P'], 'poetry': [], 'neurotic': ['N'], 'reestablish': ['P'], 'immoral': ['N'], 'hong-kong': [], 'fare': [], 'farm': [], 'peace': ['P', 'P'], 'sardinia': [], 'fatigue': ['N'], 'prance': ['P'], 'alienation': ['N'], 'workingman': [], 'astronomical': [], 'rebellious': ['N'], 'enclose': [], 'costume': [], 'during': [], 'brittle': ['N'], 'brood': ['N'], 'outer': [], 'exclusion': ['N'], 'thence': [], 'guerrilla': ['N'], 'him': [], 'youngster': [], 'demoralize': ['N'], 'sword': [], 'auto': [], 'placid': [], 'front': ['N'], 'handy': ['P'], 'pre-war': [], 'mastery': ['P'], 'university': [], 'adjournment': [], 'perfectionism': ['P'], 'slide': [], 'magnitude': [], 'perfectionist': ['P'], 'mode': [], 'upward': ['P'], 'commonwealth': [], 'illuminate': ['P'], 'female': [], 'globe': [], 'constitute': [], 'mar': ['N', 'N'], 'measure': [], 'sandy': [], 'gallant': ['P'], 'entertainment': ['P'], 'confess': ['N'], 'unlawful': ['N'], 'fathom': [], 'ceylon': [], 'wondrous': ['P'], 'thriving': [], 'cause': [], 'interplanetary': [], 'undo': ['N'], 'intruder': ['N'], 'advisor': [], 'sneer': ['N'], 'princess': [], 'shrew': ['N'], 'corrosion': ['N'], 'hostile': ['N'], 'geometry': [], 'precaution': ['P'], 'route': [], 'florida': [], 'timer': [], 'keep': [], 'counterpart': [], 'keen': ['P'], 'keel': [], 'wrote': [], 'mankind': [], 'prospective': [], 'fertiliser': [], 'confuse': ['N', 'N', 'N', 'N'], 'seventeen': [], 'congo': [], 'submit': [], 'drinker': [], 'equity': ['P'], 'eminence': ['P'], 'quality': ['P'], 'management': [], 'privacy': ['P'], 'filthy': ['N'], 'durable': ['P'], 'unequivocal': [], 'attach': [], 'attack': ['N', 'N', 'N'], 'ankle': [], 'fossilize': [], 'final': [], 'circulate': [], 'temperate': ['P'], 'punish': ['N'], 'innovate': ['P'], 'feint': ['N'], 'manipulation': ['N'], 'fuzzy': [], 'overwhelming': ['N'], 'herself': [], 'outline': [], 'photograph': [], 'ultimatum': ['N'], 'aspiration': ['P'], 'beg': ['N'], 'bed': [], 'distinguished': ['P'], 'bet': [], 'are': [], 'exhibit': [], 'rhythmic': [], 'captivation': ['P'], 'unchanged': [], 'thereto': [], 'torment': ['N'], 'sundown': [], 'portrait': [], 'need': ['N', 'N', 'N'], 'border': [], 'metaphysics': [], 'screw': ['N'], 'bastard': ['N'], 'resultant': [], 'able': ['P'], 'switch': [], 'ecumenical': [], 'leninism': [], 'tactic': [], 'truck': [], 'pursuer': [], 'dominican-republic': [], 'deploy': [], 'unleash': [], 'resplendent': ['P'], 'exult': ['P'], 'montana': [], 'rigor': ['N'], 'demise': ['N'], 'counterbalance': [], 'nuisance': ['N'], 'gallery': [], 'shyness': ['N'], 'plumber': [], 'plasticity': [], 'harmonization': [], 'undeniable': [], 'upset': ['N', 'N', 'N', 'N', 'N'], 'talk': [], 'distinctive': ['P'], 'businessman': [], 'constrain': ['N'], 'impression': [], 'reprehensible': ['N'], 'violation': ['N'], 'anyway': [], 'well-being': [], 'passe': ['N'], 'molest': ['N'], 'envy': ['N'], 'untimely': ['N'], 'unfinished': [], 'sheriff': [], 'winner': [], 'hopeful': ['P'], 'rash': ['N'], 'employer': [], 'earner': [], 'won': [], 'fuel': [], 'mortality': [], 'gratify': ['P'], 'righteousness': ['P'], 'adherent': ['P'], 'commendation': ['P'], 'michigan': [], 'overall': [], 'maritime': [], 'joint': [], 'legitimate': ['P'], 'fallout': ['N'], 'regionalization': [], 'endless': [], 'gray': [], 'evolution': [], 'tobacco': [], 'shy': [], 'dejected': ['N'], 'ordain': [], 'berserk': ['N'], 'she': [], 'contain': [], 'grab': ['N'], 'conduct': [], 'preach': [], 'albania': [], 'shake': ['N'], 'orphan': ['N'], 'immigrant': [], 'unfavorable': ['N'], 'reinforce': [], 'korea': [], 'yugoslavia': [], 'driveway': [], 'desperate': ['N'], 'irrefutable': [], 'nightmare': ['N'], 'thumb': [], 'tend': [], 'state': [], 'beautify': ['P'], 'supernatural': [], 'horrible': ['N'], 'neither': [], 'indebted': [], 'tent': [], 'bleed': [], 'sole': [], 'importance': ['P'], 'interfere': ['N'], 'efficiency': ['P'], 'merry': ['P'], 'approval': ['P'], 'precious': ['P'], 'problem': ['N'], 'solace': ['P'], 'undetermined': [], 'inundate': ['N'], 'diligent': ['P'], 'career': [], 'admit': ['P', 'P', 'P'], 'succeed': ['P'], 'careen': ['N'], 'dagger': [], 'jersey': [], 'incontestability': [], 'budgetary': [], 'tuesday': [], 'habitual': [], 'franchise': [], 'maximize': ['P'], 'cynicism': ['N'], 'poem': [], 'addition': [], 'discrimination': [], 'cent': [], 'shame': ['N'], 'immense': [], 'treat': ['P'], 'poet': [], 'armistice': [], 'diversity': [], 'both': [], 'controller': [], 'expenditure': [], 'mail': [], 'shameless': ['N'], 'debtor': ['N'], 'novel': [], 'license': [], 'intimidate': ['N'], 'ripen': ['P'], 'pandemonium': ['N'], 'harden': [], 'dynamism': [], 'petition': [], 'examiner': [], 'resident': [], 'demo': [], 'surface': [], 'wreck': ['N'], 'capture': ['N', 'N'], 'steer': [], 'fortification': [], 'balloon': [], 'strange': [], 'speaker': [], 'northwest': [], 'incumbent': [], 'underground': [], 'party': [], 'malaya': [], 'fraternity': [], 'reactionary': ['N'], 'eccentric': ['N'], 'effect': [], 'experimenter': [], 'fierce': ['N'], 'magician': [], 'destruction': ['N'], 'poultry': [], 'scarcely': [], 'transaction': [], 'reflection': [], 'intercede': ['P'], 'i': [], 'variety': [], 'well': ['P', 'P'], 'nebulous': ['N'], 'restore': ['P'], 'discord': ['N'], 'accurate': ['P'], 'mistaken': ['N'], 'detail': [], 'distant': [], 'skill': ['P', 'P'], 'elector': [], 'coordination': ['P'], 'density': [], 'vitamin': [], 'stratum': [], 'warrant': [], 'indignation': ['N'], 'kick': ['N', 'N', 'N'], 'impassable': [], 'definitive': ['P'], 'fate': [], 'disappearance': [], 'utah': [], 'historic': [], 'burden': ['N', 'N'], 'amply': ['P'], 'prominent': ['P'], 'loss': ['N'], 'necessary': [], 'lost': ['N', 'N', 'N', 'N'], 'candy': [], 'uganda': [], 'lose': ['N', 'N'], 'page': [], 'adversity': ['N'], 'therein': [], 'shed': [], 'glare': ['N'], 'phenomena': [], 'scuffle': ['N'], 'library': [], 'motive': ['P'], 'profiteer': [], 'home': ['P'], 'drizzle': [], 'investor': [], 'helplessness': ['N'], 'competitor': ['N'], 'broad': [], 'overlap': [], 'appreciative': ['P'], 'hinder': ['N'], 'medieval': [], 'journal': [], 'monetary': [], 'expansion': [], 'paper': [], 'poignant': ['P'], 'variation': [], 'offset': ['P'], 'instinct': [], 'refuge': ['P'], 'freedom': ['P'], 'sinister': ['N'], 'nonverbal': [], 'madame': [], 'compatible': ['P'], 'dominion': [], 'maladjustment': ['N'], 'spreader': [], 'tongue': [], 'washington': [], 'articulate': [], 'due': [], 'cocoa': [], 'congregate': ['P'], 'restatement': [], 'strategy': [], 'pointless': ['N'], 'utility': [], 'doubtless': ['P'], 'jubilee': ['P'], 'mississippi': [], 'rejoice': ['P'], 'impatience': ['N'], 'museum': [], 'imperial': [], 'inner': [], 'crushing': ['N'], 'north': [], 'treacherous': ['N'], 'hazardous': ['N'], 'evacuate': [], 'gait': [], 'subjective': [], 'admonish': ['N'], 'neutral': [], 'gain': ['P', 'P'], 'wince': ['N'], 'technician': [], 'overflow': ['N'], 'ear': [], 'eat': [], 'he': [], 'yelp': ['N'], 'vigor': [], 'grieve': ['N'], 'sufferer': ['N'], 'cruel': ['N'], 'limit': ['N', 'N', 'N'], 'signer': [], 'piece': ['N'], 'display': [], 'devise': [], 'universal': [], 'penny': [], 'twist': [], 'education': ['P'], 'cavalry': [], 'contest': [], 'offensive': ['N'], 'meteor': [], 'star': [], 'ecstatic': ['P'], 'thereafter': [], 'traditionalist': [], 'stay': [], 'stab': ['N'], 'animosity': ['N'], 'deter': ['N'], 'appoint': ['P', 'P'], 'persistent': [], 'portion': [], 'diagnosis': [], 'commencement': ['P'], 'liver': [], 'pardon': ['P', 'P'], 'similarity': [], 'dissolution': ['N'], 'dynamic': ['P'], 'knelt': [], 'obstruction': ['N'], 'protest': ['N', 'N'], 'newcomer': [], 'astray': ['N'], 'captain': [], 'whose': [], 'unfeeling': ['N'], 'buddy': [], 'swam': [], 'disability': [], 'hardtack': [], 'sorry': ['N', 'N'], 'sway': [], 'collaborate': ['P'], 'rescue': ['P', 'P'], 'communique': [], 'void': ['N'], 'misunderstanding': ['N'], 'smack': ['N'], 'stolen': ['N', 'N'], 'confederate': [], 'affect': [], 'sleek': ['P'], 'courageous': ['P'], 'vast': [], 'solution': ['P'], 'convenience': [], 'vector': [], 'enhance': ['P'], 'deplorable': ['N'], 'force': ['N', 'N', 'N'], 'japanese': [], 'mansion': [], 'crave': ['N'], 'subordinate': [], 'kidnap': ['N'], 'even': ['N', 'P', 'P'], 'pace': [], 'desirous': ['P'], 'panama': [], 'orchestra': [], 'asia': [], 'spokesman': [], 'haze': [], 'parachuter': [], 'sunder': ['N'], 'reverently': ['P'], 'dr.': [], 'new': [], 'ever': [], 'niche': ['P'], 'probationary': [], 'men': [], 'drew': [], 'met': [], 'deposition': [], 'active': [], 'interpret': [], 'violate': ['N'], 'dry': [], 'economics': [], 'credit': ['P', 'P'], 'harass': ['N'], 'superstitious': ['N'], 'permit': ['P'], 'california': [], 'pack': [], 'menial': ['N'], 'intrigue': ['P'], 'astute': ['P'], 'fantastic': ['P'], 'hunch': [], 'campaign': [], 'mobility': ['P'], 'county': [], 'ninety': [], 'moral': ['P'], 'tutelage': [], 'landscape': [], 'undesirable': ['N'], 'army': [], 'call': ['P'], 'calm': ['P', 'P', 'P'], 'intrust': [], 'recommend': [], 'survive': ['P'], 'type': [], 'tell': [], 'wary': ['N'], 'composite': [], 'expose': ['N'], 'under': [], 'warp': ['N'], 'warn': [], 'disruption': ['N'], 'berlin': [], 'warm': ['P', 'P', 'P', 'P', 'P'], 'adult': ['P'], 'qualm': ['N'], 'ward': [], 'worst': ['N'], 'room': [], 'setup': [], 'gasoline': [], 'roof': [], 'worth': ['P', 'P', 'P', 'P'], 'suggestive': [], 'guise': ['N'], 'akin': [], 'endow': ['P'], 'defer': [], 'give': ['P', 'P'], 'climax': [], 'assent': ['P'], 'honey': [], 'accurateness': ['P'], 'degenerate': ['N'], 'cursory': ['N'], 'unforgettable': ['P'], 'autonomy': [], 'rib': [], 'amazing': ['P'], 'answer': [], 'construe': [], 'minority': [], 'cadillac': [], 'loyalty': ['P'], 'curiosity': [], 'waterfront': [], 'president': [], 'summarize': [], 'ambivalent': ['N'], 'purchase': [], 'attempt': [], 'third': [], 'capitalism': [], 'maintain': [], 'goodbye': ['P'], 'inhabitant': [], 'operate': [], 'thirty': [], 'deck': [], 'fortify': ['P'], 'ghastly': ['N'], 'keyboard': [], 'responsive': ['P'], 'windshield': [], 'wickedness': ['N'], 'before': [], 'unicef': [], 'personal': [], 'crew': [], 'better': ['P', 'P'], 'missionary': [], 'persist': [], 'stalemate': ['N'], 'overcome': ['P'], 'pleasurable': ['P'], 'combination': [], 'weakness': [], 'unemployed': ['N'], 'drowsiness': ['N'], 'costa-rica': [], 'therapy': [], 'indulge': ['N'], 'shirk': ['N'], 'grammar': [], 'meat': [], 'brightness': ['P'], 'sleepless': ['N'], 'mistrust': ['N'], 'superficiality': ['N'], 'wage': [], 'went': [], 'loneliness': ['N'], 'bone': [], 'bond': [], 'interruption': ['N'], 'durability': ['P'], 'aide': [], 'taught': [], 'forgot': [], 'navy': [], 'dawn': ['P'], 'contend': ['N'], 'decree': [], 'unbound': ['P'], 'crucial': [], 'content': ['P', 'P', 'P'], 'adhesion': ['P'], 'reader': [], 'surprise': [], 'partook': [], 'sluggish': ['N'], 'instigate': [], 'grease': [], 'resume': [], 'revenge': ['N'], 'bestow': ['P'], 'struggle': ['N', 'N', 'N'], 'abate': ['N'], 'mistress': [], 'warmhearted': ['P'], 'wrath': ['N'], 'shaggy': ['N'], 'cosmic': [], 'attune': ['P'], 'loud': [], 'naughty': ['N'], 'thereon': [], 'grade': [], 'workingmen': [], 'reassure': ['P'], 'thereof': [], 'deplete': ['N'], 'comforter': [], 'radiate': ['P'], 'ditch': [], 'acquaint': ['P'], 'scrape': ['N'], 'historian': [], 'dwell': [], 'moisture': [], 'villager': [], 'realization': [], 'somewhat': [], 'requisite': [], 'peculiar': ['N'], 'symptom': ['N'], 'distance': [], 'congratulatory': ['P'], 'anxiety': ['N'], 'bitterness': ['N'], 'preparation': [], 'matter': ['P', 'N'], 'persuade': [], 'silly': ['N'], 'childlike': [], 'jeopardise': [], 'persuasive': ['P'], 'palace': [], 'quench': ['P'], 'modern': [], 'mind': ['N', 'P'], 'mine': ['N'], 'ginger': [], 'seed': [], 'seen': [], 'seem': [], 'theology': [], 'mint': ['P'], 'horde': ['N'], 'alibi': ['N'], 'communicative': ['P'], 'impotent': [], 'chest': [], 'quit': ['N'], 'regular': [], 'inconsistency': ['N'], 'zealand': [], 'treasonous': ['N'], 'mitigate': [], 'observation': [], 'alarm': ['N'], 'deliberate': [], 'dog': [], 'worsen': ['N'], 'definitely': [], 'principle': ['P', 'P', 'P'], 'consumer': [], 'urgency': [], 'discontent': ['N'], 'hunger': ['N'], 'rapture': ['P'], 'visitor': [], 'armament': [], 'brilliance': ['P'], 'uneasiness': ['N'], 'poison': ['N'], 'nevada': [], 'capitulate': ['N'], 'acquit': ['P'], 'divinity': ['P'], 'undignified': ['N'], 'undoubtedly': ['P'], 'explain': [], 'cripple': ['N'], 'sugar': [], 'integrate': [], 'folder': [], 'hoard': ['N'], 'venezuela': [], 'reconstruction': [], 'colorful': [], 'blur': ['N'], 'stop': [], 'perceive': [], 'coast': [], 'slanderous': ['N'], 'comply': [], 'bat': [], 'bar': ['N'], 'broken-hearted': ['N'], 'bay': [], 'bag': [], 'bad': ['N'], 'architecture': [], 'ban': [], 'linguist': [], 'enchant': ['P', 'P'], 'attest': [], 'unworthy': ['N'], 'reference': [], 'imitate': [], 'blameless': ['P'], 'allure': ['P'], 'subject': [], 'brazil': [], 'voyage': [], 'said': [], 'sail': [], 'artificial': ['N'], 'prince': [], 'tantamount': [], 'disprove': ['N'], 'tolerance': ['P'], 'warrior': [], 'lazy': ['N'], 'ignorance': ['N'], 'weary': [], 'retirement': [], 'upfront': ['P'], 'cousin': [], 'horsemen': [], 'uncertainty': [], 'against': ['N'], 'ascendancy': [], 'distinction': ['P'], 'contribution': ['P'], 'presumably': [], 'exemplary': [], 'incessant': ['N'], 'inquisitive': ['P'], 'hygiene': ['P'], 'initiative': [], 'lowly': ['N'], 'speedily': ['P'], 'accustom': [], 'recur': [], 'basis': [], 'futility': ['N'], 'three': [], 'erect': [], 'commission': ['P'], 'trigger': [], 'detrimental': ['N'], 'interest': ['P', 'P', 'P'], 'basic': ['P', 'P'], 'lovely': ['P'], 'idol': ['P'], 'threw': [], 'efficacy': ['P'], 'suppress': ['N'], 'chum': ['P'], 'deepen': [], 'unpopular': ['N'], 'exception': ['N'], 'tank': [], 'sly': ['N'], 'affirm': ['P'], 'originate': [], 'ugly': ['N'], 'near': [], 'neat': ['P'], 'motorist': [], 'balance': [], 'mangle': ['N'], 'anchor': [], 'guardianship': [], 'pessimistic': ['N'], 'seven': [], 'metropolitan': [], 'mexico': [], 'is': [], 'it': [], 'burundi': [], 'jest': ['P'], 'in': [], 'amour': ['P'], 'mouse': [], 'disappear': [], 'if': [], 'grown': [], 'growl': ['N'], 'specialization': [], 'parish': [], 'make': ['N', 'P', 'P'], 'belly': [], 'contaminate': ['N'], 'vegetable': [], 'sat': [], 'evolve': [], 'discriminatory': [], 'delight': ['P', 'P'], 'renaissance': ['P'], 'squat': [], 'kin': [], 'jealous': [], 'opportunity': ['P'], 'kid': ['P'], 'butter': [], 'weakly': [], 'emissary': [], 'smoker': [], 'inherit': ['P'], 'berate': [], 'rome': [], 'yours': [], 'left': [], 'etiquette': ['P'], 'protocol': [], 'just': ['P', 'P'], 'sentence': ['N'], 'yea': [], 'unfair': ['N'], 'identify': [], 'fullness': ['P'], 'yes': [], 'yet': [], 'candidate': [], 'legion': [], 'agile': ['P'], 'assassination': [], 'character': [], 'squad': [], 'affinity': ['P'], 'defray': [], 'save': ['P'], 'designate': [], 'involuntary': ['N'], 'auspicious': ['P'], 'discreet': ['P'], 'background': [], 'affability': ['P'], 'dreamt': [], 'hedonistic': ['N'], 'vanity': ['N'], 'coarseness': ['N'], 'dignity': ['P'], 'uncivil': ['N'], 'nude': [], 'unnecessary': ['N'], 'notorious': ['N'], 'conciliation': [], 'squander': ['N'], 'deal': ['P', 'N'], 'repudiate': ['N'], 'deaf': ['N'], 'maxim': [], 'dead': ['N'], 'revel': ['P'], 'dear': ['P', 'P'], 'pain': ['N'], 'strife': ['N'], 'short-term': [], 'sprawl': [], 'dense': [], 'trace': [], 'undisturbed': [], 'uproar': ['N'], 'outspoken': [], 'aggravation': ['N'], 'daytime': [], 'flounder': ['N'], 'bold': [], 'plot': ['N'], 'burn': ['N', 'N', 'N', 'N'], 'blackmail': ['N'], 'bolt': ['N'], 'keeper': [], 'bury': ['N'], 'wept': [], 'empowerment': ['P'], 'conceal': ['N'], 'blithe': ['P'], 'afternoon': [], 'commit': ['N'], 'nerve': [], 'intellectual': ['P', 'P', 'P'], 'down': [], 'doctrine': [], 'annoyance': ['N'], 'initial': [], 'illustrious': ['P'], 'approximate': [], 'victorious': ['P'], 'editor': [], 'fraction': [], 'bolivia': [], 'fork': [], 'starve': ['N'], 'dogmatism': [], 'form': [], 'immorality': ['N'], 'analyse': [], 'failure': ['N'], 'prettily': ['P'], 'syndicate': [], 'blindness': ['N'], 'surrender': [], 'analyst': [], 'fort': [], 'protestant': [], 'understood': ['P'], 'limousine': [], 'daddy': [], 'propaganda': ['N'], 'classic': ['P'], 'covert': ['N'], 'sale': [], 'gland': [], 'scrawl': [], 'revitalize': ['P'], 'marksman': [], 'awhile': [], 'fraternal': [], 'oversimplification': [], 'discriminate': ['N'], 'authoritative': ['P'], 'excel': ['P'], 'willful': ['P'], 'answerable': [], 'digital': [], 'holly': [], 'marxism': [], 'tardy': ['N'], 'exporter': [], 'faction': [], 'handicap': ['N'], 'why': [], 'felt': [], 'diet': [], 'outback': [], 'fell': [], 'reign': [], 'magnificence': ['P'], 'weekend': [], 'billion': [], 'apology': [], 'assume': [], 'annuity': [], 'daily': [], 'jacket': [], 'teeth': [], 'dust': [], 'shop': [], 'befriend': ['P'], 'customary': [], 'relieve': ['P'], 'eldest': [], 'invent': [], 'abatement': [], 'mile': [], 'skin': [], 'mill': [], 'abundant': ['P'], 'milk': [], 'resourceful': ['P'], 'retention': [], 'anticipation': [], 'depend': [], 'deceitful': ['N'], 'show': ['N'], 'father': [], 'amaze': [], 'unpleasant': ['N'], 'analogous': [], 'adviser': [], 'string': [], 'friction': [], 'ma': [], 'pious': ['P'], 'dim': ['N', 'N'], 'din': ['N'], 'did': [], 'die': [], 'economize': ['P'], 'dig': ['P'], 'democrat': [], 'noiseless': ['P'], 'item': [], 'excellence': ['P'], 'rectitude': [], 'section': [], 'dip': [], 'round': ['P'], 'unexpected': [], 'maximization': [], 'measurable': ['P'], 'bombardment': ['N'], 'talker': [], 'afghanistan': [], 'indochina': [], 'favour': [], 'reunite': ['P'], 'annals': [], 'suspect': ['N', 'N'], 'somalia': [], 'drunkard': ['N'], 'unrestricted': [], 'transportation': [], 'wail': ['N'], 'guardian': ['P'], 'clerk': [], 'unobserved': ['N'], 'french': [], 'superstition': ['N'], 'detest': ['N'], 'congestion': ['N'], 'deceit': ['N'], 'oversimplify': [], 'earthquake': [], 'wait': ['N'], 'box': ['N'], 'boy': [], 'institute': [], 'my': [], 'odour': [], 'bow': [], 'expulsion': [], 'suggestion': [], 'priceless': ['P'], 'shook': [], 'teenage': [], 'adjustable': ['P'], 'insolent': ['N'], 'quibble': ['N'], 'surmount': ['P'], 'everybody': [], 'wealth': [], 'impunity': ['P'], 'sake': [], 'joyous': [], 'visit': [], 'france': [], 'federate': [], 'peru': [], 'sharpen': [], 'condescension': ['N'], 'acceptable': ['P'], 'downtown': [], 'uppermost': ['P'], 'rigid': ['N'], 'orator': [], 'effort': [], 'fly': [], 'demolish': ['N'], 'flu': [], 'soul': [], 'impel': [], 'soup': [], 'sour': ['N'], 'arrive': [], 'claim': [], 'crazy': ['N'], 'predict': [], 'fuck': [], 'agent': [], 'sample': [], 'council': ['P'], 'craze': ['N'], 'pink': [], 'purr': ['P'], 'present-day': [], 'stricken': ['N'], 'nonchalant': ['N'], 'inundated': ['N'], 'chemical': [], 'till': [], 'sunday': [], 'pure': ['P'], 'swore': ['N'], 'persuasion': [], 'sworn': ['P'], 'map': [], 'designer': [], 'mat': [], 'may': [], 'membership': [], 'mad': ['N', 'N'], 'destructive': ['N'], 'grow': [], 'man': [], 'relinquish': [], 'infallibility': ['P'], 'aimless': ['N'], 'noun': [], 'neck': [], 'inexpedient': [], 'long-range': [], 'maybe': [], 'purify': ['P'], 'fluent': ['P'], 'burmese': [], 'jail': ['N', 'N'], 'silence': [], 'deceive': ['N', 'N'], 'african': [], 'basket': [], 'tall': [], 'bungle': ['N'], 'gesture': [], 'cute': ['P'], 'shield': ['P'], 'gradual': [], 'entity': [], 'stability': ['P'], 'half-inch': [], 'lyric': ['P'], 'pitch': [], 'equip': [], 'pointer': [], 'adhesive': ['P'], 'group': [], 'monitor': [], 'maid': [], 'policy': [], 'ours': [], 'main': ['P'], 'texas': [], 'finance': [], 'killer': ['N'], 'shatter': [], 'sarcastic': ['N'], 'elasticity': [], 'lunch': [], 'stubbornness': ['N'], 'teller': [], 'possess': [], 'ancestor': [], 'feverish': ['N'], 'resignation': ['N'], 'promulgate': [], 'peasant': [], 'careless': ['N'], 'gamble': ['N', 'N'], 'rock': [], 'eyelid': [], 'dialect': [], 'scheme': ['N', 'N'], 'abnormal': ['N'], 'aloof': ['N'], 'girl': [], 'summary': [], 'canada': [], 'impurity': ['N'], 'interference': ['N'], 'nominal': [], 'imperative': ['P'], 'dominate': ['N', 'N', 'N'], 'correct': ['P', 'P', 'P'], 'assurance': ['P'], 'lag': ['N'], 'monster': ['N'], 'self-determination': [], 'baptize': ['P'], 'ore': [], 'advance': ['P', 'P', 'P'], 'language': [], 'ministry': [], 'waiter': [], 'thing': [], 'assuredly': ['P'], 'frequent': [], 'lay': ['N'], 'exotic': ['P'], 'dwelling': [], 'remuneration': [], 'question': [], 'fast': [], 'carry': [], 'little': [], 'thoughtless': ['N'], 'meaningful': ['P'], 'slept': [], 'autocrat': ['N'], 'anyone': [], 'fiery': ['P'], 'bloodshed': ['N'], 'gaudy': ['N'], 'moscow': [], 'continuous': [], 'fixate': [], 'broadcast': [], 'stipulation': [], 'cleanse': ['P'], 'illegality': ['N'], 'knives': [], 'venture': [], 'were': [], 'gigantic': [], 'tractor': [], 'lick': [], 'capsize': ['N'], 'improbability': [], 'hearer': [], 'counteraction': ['N'], 'dash': [], 'incontestable': [], 'conspiracy': ['N'], 'spectacle': [], 'intelligible': ['P'], 'nazi': [], 'clung': [], 'bavaria': [], 'efficient': ['P'], 'isolate': ['N', 'N'], 'potential': [], 'interior': [], 'haste': [], 'channel': [], 'ultimate': [], 'audacious': ['N'], 'amiable': ['P'], 'theatre': [], 'normal': ['P'], 'track': [], 'incidence': [], 'paid': [], 'assault': ['N', 'N'], 'pair': [], 'conspicuous': [], 'cuban': [], 'radioactive': [], 'especially': [], 'filly': [], 'pernicious': [], 'scowl': ['N'], 'segregation': ['N'], 'precise': ['P'], 'shot': ['N'], 'certification': [], 'disunity': [], 'accession': ['P'], 'veranda': [], 'elevate': [], 'therapist': [], 'shoe': [], 'threshold': [], 'corner': [], 'forecast': [], 'dice': [], 'stormy': ['N'], 'treasure': ['P', 'P'], 'behind': [], 'outpost': [], 'analytic': [], 'manoeuvre': [], 'black': [], 'treasury': [], 'enthusiasm': ['P'], 'awareness': ['P'], 'exaggeration': ['N'], 'get': ['N'], 'straggler': ['N'], 'unimportant': ['N'], 'unaltered': [], 'conjunction': ['P'], 'secondary': [], 'beseech': ['N'], 'yield': [], 'morning': [], 'stupid': ['N', 'N', 'N'], 'staff': [], 'peony': [], 'eighteenth': [], 'seat': [], 'relative': [], 'seal': [], 'salutation': ['P'], 'stigma': ['N'], 'calendar': [], 'wonder': ['P'], 'vertical': [], 'steadfast': ['P'], 'ornament': [], 'label': [], 'enough': [], 'across': [], 'august': [], 'parent': [], 'parental': [], 'legitimacy': ['P'], 'nationality': [], 'trader': [], 'dedicate': ['P', 'P'], 'sketchy': ['N'], 'disappointment': ['N'], 'cognizance': ['P'], 'delirium': ['N'], 'among': [], 'cancer': ['N'], 'shirt': [], 'spank': ['N'], 'accusation': ['N'], 'cancel': ['N'], 'laudable': ['P'], 'mare': [], 'intrude': ['N'], 'underworld': ['N'], 'corrective': [], 'capable': ['P'], 'certify': [], 'mark': [], 'workshop': [], 'dependable': ['P'], 'acre': [], 'rancher': [], 'fiftieth': [], 'educated': ['P'], 'devilish': ['N'], 'spring': [], 'workable': ['P'], 'sort': ['N'], 'dramatic': [], 'wake': [], 'declaration': [], 'those': [], 'sound': ['P', 'P'], 'predicament': ['N'], 'compile': [], 'ignition': [], 'residence': [], 'rearmament': [], 'bathe': [], 'sincere': ['P'], 'them': [], 'cluster': [], 'sudden': [], 'obnoxious': ['N'], 'everyday': [], 'woken': [], 'different': [], 'harsh': ['N'], 'doctor': [], 'pay': ['P'], 'steppes': [], 'same': [], 'speech': [], 'deference': ['P'], 'surmise': ['P'], 'pan': [], 'exhaust': ['N'], 'oil': [], 'assist': ['P', 'P'], 'companion': ['P'], 'diversion': ['N'], 'break': ['N', 'N', 'N'], 'drain': [], 'rhineland': [], 'accountable': ['P'], 'solve': [], 'bottle': [], 'repulsive': ['N'], 'overcrowding': [], 'outdoor': [], 'fume': [], 'reputable': ['P'], 'aspect': [], 'flavor': [], 'statesmen': [], 'sprang': [], 'meteorite': [], 'dipper': [], 'pile': [], 'extensive': [], 'pill': [], 'grip': [], 'newsmen': [], 'inhibition': ['N'], 'secrecy': ['N'], 'credentials': ['P'], 'railroad': [], 'implicate': ['N'], 'grim': ['N'], 'grin': [], 'distrustful': ['N'], 'possessive': [], 'terrorize': ['N'], 'indisputable': [], 'lightning': [], 'chamber': [], 'audience': [], 'miraculous': ['P'], 'nose': [], 'robbery': ['N'], 'voluntarily': [], 'passionate': ['P'], 'fulfil': [], 'afflict': ['N'], 'doll': [], 'solidity': [], 'imprisonment': ['N'], 'ascend': [], 'slavery': [], 'erase': ['N'], 'pasture': [], 'ascent': [], 'gross': [], 'confirm': [], 'sudan': [], 'colonial': [], 'overly': [], 'pioneer': [], 'escort': [], 'inject': [], 'gladden': ['P'], 'affiliate': ['P'], 'moderate': ['P'], 'knife': ['N'], 'sensible': ['P'], 'fitness': ['P'], 'notable': ['P'], 'broker': [], 'squall': [], 'broken': [], 'despicable': ['N'], 'resign': [], 'squarely': ['P'], 'manufacturer': [], 'tease': ['N'], 'roar': [], 'island': [], 'fringe': [], 'insect': [], 'thrive': ['P'], 'practical': ['P'], 'provisional': [], 'road': [], 'fallacy': ['N'], 'fertile': ['P'], 'bountiful': ['P'], 'rumania': [], 'harness': ['P'], 'strip': [], 'pleasantry': ['P'], 'totalitarian': [], 'brute': ['N'], 'decisive': [], 'hysterical': ['N'], 'fanatic': ['N'], 'literalness': [], 'sophisticated': ['P'], 'unhappiness': ['N'], 'shroud': ['N'], 'hesitancy': [], 'belated': ['N'], 'annihilate': ['N'], 'nigers': [], 'suitcase': [], 'conqueror': ['P'], 'deadlock': ['N'], 'powerless': ['N'], 'affection': ['P'], 'deliberation': [], 'censor': ['N'], 'deep': [], 'general': [], 'imagination': ['P'], 'examine': [], 'deem': [], 'file': [], 'lifetime': [], 'deterrent': ['N'], 'casualty': ['N'], 'fill': ['P'], 'tedious': ['N'], 'again': [], 'personnel': [], 'repent': ['P'], 'field': [], 'unaccustomed': ['N'], 'south-america': [], 'fruitless': ['N'], 'demobilize': [], 'shelter': ['P', 'P'], 'brandy': [], 'important': ['P'], 'equitable': ['P'], 'prudent': ['P'], 'conclusive': ['P'], 'grudge': ['N'], 'consternation': ['N'], 'percentage': [], 'recklessness': ['N'], 'kuwait': [], 'alright': [], 'nutrient': ['P'], 'oral': [], 'represent': [], 'liar': ['N'], 'forget': [], 'founder': ['N'], 'forbidden': ['N'], 'invariable': [], 'dollar': [], 'sunk': [], 'wrestle': ['N'], 'cooperative': ['P', 'P', 'P'], 'invariably': [], 'implement': [], 'children': [], 'reluctant': ['N'], 'platonism': [], 'modernization': [], 'rwanda': [], 'tranquillity': [], 'hideous': ['N'], 'premium': ['P'], 'straightforward': ['P'], 'carefree': ['P'], 'lain': [], 'fall': ['N'], 'difference': [], 'vouchsafe': ['P'], 'mild': ['P'], 'dictatorship': [], 'benevolent': ['P'], 'celebrity': ['P'], 'applicable': [], 'consultant': [], 'biological': [], 'westerner': [], 'neighborhood': [], 'portable': ['P'], 'prominence': ['P'], 'preposterous': ['N'], 'go': [], 'zero': [], 'perception': [], 'perspective': [], 'lawyer': [], 'further': [], 'affable': ['P'], 'misrepresent': ['N'], 'ribbon': [], 'defence': [], 'stood': ['P'], 'illogical': ['N'], 'exasperation': ['N'], 'judicious': [], 'tribute': ['P'], 'everlasting': ['P'], 'public': [], 'movement': [], 'outgoing': ['P'], 'component': [], 'vale': [], 'mule': [], 'favourable': [], 'beacon': ['P'], 'disastrous': ['N'], 'salesmanship': [], 'table': [], 'search': [], 'bible': [], 'airport': [], 'misery': ['N'], 'narrow': [], 'authorize': [], 'transit': [], 'africa': [], 'aptitude': ['P'], 'sanction': [], 'establish': ['P', 'P'], 'legislator': [], 'readily': ['P'], 'eye': ['P'], 'composure': ['P'], 'distinct': ['P'], 'destination': [], 'two': [], 'cultivation': ['P'], 'jubilant': ['P'], 'hegemony': [], 'formality': ['P'], \"ain't\": [], 'particular': ['P', 'N'], 'adulteration': ['N'], 'nineteen': [], 'town': [], 'none': [], 'hour': [], 'middle': [], 'recall': [], 'roosevelt': [], 'remain': [], 'taut': [], 'abandon': ['N'], 'marble': [], 'stubborn': ['N'], 'compare': [], 'ritual': [], 'hamburger': [], 'salesmen': [], 'share': ['P', 'P', 'P'], 'collision': ['N'], 'minimum': [], 'attain': ['P'], 'despot': [], 'sharp': [], 'biography': [], 'awkward': ['N'], 'needy': ['N'], 'comfort': ['P', 'P', 'P'], 'rapport': ['P'], 'sacred': ['P'], 'civilisation': [], 'ensemble': ['P'], 'inflationary': [], 'uprising': ['N'], 'advice': [], 'interpose': ['P'], 'ambassador': [], 'blood': [], 'faculty': [], 'bloom': ['P'], 'response': [], 'bleak': ['N'], 'coax': ['P'], 'coat': [], 'spiteful': ['N'], 'blunder': ['N'], 'mislead': ['N'], 'coal': [], 'responsibility': ['P'], 'sect': [], 'pleasure': ['P'], 'preparatory': ['P'], 'infant': [], 'displease': ['N'], 'oblique': ['N'], 'blockhead': ['N'], 'performance': [], 'industrial': [], 'through': [], 'existence': [], 'suffer': ['N', 'N'], 'arrogant': ['N'], 'hundredth': [], 'forthwith': [], 'bosom': [], 'famished': ['N'], 'late': [], 'pend': [], 'dolly': [], 'clamor': ['N'], 'bereft': ['N'], 'good': ['P'], 'postwar': [], 'frigid': ['N'], 'compound': [], 'unauthentic': ['N'], 'detach': [], 'complain': ['N'], 'association': ['P', 'P'], 'mystery': [], 'restrict': ['N', 'N', 'N'], 'huddle': [], 'pregnant': [], 'stiff': [], 'evade': ['N'], 'subjugation': ['N'], 'boisterous': ['N'], 'exquisite': ['P'], 'sterling': [], 'harm': ['N', 'N'], 'everyone': [], 'mental': [], 'house': [], 'hare': [], 'hard': ['N', 'N'], 'idea': [], 'sober': ['P'], 'connect': ['P'], 'fist': ['N'], 'ripple': [], 'orient': [], 'flower': [], 'childish': ['N'], 'singapore': [], 'avenge': ['N'], 'print': [], 'fortitude': ['P'], 'tiresome': ['N'], 'evaluation': [], 'disobedience': ['N'], 'pathetic': ['N'], 'circumstance': [], 'backer': ['P'], 'pleasant': ['P', 'P'], 'extraordinary': ['P'], 'disposition': [], 'prophet': [], 'omit': ['N'], 'audacity': ['N'], 'wither': [], 'copper': [], 'perturb': ['N'], 'barbarian': ['N'], 'juncture': [], 'done': [], 'elevator': [], 'mismanagement': [], 'razor': [], 'divorce': ['N', 'N', 'N'], 'revive': ['P'], 'construct': [], 'paint': [], 'regulation': [], 'assumption': [], 'statement': [], 'mama': [], 'seeker': [], 'casework': [], 'needle': ['N'], 'mentality': [], 'sizable': [], 'dentist': [], 'part': [], 'favorable': ['P'], 'prodigious': ['P'], 'believe': [], 'inconvenient': ['N'], 'gotten': [], 'youth': [], 'contrary': ['N'], 'declare': [], 'urban': [], 'disunion': [], 'reunion': ['P'], 'hurrah': [], 'ardent': ['P'], 'murder': ['N', 'N'], 'mountain': [], 'grandchildren': [], 'trip': [], 'onset': ['P'], 'majority': [], 'build': [], 'cameroon': [], 'province': [], 'serene': ['P'], 'carolina': [], 'breadwinner': ['P'], 'chart': [], 'most': [], 'charm': ['P', 'P'], 'significant': ['P'], 'fluctuate': [], 'refrigerator': [], 'goodwill': [], 'mediation': [], 'charitable': ['P'], 'organise': [], 'weigh': [], 'nobility': ['P'], 'sector': [], 'think': [], 'hillside': [], 'sanctity': [], 'relation': [], 'malignant': ['N'], 'immaturity': [], 'fine': ['P', 'P', 'P', 'P', 'P', 'N', 'N'], 'find': [], 'ecsc': [], 'merger': [], 'nervous': ['N'], 'ruin': ['N', 'N', 'N', 'N'], 'unhappy': ['N'], 'money': [], 'override': [], 'boulder': [], 'devastate': ['N'], 'therefore': [], 'permission': ['P'], 'express': [], 'cheapen': ['N'], 'breast': [], 'theft': ['N'], 'inaugurate': ['P'], 'merchandise': [], 'target': [], 'elapse': [], 'resolve': ['P', 'P'], 'contagious': ['N'], 'remove': [], 'common': ['P', 'P'], 'gospel': [], 'cynical': ['N'], 'lion': [], 'arouse': [], 'manly': ['P'], 'gravest': [], 'tender': [], 'changeable': [], 'forthcoming': [], 'cozy': ['P'], 'expert': ['P', 'P'], 'positivity': ['P'], 'electoral': [], 'myriad': ['P'], 'gabon': [], 'donate': ['P'], 'iron': ['N', 'N'], 'complementary': ['P'], 'prescribe': [], 'complement': ['P', 'P'], 'forwardness': [], 'aircraft': [], 'premise': ['P'], 'full-time': [], 'reverse': [], 'restaurant': [], 'carelessness': ['N'], 'annual': [], 'foreign': ['N'], 'mean': ['N'], 'consume': [], 'point': ['N'], 'dwindle': ['N'], 'smother': ['N'], 'newborn': [], 'dancer': [], 'unsuccessful': ['N'], 'throughout': [], 'civilize': ['P', 'P'], 'expensive': ['N'], 'raise': ['N'], 'create': ['P'], 'appall': ['N', 'N'], 'secret': ['N'], 'ireland': [], 'laos': [], 'gay': ['P'], 'gas': [], 'cruelty': ['N'], 'dissension': [], 'nihilistic': [], 'understand': ['P', 'P'], 'fretful': ['N'], 'chatter': [], 'indivisible': [], 'fur': [], 'survivor': ['P'], 'solid': [], 'bill': [], 'tolerate': ['P'], 'crutch': [], 'fun': ['P', 'N'], 'manner': [], 'shoddy': ['N'], 'portugal': [], 'century': [], 'moralistic': ['P'], 'imperialist': [], 'astound': ['P'], 'decoration': ['P'], 'itself': [], 'transom': [], 'stubbornly': ['N'], 'saline': [], 'italy': [], 'seduce': [], 'dishonor': ['N'], 'butcher': [], 'wherein': [], 'textile': [], 'benign': ['P'], 'discourse': [], 'emphasize': [], 'bristle': ['N'], 'development': [], 'assignment': [], 'yesterday': [], 'retrenchment': [], 'moment': [], 'appreciable': ['P'], 'aggregate': ['P'], 'realm': [], 'timid': [], 'safe': ['P', 'P', 'P', 'P'], 'motionless': ['N'], 'salvation': ['P'], 'spent': [], 'appertain': [], 'withdraw': [], 'landmark': [], 'organization': [], 'chemistry': [], 'spend': [], 'prevention': [], 'preference': ['P'], 'vindictive': [], 'ludicrous': ['N'], 'distracting': ['N'], 'shape': [], 'atomic': [], 'mob': [], 'alternative': [], 'timber': [], 'discipline': [], 'impetus': ['P'], 'cut': ['N', 'N'], 'cup': [], 'alternate': [], 'duct': [], 'studious': ['P'], 'dare': ['P'], 'snap': [], 'easter': [], 'excited': ['P'], 'hater': ['N'], 'bin': [], 'dependability': ['P'], 'big': [], 'bid': [], 'displace': ['N'], 'redeem': ['P'], 'bit': ['N'], 'knock': ['N', 'N', 'N'], 'blemish': ['N'], 'hardy': ['P'], 'glove': [], 'flux': [], 'indication': [], 'foolish': ['N'], 'south-vietnam': [], 'transgress': ['N'], 'often': [], 'humorous': ['P'], 'magnificent': ['P'], 'back': ['P', 'P'], 'delegation': [], 'accelerate': [], 'mirror': [], 'candle': [], 'nicaragua': [], 'ourselves': [], 'scald': ['N'], 'acquaintance': ['P'], 'culprit': ['N'], 'pet': [], 'decision': [], 'proficient': ['P'], 'integration': [], 'balmy': ['P'], 'pen': [], 'eliminate': ['N'], 'invade': ['N'], 'either': [], 'patient': ['P', 'P'], 'wayward': ['N'], 'use': [], 'restrictive': [], 'goods': [], 'usa': [], 'constraint': ['N'], 'gambia': [], 'graduation': ['P'], 'drama': [], 'shrewdness': ['P'], 'pollution': ['N'], 'chearful': [], 'depose': ['N'], 'neutrality': [], 'proportional': [], 'lesson': [], 'bankruptcy': ['N'], 'realisation': [], 'evangelism': [], 'witchcraft': ['N'], 'overpower': ['N'], 'forward': ['P'], 'translate': [], 'opponent': ['N'], 'invite': ['P', 'P'], 'immigration': [], 'cloud': [], 'agreeable': ['P'], 'rejection': ['N'], 'planet': [], 'exploration': [], 'planer': [], 'aversion': ['N'], 'autonomous': ['P'], 'repulse': ['N'], 'curt': ['N'], 'constant': [], 'expedition': [], 'metal': [], 'possessor': [], 'deprive': ['N'], 'single': [], 'cure': ['P', 'P'], 'curb': [], 'curl': [], 'cafe': [], 'prevail': [], 'stagecoach': [], 'cohesive': [], 'western-europe': [], 'calmness': ['P'], 'assassinate': ['N'], 'confine': ['N', 'N'], 'cellar': [], 'accidental': [], 'lend': [], 'favourite': [], 'heir': [], 'papa': [], 'luxurious': ['P'], 'restoration': ['P'], 'fervently': [], 'lent': [], 'desert': ['N', 'N'], 'statesman': [], 'downcast': ['N'], 'oppress': ['N'], 'uneconomical': ['N'], 'reserve': [], 'enrichment': ['P'], 'commoner': ['N'], 'intricate': ['P'], 'vicious': ['N'], 'compose': [], 'drive-in': [], 'suave': ['P'], 'intensive': [], 'critical': [], 'adjoin': [], 'masculine': [], 'atlas': [], 'maryland': [], 'fatal': ['N'], 'nervousness': ['N'], 'queen': [], 'proctor': [], 'dessert': [], 'accuse': ['N', 'N'], 'implausible': [], 'surgeon': [], 'arrange': [], 'entire': [], 'recreation': ['P'], 'respectful': ['P'], 'shock': ['N', 'N', 'N', 'N', 'N'], 'mottled': [], 'mobilize': ['P'], 'ride': ['N'], 'queer': ['N'], 'playmate': ['P'], 'crop': [], 'undergo': [], 'uncomfortable': ['N'], 'exuberant': ['P'], 'append': ['P'], 'scientific': [], 'reconciliation': ['P'], 'zest': ['P'], 'chicago': [], 'endowment': [], 'access': [], 'plug': [], 'exercise': [], 'body': [], 'justification': ['P'], 'exchange': [], 'apologetic': [], 'jointly': ['P'], 'sprung': [], 'nimble': ['P'], 'bachelor': [], 'sink': [], 'sing': [], 'extreme': [], 'remark': [], 'talent': ['P'], 'conceit': ['N'], 'alaska': [], 'contradiction': ['N'], 'resurrect': ['P'], 'climb': [], 'honor': ['P', 'P', 'P'], 'blizzard': [], 'limp': ['N'], 'private': [], 'extravagance': ['P'], 'decrease': ['N', 'N'], 'composer': [], 'limb': [], 'patrol': [], 'staple': ['P'], 'sermon': [], 'impotency': [], 'thirsty': ['N'], 'calculation': [], 'themselves': [], 'defendant': ['N'], 'trait': [], 'trail': [], 'insufficiency': ['N'], 'train': ['P'], 'ashamed': ['N'], 'enslave': ['N'], 'eccentricity': ['N'], 'harvest': [], 'subscription': ['P'], 'account': [], 'insoluable': [], 'tunnel': [], 'gruff': ['N'], 'exhilaration': ['P'], 'unreal': [], 'obvious': [], 'praise': ['P', 'P'], 'smear': ['N'], 'parkway': [], 'fetch': [], 'experiential': [], 'immoderate': [], 'infantry': [], 'mixture': [], 'fulfillment': ['P'], 'contempt': ['N'], 'native': [], 'lamb': [], 'daring': ['P'], 'democracy': [], 'awkwardness': ['N'], 'hampshire': [], 'attachment': ['P'], 'furnace': [], 'stock': [], 'incompetence': ['N'], 'philosophy': [], 'collection': [], 'nullify': ['N'], 'multiplication': [], 'ambiguous': ['N'], 'correspond': [], 'chief': [], 'supranational': [], 'tamper': ['N'], 'furious': ['N'], 'minutemen': [], 'addiction': ['N'], 'furnish': [], 'six': [], 'institutional': [], 'wedding': [], 'disarm': ['N'], 'meter': [], 'east-west': [], 'agricultural': [], 'arrangement': [], 'envisage': [], 'bunch': [], 'industrious': ['P'], 'fibreglass': [], 'labor': [], 'heroism': ['P'], 'blatant': ['N'], 'marsh': [], 'publication': [], 'criminal': ['N'], 'dad': [], 'impervious': ['P'], 'tangle': [], 'spell': [], 'muddle': ['N'], 'mention': [], 'kindness': ['P'], 'day': [], 'strive': [], 'february': [], 'thrill': ['P'], 'estranged': ['N'], 'deplore': ['N'], 'radiant': ['P'], 'disregard': ['N'], 'circular': [], 'flair': ['P'], 'thwart': ['N'], 'programmer': [], 'salesman': [], 'defend': ['P'], 'repress': ['N'], 'mate': ['P', 'P'], 'messenger': [], 'stud': ['P'], 'lecture': [], 'electronics': [], 'stun': [], 'math': [], 'thereupon': [], 'frank': ['P'], 'payroll': [], 'hanker': [], 'fourteen': [], 'clarify': ['P'], 'delinquency': ['N'], 'likelihood': [], 'afterward': [], 'verify': ['P'], 'steak': [], 'allies': ['P'], 'mortar': [], 'allied': ['P'], 'qualification': [], 'retain': [], 'successor': [], 'retail': [], 'facilitate': ['P'], 'south': [], 'predominate': [], 'strategic': [], 'embarrassed': [], 'betroth': ['P'], 'pauper': [], 'ancient': [], 'monkey': [], 'vulgar': ['N'], 'unspecified': [], 'lamentable': ['N'], 'immovable': ['N'], 'intermediate': [], 'scant': [], 'ferocity': ['N'], 'liquor': [], 'cabin': [], 'sixteenth': [], 'gear': [], 'unscrupulous': ['N'], 'explanation': [], 'acquire': [], 'dreary': ['N'], 'negro': [], 'environmental': [], 'absent-minded': ['N'], 'democratization': [], 'inestimable': [], 'resist': [], 'glamorous': ['P'], 'slack': [], 'brusque': ['N'], 'compensation': ['P'], 'lover': ['P', 'P'], 'embody': [], 'imaginative': ['P'], 'neutralize': ['N'], 'deterred': [], 'tide': [], 'unlikely': [], 'have': [], 'dictate': ['N'], 'throat': [], 'demonstration': [], 'acceleration': [], 'costliness': ['N'], 'skillful': ['P'], 'gravity': [], 'incentive': [], 'mix': ['N'], 'autocratic': ['N'], 'spinster': ['N'], 'procure': [], 'combustion': [], 'eight': [], 'preliminary': [], 'prisoner': ['N'], 'payment': [], 'enthusiastic': ['P'], 'gather': [], 'request': [], 'disease': ['N'], 'absurd': ['N'], 'occasion': [], 'outlive': ['P'], 'contemptuous': ['N'], 'incredibility': [], 'thicken': [], 'recess': [], 'deject': [], 'text': [], 'unseen': ['N'], 'industrialism': [], 'elimination': ['N'], 'traitor': ['N'], 'slanderer': ['N'], 'rebuke': ['N'], 'supporter': [], 'setter': [], 'wear': ['N'], 'communism': [], 'knowledge': ['P'], 'concurred': [], 'madman': ['N'], 'prolong': [], 'cohesiveness': [], 'ambiguity': ['N'], 'communist': [], 'handsome': ['P'], 'inferior': ['N'], 'equilibrium': [], 'exceptional': [], 'beat': ['N', 'N', 'N'], 'czechoslovakia': [], 'bear': [], 'accrue': ['P'], 'beam': [], 'bean': [], 'darken': ['N'], 'perfection': ['P'], 'unjustified': ['N'], 'romantic': ['P'], 'exportation': [], 'rage': ['N'], 'eyebrow': [], \"won't\": [], 'conform': [], 'omission': ['N'], 'national': [], 'we': [], 'intensity': [], 'scholastic': [], 'greece': [], 'imposition': [], 'reform': [], 'pattern': [], 'hammock': [], 'routine': [], 'progress': ['P', 'P'], 'boundary': [], 'admiration': ['P'], 'sheep': [], 'sorrow': ['N'], 'monarchy': [], 'deliver': [], 'willing': ['P'], 'firmness': ['P'], 'optional': ['P'], 'exclaim': [], 'empathy': ['P'], 'instant': [], 'asunder': ['N'], 'joke': ['P', 'P', 'P'], 'equal': [], 'assure': ['P', 'P', 'P'], 'insidious': ['N'], 'swallow': [], 'masses': [], 'glorious': ['P'], 'otherwise': [], 'comment': [], 'paranoid': ['N'], 'relevant': ['P'], 'abortive': [], 'disarmament': [], 'coexistence': ['P'], 'commend': ['P'], 'recompense': ['P'], 'laugh': ['P', 'P', 'N', 'P', 'P'], 'walnut': [], 'brotherly': ['P'], 'swimmer': [], 'tremendous': ['P', 'P'], \"it's\": [], 'muddy': ['N'], 'restless': ['N'], 'gaze': [], 'curtain': [], 'proposal': [], 'improve': ['P', 'P', 'P'], 'anomaly': ['N'], 'define': [], 'worthy': ['P'], 'deer': [], 'protect': ['P'], 'bulk': [], 'redhead': [], 'tense': ['N'], 'axle': [], 'bull': [], 'fellow': ['P'], 'arisen': ['P'], 'volunteer': [], 'sanitation': [], 'plain': ['P', 'P', 'P', 'P'], 'appearance': [], 'promoter': [], 'stalin': [], 'entrepreneurial': ['P'], 'scatter': [], 'advisable': ['P'], 'amenity': ['P'], 'likable': ['P'], 'helper': [], 'almost': [], 'dissent': ['N'], 'delusion': ['N'], 'aggressiveness': ['N'], 'arabia': [], 'partner': ['P'], 'regression': ['N'], 'whirl': [], 'watchful': [], 'productivity': ['P'], 'richness': ['P'], 'administration': [], 'indistinguishable': [], 'defiant': ['N'], 'film': [], 'infer': ['P'], 'frivolous': ['N'], 'practice': [], 'toil': ['N'], 'cubic': [], 'receiver': [], 'sunburn': [], 'judgment': [], 'insure': [], 'retard': ['N'], 'recourse': [], 'center': [], 'squandor': [], 'nevertheless': [], 'builder': [], 'distingiush': [], 'procurement': [], 'position': [], 'muscle': [], 'soviet': [], 'subtraction': [], 'unarm': ['N'], 'ratify': [], 'sanguine': ['P'], 'executive': [], 'domestic': [], 'necessitate': [], 'clinic': [], 'interim': [], 'surpass': ['P'], 'dakota': [], 'tough': [], 'graduate': [], 'flashlight': [], 'absorption': ['P'], 'onward': ['P'], 'lake': [], 'diabolic': ['N'], 'add': [], 'good-will': [], 'citizen': [], 'crossroad': [], 'ought': [], 'resolved': ['P'], 'untrue': ['N'], 'punctual': ['P'], 'dryer': [], 'insert': [], 'like': ['P', 'P'], 'success': ['P'], 'housekeeper': [], 'journalist': [], 'heed': [], 'bafflement': ['N'], 'audible': ['P'], 'heel': [], 'italian': [], 'accessible': ['P'], 'decease': ['N'], 'classical': [], 'authority': ['P'], 'hair': [], 'convey': [], 'recommendation': [], 'proper': ['P'], 'novelist': [], 'supportive': ['P'], 'stuffy': ['N'], 'shrug': ['N', 'N'], 'vocabulary': [], 'hurricane': [], 'neurosis': [], 'discretion': ['P'], 'economical': [], 'forbid': ['N'], 'regain': [], 'noise': ['N'], 'slight': ['N', 'N', 'N', 'N'], 'lieutenant': [], 'host': [], 'expire': [], 'although': [], 'hospitable': ['P'], 'well-informed': [], 'incomparable': [], 'seriousness': ['P'], 'about': [], 'actual': ['P', 'P'], 'tanganyika': [], 'certainty': [], 'coachman': [], 'evoke': [], 'discard': [], 'revere': ['P'], 'faithfulness': ['P'], 'functional': [], 'chronic': ['N'], 'guard': [], 'esteem': ['P'], 'interdependence': [], 'beneficiary': ['P'], 'signify': ['P'], 'ridge': [], 'elastic': [], 'submarine': [], 'buckle': ['N'], 'condense': [], 'utopian': [], 'glimmer': ['P'], 'buy': ['P'], 'enchantment': ['P'], 'bus': [], 'brand': [], 'but': [], 'plague': ['N', 'N'], 'bum': ['N'], 'remote': [], 'bug': ['N'], 'versatile': ['P'], 'usefulness': ['P'], 'wise': ['P', 'P', 'P', 'P', 'P'], 'glory': ['P'], 'dangerous': ['N'], 'supreme': ['P', 'P'], 'pin': [], 'whisper': [], 'pie': [], 'pig': [], 'crusade': ['P'], 'reemploy': [], 'paraguay': [], 'pit': [], 'campus': [], 'corporation': [], 'oak': [], 'fraudulent': ['N'], 'virtual': [], 'detain': ['N'], 'forestry': [], 'oat': [], 'oas': [], 'special': ['P'], 'ledge': [], 'dresser': [], 'uttermost': ['P'], 'puzzlement': ['N'], 'traumatic': ['N'], 'bundle': [], 'wallow': ['N'], 'augmentation': ['P'], 'shrank': [], 'cheque': [], 'astronomy': [], 'ramble': ['N'], 'prevalent': [], 'millionth': [], 'resolution': [], 'baker': [], 'entreat': ['N'], 'pupil': [], 'yell': [], 'comparatively': [], 'dynasty': [], 'sleep': [], 'appetite': [], 'hate': ['N', 'N', 'N'], 'yonder': [], 'undisputed': [], 'vile': ['N'], 'paris': [], 'agitator': ['N'], 'whatsoever': [], 'tenacity': ['P'], 'pride': ['P'], 'suburban': [], 'merchant': [], 'lure': ['N'], 'risk': [], 'dispense': ['N'], 'rise': [], 'lurk': ['N'], 'every': [], 'gratification': ['P'], 'encounter': [], 'school': [], 'conceive': [], 'cannery': [], 'admissible': [], 'flashy': ['P'], 'enjoy': ['P'], 'veritable': ['P'], 'zinc': [], 'consistent': ['P'], 'welfare': ['P'], 'direct': [], 'nail': [], 'scrutinize': ['N'], 'fabulous': ['P'], 'infiltration': ['N'], 'expressive': [], 'blue': [], 'hide': [], 'christ': [], 'solemn': [], 'specification': [], 'beaten': [], 'liberty': ['P'], 'sung': [], 'insinuate': ['N'], 'mischievous': ['N'], 'endorse': ['P'], 'supplier': [], 'non-violence': ['P'], 'studio': [], 'humility': ['P'], 'path': [], 'voice': [], 'forum': [], 'luggage': [], 'auction': [], 'settler': [], 'ridicule': ['N', 'N'], 'culminate': ['P'], 'mentor': ['P'], 'abolition': [], 'punishment': [], 'stray': ['N'], 'straw': [], 'loveless': ['N'], 'stink': ['N'], 'patience': ['P'], 'sympathise': [], 'would': [], 'el-salvador': [], 'hospital': [], 'mediate': ['P'], 'asset': ['P'], 'assessment': [], 'thermomuclear': [], 'mystical': [], 'barbarous': ['N'], 'naive': ['N'], 'grief': ['N'], 'phone': [], 'connecticut': [], 'excellent': ['P'], 'outdated': [], 'must': [], 'abundance': ['P'], 'join': ['P'], 'advocacy': ['P'], 'install': [], 'appraisal': [], 'grenade': [], 'quarrel': ['N', 'N'], 'decorative': ['P'], 'defile': ['N'], 'estate': [], 'ingenuity': ['P'], 'hemoglobin': [], 'comparative': [], 'attract': ['P'], 'guarantee': ['P', 'P'], 'atlantic-pact': [], 'end': [], 'enfranchisement': [], 'bunk': [], 'vagrant': ['N'], 'rhinoceros': [], 'shred': ['N'], 'adjacent': [], 'gate': [], 'widespread': [], 'actuality': ['P'], 'swiftness': ['P'], 'badly': ['N'], 'description': [], 'mess': ['N', 'N'], 'insecure': ['N'], 'delicacy': ['P'], 'imaginable': [], 'plausibility': ['P'], 'unguarded': ['N'], 'mesh': ['P'], 'parallel': [], 'stronghold': [], 'splendid': ['P'], 'amid': [], 'arbitrate': ['P'], 'perform': [], 'complexity': ['N'], 'upside': ['P'], 'jungle': [], 'correlation': [], 'aloud': [], 'preventive': [], 'unsteady': ['N'], 'recurrent': [], 'interpretation': [], 'wound': ['N', 'N', 'N'], 'over': [], 'sickly': ['N'], 'london': [], 'international-court': [], 'strangle': ['N'], 'undid': ['N'], 'beside': [], 'destroyer': [], 'hypocrisy': ['N'], 'mongolia': [], 'comprehend': ['P'], 'signatory': [], 'fade': [], 'mistreat': [], 'centimetre': [], 'iowa': [], 'tourist': [], 'powerful': [], 'diseased': ['N'], 'hitherto': [], 'rental': [], 'gloom': ['N'], 'netherlands': [], 'explode': ['N'], 'frantically': ['N'], 'capricious': ['N'], 'victory': [], 'each': [], 'consolidate': ['P'], 'prohibit': ['N'], 'hanger': [], 'mahogany': [], 'wholehearted': [], 'truant': ['N'], 'saturday': [], 'clothe': [], 'depress': ['N', 'N', 'N'], 'overcame': [], 'fraught': ['N'], 'god': [], 'motel': [], 'sand': [], 'laid': ['N'], 'sane': ['P'], 'heavenly': ['P'], 'got': [], 'washer': [], 'independence': ['P'], 'arizona': [], 'associate': ['P', 'P', 'P'], 'rail': [], 'eternal': [], 'free': ['P', 'P', 'P', 'P', 'P'], 'polarize': [], 'untruth': ['N'], 'formation': [], 'rain': [], 'fret': ['N'], 'laborer': [], 'suburb': [], 'inexpensive': ['P'], 'tolerant': ['P'], 'hopeless': ['N'], 'unknown': [], 'aspire': ['P'], 'onto': [], 'rang': [], 'already': [], 'dunce': ['N'], 'researcher': [], 'primary': [], 'bombard': ['N'], 'fantasy': ['P'], 'philosophical': [], 'awoke': [], 'insulation': [], 'excommunication': ['N'], 'withheld': ['N'], 'revival': ['P'], 'sarcasm': ['N'], 'top': [], 'indeterminate': ['N'], 'fiction': [], 'ballistic': [], 'too': ['N'], 'corpus': [], 'unbroken': ['P'], 'toe': [], 'reparation': ['P'], 'ceiling': [], 'illiterate': ['N'], 'esoteric': ['N'], 'took': [], 'embellish': ['P'], 'solicitor': [], 'incur': [], 'western': [], 'wardrobe': [], 'inetrans': [], 'nominate': ['P'], 'troop': [], 'flame': [], 'misinformed': ['N'], 'mirth': ['P'], 'beard': [], 'bridge': [], 'fashion': [], 'ran': [], 'taint': ['N'], 'raw': [], 'rat': ['N'], 'affectation': ['N'], 'regulate': [], 'relapse': ['N'], 'snow': [], 'elegance': ['P'], 'client': [], 'educator': [], 'effectiveness': ['P'], 'rider': [], 'propitious': ['P'], 'though': [], 'visionary': ['P'], 'plenty': ['P'], 'coin': [], 'inexcusable': [], 'glow': ['P', 'P'], 'constancy': ['P'], 'potency': ['P'], 'partition': ['N'], 'flow': [], 'treaty': ['P'], 'reputation': [], 'enterprise': [], 'poisonous': ['N'], 'sanctuary': ['P'], 'bait': ['N'], 'inspire': ['P', 'P'], 'pope': [], 'endear': ['P'], 'saga': [], 'alight': ['P'], 'reorganize': [], 'manifestation': [], 'sage': ['P'], 'radio': [], 'constituent': [], 'earth': [], 'bail': ['N'], 'availability': ['P'], 'reunification': [], 'spite': ['N'], 'symphonic': [], 'pacification': [], 'minnesota': [], 'commence': [], 'disgust': ['N', 'N', 'N', 'N', 'N'], 'lodge': [], 'announce': [], 'new-mexicao': [], 'continuity': ['P'], 'anti-social': ['N'], 'hostility': ['N'], 'watch': [], 'fluid': [], 'unhurried': ['P'], 'baffle': ['N'], 'guatemala': [], 'twentieth-century': [], 'despite': [], 'report': [], 'reconstruct': [], 'haiti': [], 'considerate': ['P'], 'overbearing': ['N'], 'subservience': ['N'], 'collusion': ['N'], 'idiotic': ['N'], 'twice': [], 'subserviency': [], 'automatic': [], 'fragrant': ['P'], 'swept': [], 'habit': [], 'nut': [], 'detection': [], 'corrupt': ['N'], 'sporadic': [], 'accede': ['P'], 'capacity': [], 'temptation': ['N'], 'efta': [], 'paternal': [], 'grandmother': [], 'mud': [], 'startle': ['N'], 'finger': [], 'approach': ['P', 'P'], 'discovery': [], 'adventuresome': ['P'], 'reiterate': [], 'confusion': ['N'], 'weak': [], 'however': [], 'boss': [], 'southeast': [], 'devout': ['P'], 'censorship': ['N'], 'contamination': ['N'], 'dedication': ['P'], 'drowsy': ['N'], 'absorbent': ['P'], 'goddess': [], 'irregular': ['N'], 'ranger': [], 'fault': ['N'], 'inconsiderable': [], 'expense': ['N', 'N'], 'self-respect': ['P'], 'confide': ['P'], 'epidemic': ['N'], 'comprehension': ['P'], 'majestic': ['P'], 'litigant': [], 'trust': ['P', 'P', 'P', 'P', 'P', 'P'], 'bureaucratic': [], 'comical': ['P'], 'conference': [], 'bathroom': [], 'jobless': ['N'], 'beef': [], 'been': [], 'blower': [], 'beep': [], 'confident': ['P'], 'beer': [], 'communion': ['P'], 'schoolroom': [], 'affirmance': [], 'fleeting': ['N'], 'bereavement': ['N'], 'uncommon': ['P'], 'craft': [], 'catch': ['N'], 'apprehension': ['N'], 'lessen': [], 'inviolable': [], 'kentucky': [], 'tolerable': ['N'], 'thousandth': [], 'subjugate': ['N'], 'precede': [], 'procedure': [], 'sincerity': ['P'], 'turquoise': [], 'brutal': [], 'demoralise': [], 'broadness': [], 'suggest': [], 'prussia': [], 'forehead': [], 'utilitarian': ['P'], 'complex': ['N'], 'inventory': [], 'several': [], 'satellite': [], 'commonsense': ['P'], 'unbearable': ['N'], 'numerical': [], 'action': [], 'cycle': [], 'forceful': [], 'ocean': [], 'savings': ['P'], 'impediment': ['N'], 'greatest': [], 'incapable': ['N'], 'mother': [], 'alabama': [], 'whimsical': ['P'], 'appease': ['P'], 'unemployment': [], 'bruise': ['N'], 'rodent': [], 'salvage': [], 'enlighten': ['P', 'P'], 'instance': [], 'thick': [], 'guidepost': [], 'succumb': ['N'], 'teenager': [], 'technological': [], 'pitiful': ['N'], 'humanity': ['P'], 'gave': [], 'submissive': ['N'], 'low-income': [], 'vulture': [], 'upturn': [], 'cultural': [], 'judge': [], 'sanitary': ['P'], 'burnt': [], 'befit': ['P'], 'rumor': ['N'], 'apart': [], 'brutality': ['N'], 'gift': ['P'], 'zeal': [], 'contradict': ['N'], 'gifted': ['P'], 'dishonest': ['N'], 'specific': [], 'officer': [], 'arbitrary': ['N'], 'hung': ['N'], 'superlative': ['P'], 'hunt': ['N', 'N', 'N'], 'envision': ['P'], 'stereotype': [], 'refinement': ['P'], 'excerpt': [], 'accost': ['N'], 'election': [], 'displeasure': ['N'], 'escape': [], 'indirect': [], 'intellect': ['P'], 'nobleman': ['P'], 'clash': ['N'], 'armed': [], 'ice': [], 'everything': [], 'icy': [], 'convict': ['N', 'N'], 'subordination': [], 'christmas': [], 'splendor': ['P'], 'cord': [], 'core': [], 'brawl': ['N'], 'corn': [], 'enunciate': [], 'discount': [], 'corp': [], 'chapter': [], 'limitation': ['N'], 'census': [], 'collectivity': [], 'choke': ['N', 'N'], 'surround': [], 'trustworthy': ['P'], 'dinner': [], 'vengeance': ['N'], 'ensure': ['P'], 'steadily': [], 'twitch': ['N'], 'primitive': [], 'anxiousness': ['N'], 'civic': [], 'civil': ['P'], 'puzzle': [], 'visible': [], 'bath': [], 'accommodate': ['P'], 'ussr': [], 'awe': [], 'rely': [], 'pearl': [], 'disinterest': ['N'], 'indispensable': ['P'], 'transform': [], 'sunlight': [], 'bloodthirsty': ['N'], 'stuck': [], 'fought': ['N'], 'gin': [], 'synthesis': ['P'], 'questionable': ['N'], 'intolerance': [], 'head': [], 'medium': [], 'amateur': [], 'heal': ['P'], 'deny': ['N'], 'heinous': ['N'], 'payable': [], 'heat': [], 'hear': [], 'satisfactorily': ['P'], 'heap': [], 'luxuriant': ['P'], 'counsel': ['P', 'P'], 'flavour': [], 'malaysia': [], 'muster': [], 'bargain': ['P'], 'retire': ['N'], 'adore': ['P'], 'decorate': ['P'], 'adorn': ['P'], 'trim': [], 'fury': ['N'], 'sinful': ['N'], 'despotism': [], 'check': [], 'liberalism': ['P'], 'regime': [], 'upheaval': ['N'], 'faithful': ['P'], 'no': [], 'whereas': [], 'when': [], 'junta': [], 'tin': [], 'stagnant': ['N'], 'tie': [], 'erosion': ['N'], 'picture': [], 'reconsider': [], 'liquidate': ['N'], 'football': [], 'discharge': ['N', 'N'], 'rhine': [], 'triumphant': ['P'], 'bullet': ['N'], 'withhold': ['N'], 'vietnam': [], 'fasten': [], 'intimacy': ['P'], 'backward': ['N'], 'coach': [], 'remarkable': ['P'], 'affair': [], 'rob': [], 'rod': [], 'focus': [], 'livelihood': [], 'remarkably': ['P'], 'rot': ['N'], 'discern': ['P'], 'clarification': [], 'prejudicial': ['N'], 'passage': [], 'environment': [], 'charge': ['N', 'N', 'N', 'N'], 'avowal': [], 'sceptical': [], 'imposture': [], 'federation': [], 'advantage': ['P'], 'gravitate': [], 'unfamiliar': ['N'], 'sloppy': ['N'], 'congregation': [], 'cook': [], 'cool': ['N'], 'impressive': ['P'], 'level': [], 'philippines': [], 'brother': [], 'encroach': ['N'], 'quick': [], 'accumulation': [], 'invader': [], 'trend': [], 'injunction': ['N'], 'obsolete': ['N'], 'inland': [], 'bake': [], 'chicken': [], 'substitute': [], 'hymn': [], 'constitution': [], 'pleased': ['P', 'P'], 'long-standing': [], 'reply': [], 'learn': ['P', 'P'], 'water': [], 'attainment': ['P'], 'entertain': ['P', 'P'], 'baseball': [], 'twentieth': [], 'league-of-nations': [], 'noticeable': [], 'healthy': ['P', 'P', 'P'], 'guilty': ['N'], 'mauritius': [], 'denunciation': [], 'hospitality': [], 'weird': ['N'], 'navigation': [], 'emerge': [], 'humour': [], 'shark': ['N'], 'morale': ['P'], 'myself>': ['N'], 'crisis': ['N'], 'trinidad': [], 'positiveness': ['P'], 'vivid': ['P'], 'reactive': ['N'], 'ravage': ['N'], 'theme': [], 'prey': [], 'criteria': [], 'australian': [], 'today': [], 'dismay': [], 'conductor': [], 'muffle': [], 'downhearted': ['N'], 'employee': [], 'drown': ['N', 'N'], 'dismal': ['N'], 'prophecy': [], 'piano': [], 'tribunal': [], 'edible': ['P'], 'inveterate': [], 'ms.': [], 'achieve': ['P'], 'laughter': ['P'], 'unconditional': [], 'streak': [], 'deservedly': ['P'], 'performer': [], 'figure': [], 'downfall': ['N'], 'sense': ['P', 'P'], 'critic': ['N'], 'provoke': ['N'], 'hydrogen': [], 'parliamentary': [], 'eloquent': ['P'], 'meager': ['N'], 'concentration': [], 'vital': [], 'cardinal': [], 'fourth': [], 'plus': [], 'axis': [], 'unbelievable': ['N'], 'paramount': ['P'], 'irrational': ['N'], 'cocktail': [], 'huge': [], 'fascist': ['N'], 'eighty': [], 'respective': [], 'birthday': [], 'eighth': [], 'repeat': [], 'classroom': [], 'commodity': [], 'amuse': ['P'], 'purification': ['P'], 'inform': ['P', 'P'], 'undoubtably': [], 'representation': [], 'refund': [], 'exclusive': [], 'serve': ['N'], 'midnight': [], 'paternalism': [], 'worship': [], 'presence': [], 'enrolment': [], 'low-cost': [], 'amelioration': [], 'farmer': [], 'pan-american': [], 'lonely': ['N'], 'conquer': ['P'], 'wagon': [], 'execute': ['N'], 'equality': ['P'], 'name': [], 'stabilize': ['P'], 'opera': [], 'stir': [], 'advent': ['P'], 'realistic': ['P'], 'realise': [], 'realism': [], 'subjection': ['N'], 'wearisome': ['N'], 'ailment': ['N'], 'sprinkle': [], 'persian': [], 'farewell': [], 'begun': [], 'authenticity': ['P'], 'distributor': [], 'self-government': [], 'hysteria': ['N'], 'exclamation': [], 'concur': ['P'], 'intercourse': ['P'], 'profit': ['P', 'P'], 'oklahoma': [], 'inadequacy': [], 'factory': [], 'extrapolate': [], 'bless': ['P', 'P', 'P'], 'juror': [], 'eagle': [], 'theory': [], 'hull': [], 'oasis': ['P'], 'flyer': [], 'hobble': ['N'], 'accommodation': ['P'], 'delude': [], 'impose': ['N'], 'gusto': ['P'], 'motion': [], 'turn': ['N', 'N'], 'place': [], 'swing': [], 'widow': [], 'childhood': [], 'origin': [], 'feign': ['N'], 'suspend': ['N'], 'revenue': [], 'clumsy': ['N'], 'engineer': [], 'given': [], 'necessarily': ['P'], 'district': [], 'trillion': [], 'haggle': [], 'plastic': [], 'stimulation': ['P'], 'conservation': [], 'persecute': ['N'], 'bounty': [], 'white': [], 'giver': [], 'festivity': ['P'], 'hug': ['P'], 'cope': [], 'season': [], 'hurtful': ['N'], 'hut': [], 'alas': ['N'], 'copy': [], 'holder': [], 'specify': [], 'population': [], 'wide': [], 'require': [], 'diplomatic': [], 'computer': [], 'aesthetic': [], 'outcome': [], 'oath': [], 'trophy': ['P'], 'powder': [], 'and': [], 'generality': [], 'pro': ['P'], 'generalization': [], 'ant': [], 'suspense': [], 'rent': [], 'pry': ['N'], 'any': [], 'prosperity': ['P'], 'conversion': [], 'silhouette': [], 'exploratory': [], 'malta': [], 'ideal': ['P', 'P', 'P'], 'animation': [], 'fracture': ['N'], 'blunt': ['N'], 'skilful': [], 'urge': [], 'commonplace': ['N'], 'multiple': [], 'betrayal': ['N'], 'donation': ['P'], 'multiply': [], 'adopt': [], 'hungry': ['N'], 'uncle': [], 'senior': [], 'quantity': [], 'detective': [], 'inequity': [], 'solar': [], 'cheat': [], 'cheap': ['N'], 'trespass': ['N'], 'hack': ['N'], 'mister': [], 'hustler': ['N'], 'trot': [], 'gulf': [], 'favor': ['P', 'P', 'P', 'P', 'P'], 'written': [], 'crime': ['N'], 'fickle': ['N'], 'wood': [], 'partake': [], 'humiliate': ['N'], 'thankful': ['P'], 'viewpoint': [], 'lighten': [], 'jazz': [], 'expectation': [], 'tailor': [], 'hedge': ['N'], 'trade': [], 'treachery': ['N'], 'reveal': [], 'pinnacle': ['P'], 'aluminum': [], 'radar': [], 'sabotage': ['N'], 'obliterate': ['N'], 'naked': [], 'dawdle': ['N'], 'unwaverimg': [], 'comparable': [], 'prowl': ['N'], 'college': [], 'ability': ['P'], 'detect': [], 'voluntary': ['P'], 'mortgage': [], 'federal': [], 'subsequent': [], 'review': [], 'definite': [], 'its': [], 'outside': [], 'untrustworthy': ['N'], 'arrival': [], 'refine': ['P'], 'fearless': ['P'], 'inseparable': ['P'], 'guitar': [], 'come': [], 'reaction': [], 'libya': [], 'region': [], 'quiet': [], 'contract': [], 'senator': [], 'railway': [], 'penal': [], 'utterance': ['N'], 'duty': ['N'], 'pakistan': [], 'key': [], 'color': [], 'continuation': [], 'pot': [], 'colony': ['N'], 'period': [], 'insist': [], 'resentment': ['N'], 'satisfaction': ['P'], 'pole': [], 'bizarre': ['N'], 'poll': [], 'runaway': ['N'], 'turkey': [], 'consumptive': ['N'], 'subscriber': [], 'peaceful': ['P'], 'engine': [], 'direction': [], 'exasperate': ['N'], 'tiger': [], 'silk': [], 'minister': ['P'], 'careful': ['P'], 'spirit': [], 'robber': ['N'], 'pilot': [], 'case': [], 'shaft': [], 'myself': [], 'amend': [], 'mount': [], 'cash': [], 'premature': [], 'cast': [], 'sometime': [], 'mound': [], 'unsatisfactory': ['N'], 'amiability': ['P'], 'prophesize': [], 'contrive': [], 'discrepancy': [], 'someone': [], 'clutter': ['N'], 'ironic': ['N'], 'resentful': ['N'], 'participant': [], 'author': [], 'rapproachment': [], 'bowl': [], 'confidant': ['P'], 'supra': [], 'injurious': ['N'], 'ethiopia': [], 'sucker': ['N'], 'reminder': [], 'status': [], 'mockery': ['N'], 'applaud': ['P'], 'nest': [], 'refusal': ['N'], 'driver': [], 'weed': ['N'], 'driven': [], 'devoid': ['N'], 'statutory': [], 'arose': [], 'unqualified': ['N'], 'weep': ['N'], 'vantage': [], 'minimize': [], 'purposeful': ['P'], 'ranch': [], 'magical': ['P'], 'melodramatic': ['N'], 'without': [], 'relief': ['P'], 'inability': ['N'], 'termination': [], 'reward': ['P', 'P', 'P'], 'justify': ['P'], 'clog': ['N'], 'violence': ['N'], 'ninth': [], 'lavish': ['P'], 'violent': ['N'], 'cease': [], 'atlantic-community': [], 'polish': ['P'], 'therefrom': [], 'perilous': ['N'], 'halfway': [], 'blow': ['N', 'N'], 'announcement': [], 'dauntless': ['P'], 'rose': [], 'regent': [], 'except': [], 'wall': [], 'bloc': [], 'droop': ['N'], 'hind': [], 'disrupt': ['N'], 'kingdom': [], 'inordinate': [], 'virginia': [], 'walker': [], 'inflation': ['N'], 'furniture': [], 'acute': [], 'snore': ['N'], 'particle': [], 'inate': [], 'shelf': [], 'sanity': ['P'], 'tower': [], 'deduct': [], 'subsidize': ['P'], 'competition': ['N'], 'deduce': ['P'], 'shortcoming': ['N'], 'respect': ['P', 'P', 'P'], 'intact': [], 'slice': [], 'mood': [], 'prolific': ['P'], 'renounce': ['N'], 'legal': ['P'], 'moon': [], 'compulsion': ['N'], 'porter': [], 'metropolis': [], 'assuredness': [], 'inspect': [], 'communicate': ['P', 'P'], 'slaughter': ['N'], 'polite': ['P'], 'immigrate': [], 'on': [], 'jeep': [], 'of': [], 'jeer': ['N'], 'paralysis': ['N'], 'medicare': [], 'stand': ['P'], 'scornful': ['N'], 'or': [], 'tribe': [], 'communication': [], 'determine': [], 'feudal': ['N'], 'corsica': [], 'weight': [], 'there': [], 'arbitrator': [], 'christianity': [], 'strict': ['N', 'N', 'N'], 'strong': [], 'condone': ['P'], 'fish': [], 'mischief': ['N'], 'jug': [], 'vested': [], 'tranquility': ['P'], 'regard': ['P'], 'cabinet': [], 'strenuous': [], 'promote': [], 'fabricate': ['N'], 'wholesale': [], 'extermination': ['N'], 'preside': [], 'feeler': [], 'grasp': [], 'sleazy': ['N'], 'grass': [], 'toilet': [], 'ruffian': ['N'], 'taste': ['P'], 'frighten': ['N', 'N', 'N'], 'britain': [], 'politics': [], 'encompass': [], 'bishop': [], 'incorrect': ['N'], 'abyss': ['N'], 'idiot': ['N'], 'deserve': ['P'], 'compel': ['N', 'N'], 'loyal': ['P'], 'insurance': [], 'rubber': [], 'sufficient': ['P'], 'preoccupation': [], 'deviation': ['N'], 'championship': ['P'], 'oneself': [], 'separate': [], 'symbol': [], 'fiberglas': [], 'courtly': ['P'], 'nucleus': [], 'recognise': [], 'serious': ['P'], 'brass': [], 'nuclei': [], 'undoubted': ['P'], 'bilateral': [], 'wife': [], 'invest': [], 'odds': [], 'curve': [], 'missouri': [], 'all': [], 'chinese': [], 'lack': ['N', 'N', 'N'], 'pta': [], 'disc': [], 'generalize': [], 'unmoved': ['N'], 'dish': [], 'follow': [], 'meditation': ['P'], 'settlement': [], 'synthetic': [], 'glimpse': [], 'apartment': [], 'catastrophe': ['N'], 'homage': ['P'], 'thursday': [], 'removal': [], 'program': [], 'dairy': [], 'present': [], 'nonaligned': [], 'crest': [], 'woman': [], 'worse': ['N'], 'equivocal': ['N'], 'song': [], 'infringement': ['N'], 'induce': [], 'psychologist': [], 'fan': [], 'awful': ['N'], 'ticket': [], 'enter': [], 'sentimental': [], 'stimulus': [], 'list': [], 'grandfather': [], 'wilt': ['N'], 'supplement': [], 'salute': ['P'], 'indemnity': [], 'manslaughter': ['N'], 'dexterity': ['P'], 'iran': [], 'ten': [], 'tea': [], 'negotiator': [], 'invention': [], 'design': [], 'what': [], 'hesitation': [], 'advantageous': ['P'], 'sun': [], 'sum': [], 'whimper': ['N'], 'rascal': ['N'], 'brief': [], 'crush': ['N', 'N'], 'version': [], 'row': [], 'multitude': ['P'], 'womb': [], 'christian': [], 'behaviour': [], 'atlantic-aliance': [], 'relaxation': ['P'], 'tragedy': ['N'], 'thrift': ['P'], 'horrifies': [], 'naval': [], 'difficulty': ['N'], 'dismiss': ['N', 'N'], 'elongated': [], 'untold': [], 'clique': ['N'], 'semester': [], 'proceed': [], 'faint': ['N'], 'wield': [], 'garnish': ['P'], 'affluence': ['P'], 'minor': [], 'flat': [], 'israel': [], 'exigency': [], 'definition': [], 'domination': ['N'], 'stick': ['N'], 'amputate': ['N'], 'known': [], 'mellow': ['P'], 'glad': ['P', 'P'], 'equation': [], 'policemen': [], 'ineffectual': ['N'], 'atrocious': ['N'], 'brown': [], 'abandonment': ['N'], 'conspire': ['N'], 'coerce': ['N'], 'imitation': [], 'arise': [], 'pond': [], 'cultivate': ['P', 'P'], 'swung': [], 'allege': ['N'], 'offspring': [], 'court': [], 'goal': [], 'desperation': ['N'], 'acrimony': ['N'], 'irrigate': [], 'goat': [], 'simplicity': ['P'], 'okay': [], 'abdicate': ['N'], 'anecdote': [], 'preoccupy': [], 'reflect': [], 'disable': ['N'], 'adventure': [], 'numb': ['N'], 'capitalize': ['P'], 'castle': [], 'short': ['N'], 'rationalize': [], 'meticulous': ['P'], 'departure': [], 'supervision': [], 'groundless': [], 'shore': [], 'extrapolation': [], 'shade': [], 'retaliate': ['N'], 'began': [], \"don't\": [], 'september': [], 'essence': [], 'closeness': ['P'], 'mission': [], 'interpersonal': [], 'flaunt': ['P'], 'pretext': [], 'stride': [], 'avenue': [], 'style': [], 'pray': [], 'inward': [], 'co-ordinate': [], 'prodigy': ['P'], 'harmless': ['P'], 'conformist': [], 'bout': ['N'], 'might': [], 'alter': [], 'argentine': [], 'return': ['P', 'P'], 'hunter': ['N'], 'immobility': ['N'], 'framework': [], 'belittle': ['N'], 'accumulate': [], 'adventurous': ['P'], 'ruthlessness': ['N'], 'policeman': [], 'privileged': ['P'], 'inequality': ['N'], 'inherent': [], 'intolerable': ['N'], 'formulate': [], 'generation': [], 'beneficent': ['P'], 'hawaii': [], 'expect': [], 'inflict': ['N'], 'seditious': [], 'reverent': ['P'], 'clandestine': [], 'nepal': [], 'adhere': [], 'reverend': [], 'health': ['P'], 'hill': [], 'shipment': [], 'absorb': [], 'congenial': ['P'], 'fiber': [], 'boldness': ['P'], 'friday': [], 'forgive': ['P'], 'foible': ['N'], 'cookie': [], 'monotony': ['N'], 'attendant': [], 'generate': ['P'], 'guest': [], 'thrown': [], 'bourgeoisie': [], 'prejudice': ['N'], 'threat': ['N'], 'twenty': [], 'consequence': [], 'fallen': [], 'feed': [], 'unhealthy': ['N'], 'feel': [], 'radical': ['N'], 'fancy': ['P'], 'feet': [], 'sympathy': ['P'], 'revolution': ['N'], 'least': [], 'wench': ['N'], 'bland': ['N'], 'traveler': [], 'totalitarianism': [], 'overrode': [], 'three-dimensional': [], 'corporal': [], 'moan': ['N'], 'story': [], 'breathless': [], 'temperature': [], 'utilization': ['P'], 'automobile': [], 'interact': [], 'collar': [], 'doomsday': ['N'], 'storm': ['N'], 'reverence': ['P'], 'ventricle': [], 'syrup': [], 'aristocracy': ['P'], 'ecuador': [], 'headache': ['N'], 'imperfect': ['N'], 'earliest': [], 'pump': [], 'hotel': [], 'luckily': ['P'], 'fidget': ['N'], 'rifle': [], 'convinced': [], 'officiate': [], 'king': [], 'kind': ['P', 'P'], 'compartment': [], 'double': ['N', 'N'], 'instruction': [], 'outrageous': ['N'], 'prairie': [], 'architect': [], 'reclaim': ['P'], 'stale': ['N'], 'restful': ['P'], 'risky': ['N'], 'motivation': ['P'], 'outstanding': ['P'], 'strengthen': [], 'suspicious': ['N'], 'shrewd': ['P'], 'decadent': ['N'], 'alike': [], 'cognizant': ['P'], 'gall': ['N'], 'remodel': ['P'], 'tired': ['N', 'N', 'N', 'N'], 'port': [], 'chairman': [], 'populous': ['P'], 'contractual': [], 'electric': [], 'populate': [], 'park': [], 'inconvenience': [], 'reach': [], 'react': [], 'cigarette': [], 'nothing': [], 'prestige': ['P'], 'achievement': ['P'], 'stately': ['P'], 'value': ['P', 'P'], 'mineral': [], 'destruct': [], 'traditional': ['P'], 'forerunner': [], 'hindrance': ['N'], 'liberate': ['P'], 'lying': ['N', 'N'], 'differentiate': [], 'fond': ['P', 'P', 'P', 'P', 'P', 'P', 'P'], 'inflexible': [], 'melody': ['P'], 'aggravate': ['N'], 'delinquent': ['N'], 'unrealistic': [], 'grotesque': ['N'], 'penalty': [], 'betray': ['N'], 'hip': [], 'his': [], 'hit': ['N', 'N', 'P'], 'babble': ['N'], 'whistle': [], 'avarice': ['N'], 'hid': [], 'procrastination': ['N'], 'instinctive': ['P'], 'banquet': [], 'commensurate': ['P'], 'continuum': [], 'investigate': [], 'activity': [], 'cringe': ['N'], 'relentless': [], 'insensible': ['N'], 'loveliness': ['P'], 'art': ['P', 'P'], 'dump': ['N', 'N'], 'intelligence': ['P'], 'defense': ['P'], 'dumb': ['N'], 'bard': [], 'unsure': [], 'bark': [], 'arm': [], 'barn': [], 'blurt': ['N'], 'forlorn': ['N'], 'freshmen': [], 'various': [], 'plywood': [], 'numerous': [], 'corruption': ['N'], 'frugality': [], 'latin': [], 'sold': [], 'attention': [], 'outfit': [], 'rapid': [], 'opposition': ['N'], 'competent': ['P'], 'prelude': [], 'lyrical': ['P'], 'bronze': [], 'prescription': [], 'hesitant': [], 'oversea': [], 'bandit': ['N'], 'became': [], 'context': [], 'witch': [], 'sloth': ['N'], 'distress': ['N', 'N'], 'unsoundness': [], 'sweet': ['P', 'P', 'P', 'P'], 'sweep': [], 'harbour': [], 'improper': ['N'], 'village': [], 'rave': ['P'], 'bolster': ['P'], 'decline': ['N', 'N'], 'complication': ['N'], 'overlook': ['N'], 'political': [], 'buzzard': [], 'dug': [], 'whom': [], 'reduction': [], 'sociable': ['P'], 'woke': [], 'attractive': ['P'], 'affectionate': ['P'], 'flight': [], 'algeria': [], 'precision': ['P'], 'togo': [], 'demand': [], 'instructor': [], 'heighten': [], 'scottish': [], 'georgia': [], 'conception': [], 'boast': ['N'], 'workmen': [], 'frozen': [], 'civility': ['P'], 'corrode': ['N'], 'adolescent': [], 'behavior': [], 'demon': ['N'], 'rip': ['N', 'N'], 'ecstasy': ['P'], 'obstacle': ['N'], 'frantic': ['N'], 'rid': ['N'], 'anguish': ['N'], 'lengthy': [], 'ample': ['P'], 'advise': [], 'prerequisite': [], 'literature': [], 'restraint': [], 'negotiate': ['P'], 'cement': [], 'flown': [], 'impede': ['N'], 'robust': ['P'], 'bourgeois': [], 'built': [], 'lower': ['N'], 'try': ['N', 'N'], 'cheek': [], 'anybody': [], 'analysis': [], 'cheer': ['P'], 'edge': ['N'], 'machinery': [], 'inspirational': ['P'], 'homeward': [], 'grievance': ['N'], 'presume': [], 'scrupulous': ['P'], 'altruistic': ['P'], 'competitive': ['N'], 'vigilant': ['P'], 'regardless': ['N'], 'continent': [], 'profitable': ['P'], 'resourcefulness': ['P'], 'governmental': [], 'exhibition': [], 'confederacy': [], 'reinstate': ['P'], 'complaint': ['N'], 'vindicate': [], 'condemnation': ['N'], 'unlimited': ['P'], 'aggregation': ['P'], 'awaken': [], 'moody': ['N'], 'skeptical': ['N'], 'systematically': [], 'confront': ['N'], 'incidental': [], 'ignore': [], 'collect': [], 'distrust': [], 'unstable': ['N'], 'rearrangement': [], 'essential': ['P', 'P'], 'paralyzed': ['N'], 'pretension': [], 'litter': ['N'], 'selfishness': ['N'], 'sprightly': ['P'], 'seller': [], 'innovation': [], 'prod': ['N'], 'apathetic': ['N'], 'jumpy': ['N'], 'disconcerted': ['N'], 'consolation': [], 'intense': [], 'togetherness': ['P'], 'cautious': [], 'ordeal': ['N'], 'frightful': ['N'], 'lifeless': ['N'], 'range': [], 'militia': [], 'hatred': ['N'], 'youthful': [], 'credible': ['P'], 'unnoticed': ['N'], 'deafness': ['N'], 'conquest': ['P'], 'heedless': ['N'], 'drifter': [], 'vagabond': ['N'], 'madagascar': [], 'tumble': [], 'lone': ['N'], 'amidst': [], 'statuesque': ['P'], 'upheld': ['P'], 'conceivable': [], 'analyze': [], 'mundane': ['N'], 'plunge': [], 'memory': [], 'glamour': ['P'], 'cloth': [], 'reassurance': ['P'], 'usurp': ['N'], 'upright': ['P'], 'junior': [], 'patriot': ['P'], 'gallantry': ['P'], 'consist': [], 'characteristic': [], 'caller': [], 'redress': [], 'highlight': ['P'], 'etc.': [], 'individuality': ['P'], 'humanitarian': ['P'], 'freak': ['N'], 'entrance': [], 'bicep': [], 'rally': ['P'], 'lemon': [], 'diurnal': [], 'tentative': [], 'endurance': ['P'], 'malicious': ['N'], 'parlor': [], 'income': [], 'bandstand': [], 'mock': ['N'], 'nice': ['P', 'P', 'P', 'P'], 'smitten': ['P'], 'backbone': ['P'], 'inflame': ['N'], 'meaning': [], 'anti-trust': [], 'fertilizer': [], 'wrinkle': ['N'], 'relaunch': [], 'rightful': ['P'], 'vice': ['N'], 'impatient': ['N'], 'narrative': [], 'international': [], 'buffalo': [], 'once': [], 'edc': [], 'pervert': ['N'], 'lean': [], 'resistance': [], 'alien': ['N'], 'dispel': ['N'], 'gang': [], 'discordant': ['N'], 'adjustment': ['P'], 'uphold': ['P'], 'whig': [], 'disposal': ['N'], 'deterministic': [], 'obstinate': ['N'], 'stable': ['P'], 'breach': ['N'], 'include': [], 'rag': [], 'confirmation': [], 'electron': [], 'artery': [], 'posture': [], 'gullible': ['N'], 'tenderness': ['P'], 'session': [], 'dealt': [], 'friendliness': [], 'non-fiction': [], 'malice': ['N'], 'fold': [], 'plead': [], 'abominable': ['N'], 'folk': [], 'capital': ['N'], 'ammunition': [], 'unruly': ['N'], 'gaily': ['P'], 'degree': [], 'giant': [], 'explore': [], 'gloat': ['N'], 'unremitting': [], 'miser': ['N'], 'mistreatment': [], 'guarantor': [], 'reds': [], 'chaste': ['P'], 'deputy': [], 'egypt': [], 'confession': ['N'], 'apt': ['P'], 'improbable': [], 'aboard': [], 'motor': [], 'apply': [], 'unprovoked': [], 'fed': ['N'], 'fee': [], 'from': [], 'stream': [], 'consumption': [], 'frog': [], 'germ': ['N'], 'procrastinate': ['N'], 'few': [], 'examination': [], 'december': [], 'possession': [], 'clever': ['P'], 'porch': [], 'musician': [], 'impress': ['P'], 'infection': ['N'], 'cooperate': ['P'], 'sore': ['N'], 'rabbit': [], 'women': [], 'annoy': ['N'], 'topic': [], 'disingenuous': ['N'], 'augment': ['P'], 'stroke': [], 'anywhere': [], 'dissolve': [], 'proof': [], 'indulgence': ['P'], 'patron': ['P'], 'earnestness': ['P'], 'inaccessible': ['N'], 'tax': ['N'], 'rapt': ['P'], 'villain': ['N'], 'something': [], 'prowess': ['P'], 'counterfeit': ['N'], 'sir': [], 'sit': [], 'buoyant': ['P'], 'justifiable': [], 'parlour': [], 'fortunate': ['P'], 'specialisation': [], 'swear': ['N'], 'justifiably': ['P'], 'instead': [], 'panic': ['N'], 'sin': ['N', 'N'], 'typewriter': [], 'tension': ['N'], 'administrator': [], 'maternal': [], 'attend': ['P'], 'tact': ['P'], 'hazard': ['N', 'N'], 'impulsive': ['N'], 'discomfort': ['N'], 'abuse': ['N', 'N'], 'wrist': [], 'ethnic': [], 'readiness': [], 'light': ['P', 'P'], 'arduous': ['N'], 'courage': ['P'], 'irregularity': ['N'], 'innumerable': [], 'strove': [], 'unchecked': [], 'badger': [], 'glen': [], 'superior': ['P'], 'complicate': ['N', 'N'], 'wilderness': [], 'glee': ['P'], 'permanent': [], 'restrain': [], 'choose': [], 'orange': [], 'holiday': [], 'sweden': [], 'adornment': ['P'], 'crash': [], 'contention': [], 'orthodox': [], 'plenipotentiary': [], 'material': [], 'flew': [], 'negligent': ['N'], 'campaigner': [], 'ambition': [], 'republican': [], 'flee': ['N'], 'fled': ['N'], 'crass': ['N'], 'bewilderment': ['N'], 'profound': ['P'], 'feast': ['P', 'P'], 'unpredictable': [], 'conservatism': [], 'trap': ['N', 'N'], 'promise': ['P', 'P'], 'economy': [], 'tray': [], 'unshaken': [], 'registration': [], 'related': [], 'our': [], 'out': [], 'category': [], 'moth': [], 'acknowledgment': [], 'sentiment': [], 'frontier': [], 'vehement': ['N'], 'chaos': ['N'], 'impartial': ['P'], 'thrifty': ['P'], 'honorable': ['P'], 'yankee': [], 'plural': [], 'sacrifice': [], 'disclose': [], 'dictionary': [], 'planner': [], 'scoff': ['N'], 'promptly': ['P'], 'york': [], 'anyhow': [], 'unfettered': [], 'tenant': [], 'additional': [], 'imprecision': ['N'], 'organic': [], 'substantiate': ['P'], 'feasible': ['P'], 'conversation': [], 'hence': [], 'uproot': ['N'], 'sew': [], 'obscurity': [], 'echo': [], 'probation': [], 'filial': ['P'], 'straight': ['P'], 'salutary': ['P'], 'glisten': ['P', 'P'], 'flourish': ['P'], 'galley': [], 'renovation': ['P'], 'priority': [], 'their': [], 'boil': [], 'misunderstood': ['N'], 'agility': ['P'], 'shell': ['N', 'N'], 'unceasing': [], 'folktales': [], 'academy': [], 'shallow': ['N'], 'simulate': [], 'diminish': [], 'july': [], 'institution': [], 'holland': [], 'riches': ['P'], 'probe': [], 'frugal': ['P'], 'individual': [], 'indistinct': [], 'sculpture': [], 'westward': [], 'sidewalk': [], 'elate': ['P'], 'catholic': [], 'afraid': ['N'], 'angle': [], 'propriety': ['P'], 'wreakage': [], 'agency': [], 'boastful': ['N'], 'admittance': ['P'], 'which': [], 'divert': ['N'], 'combat': ['N', 'N'], 'centre': [], 'collaboration': ['P'], 'who': [], 'harmful': ['N'], 'emancipation': [], 'class': [], 'statute': [], 'discourage': ['N', 'N'], 'dent': ['N'], 'guinea': [], 'inane': ['N'], 'mistook': [], 'please': ['P', 'P'], 'stove': [], 'longevity': ['P'], 'purely': [], 'senegal': [], 'weekly': [], 'utter': [], 'fear': ['N', 'N', 'N'], 'debate': [], 'litigation': [], 'pastoral': [], 'craziness': ['N'], 'operational': [], 'inhabit': [], 'local': [], 'indignant': [], 'spun': [], 'prosecute': ['P'], 'topple': ['N'], 'cuba': [], 'plaintiff': ['N'], 'dope': ['N'], 'massacre': ['N'], 'burglary': ['N'], 'penetrate': [], 'spur': [], 'ghetto': ['N'], 'differential': [], 'affluent': ['P'], 'compliment': ['P'], 'ascertain': [], 'viet': [], 'sediment': [], 'view': [], 'unison': [], 'available': [], 'requirement': [], 'inventive': [], 'humiliation': ['N'], 'expel': ['N'], 'admonition': ['N'], 'luminous': ['P'], 'closet': [], 'reassert': [], 'invulnerable': ['P'], 'monstrous': ['N'], 'carriage': [], 'genius': ['P'], 'identification': [], 'viper': ['N'], 'crude': ['N'], 'chairmen': [], 'masterful': ['P'], 'bought': [], 'trifle': [], 'exam': [], 'amen': [], 'joy': ['P'], 'embarrassment': ['N'], 'job': [], 'hypothesis': [], 'spoil': ['N'], 'swift': [], 'untouched': ['P'], 'disadvantageous': ['N'], 'april': [], 'grain': [], 'tactical': [], 'unclear': ['N'], 'munition': [], 'tunisia': [], 'walk': [], 'subscribe': ['P'], 'worldly': [], 'coddle': ['P'], 'withdrawn': [], 'unclean': ['N'], 'second': [], 'platform': [], 'decent': ['P'], 'literal': [], 'pervade': [], 'nickel': [], 'tyrannical': [], 'harshest': [], 'butchery': ['N'], 'meritorious': ['P'], 'scrutiny': [], 'overture': [], 'tangible': [], 'overturn': ['N'], 'painter': [], 'wily': ['N'], 'unlike': [], 'sanctify': ['P'], 'fearful': ['N'], 'align': [], 'sultan': [], 'will': [], 'thou': [], 'depreciation': ['N'], 'wild': ['N', 'N', 'N', 'N'], 'layer': [], 'quarrelsome': ['N'], 'apprehend': ['P'], 'non-proliferation': [], 'thus': [], 'disapprove': ['N'], 'encouragement': ['P'], 'dual': [], 'etrans': [], 'thud': ['N'], 'perhaps': [], 'headlight': [], 'radiation': [], 'cross': ['N', 'N', 'N'], 'unite': [], 'member': [], 'adverse': ['N'], 'unity': ['P'], 'exuberance': ['P'], 'merciful': ['P'], 'geographical': [], 'inch': [], 'disciple': [], 'grandeur': ['P'], 'difficult': ['N'], 'slave': [], 'residential': [], 'recline': ['P'], 'disagree': [], 'outcast': ['N'], 'issuance': [], 'student': [], 'lobby': [], 'correspondent': [], 'undertaker': [], 'whole': [], 'unimpeachable': ['P'], 'scruples': ['P'], 'spectator': [], 'english': [], 'undertaken': [], 'breaker': [], 'inc.': [], 'rocker': [], 'excessive': ['N'], 'rocket': [], 'camel': [], 'percent': [], 'wealthy': [], 'obtain': ['P'], 'replenish': [], 'happiness': ['P'], 'temerity': [], 'disturbance': ['N'], 'console': ['P'], 'supply': [], 'sky': [], 'discuss': ['P'], 'simple': [], 'book': [], 'adoption': [], 'nor': [], 'smart': ['P', 'P', 'P'], 'ski': [], 'unprecedented': [], 'enact': [], 'identical': [], 'sick': ['N', 'N', 'N', 'N'], 'myth': [], \"who's\": [], 'term': [], 'know': ['P', 'P'], 'facial': [], 'press': ['N'], 'hollow': ['N'], 'helpful': ['P'], 'perpetual': [], 'loser': ['N'], 'overtures': [], 'tennessee': [], 'parity': [], 'exceed': [], 'because': [], 'shabby': ['N'], 'sequence': [], 'scared': ['N', 'N'], 'flagrant': ['N'], 'reclamation': [], 'growth': [], 'export': [], 'empire': [], 'employment': [], 'leaf': [], 'lead': ['P'], 'leak': ['N'], 'farsighted': ['P'], 'miner': [], 'thank': ['P', 'P', 'P'], 'philosopher': [], 'leap': [], 'leader': [], 'trout': [], 'locate': [], 'southerner': [], 'murderer': [], 'obey': ['P'], 'slum': [], 'paste': [], 'slug': ['N'], 'throne': [], 'rare': [], 'incline': [], 'extension': [], 'unsurpassable': [], 'column': [], 'universe': [], 'dependence': [], 'surge': ['P'], 'dependency': [], 'carrier': [], 'sweat': [], 'emperor': [], 'outset': ['P'], 'own': [], 'gymnastic': [], 'owe': ['N'], 'creativity': ['P'], 'loner': ['N'], 'weather': [], 'champ': ['P'], 'brush': [], 'lawful': ['P'], 'negate': ['N'], 'gape': [], 'van': [], 'transfer': [], 'incipient': [], 'continental': [], 'intention': [], 'nourish': ['P'], 'mutter': ['N'], 'volume': [], 'contradictory': ['N'], 'granny': [], 'assail': ['N'], 'squeeze': [], 'selfish': ['N'], 'made': [], 'tactics': ['P'], 'whether': [], 'recede': ['N'], 'distract': ['N'], 'record': [], 'below': [], 'cake': [], 'demonstrate': [], 'eagerness': ['P'], 'inadequate': ['N'], 'meaningless': ['N'], 'dearth': ['N'], 'resumption': [], 'goodness': ['P'], 'counteract': ['N'], 'squirrel': [], 'mutual': ['P', 'P'], 'incredible': ['N'], 'boot': ['N'], 'illinois': [], 'other': [], 'boom': ['P'], 'branch': [], 'conclusion': [], 'junk': ['N'], 'nourishment': ['P'], 'june': [], 'frustrate': ['N', 'N', 'N'], 'cliff': [], 'auxiliary': [], 'fund': [], 'jewel': [], 'racer': [], 'northerly': [], 'ideological': [], 'furthermore': []}\n"
     ]
    }
   ],
   "source": [
    "# this code might be helpful to see how to read the file\n",
    "keys_to_ignore = ['Entry','Source','Defined']\n",
    "word_senti = {}\n",
    "with open('inqtabs.txt') as fin:\n",
    "    reader = csv.DictReader(fin,delimiter='\\t')\n",
    "    for i,line in enumerate(reader):\n",
    "        senti = []\n",
    "        if line['Entry'].find('#') != -1:\n",
    "            w = line['Entry'].lower()[:line['Entry'].index('#')]\n",
    "        else:\n",
    "            w=line['Entry'].lower()\n",
    "        if word_senti.get(w) == None:\n",
    "            word_senti[w] = []\n",
    "#         print line['Entry'], ' '.join([\"%s:%s\"%(key,val) for key,val in line.iteritems() if len(val)>0 and key not in keys_to_ignore])\n",
    "        if line.get('Negativ'):\n",
    "#             print \"Found %s \" % line.get('Negativ')\n",
    "            senti.append(\"N\")\n",
    "        if line.get('Positiv'):\n",
    "#             print \"Found %s \" % line.get('Positiv')\n",
    "            senti.append(\"P\")\n",
    "        word_senti[w].extend(senti)\n",
    "\n",
    "# for k in word_senti.keys():\n",
    "#     word_senti[k] = sum(word_senti[k], [])\n",
    "    \n",
    "#         if i > 20: \n",
    "#             break\n",
    "print word_senti"
   ]
  },
  {
   "cell_type": "markdown",
   "metadata": {},
   "source": [
    "**Deliverable 2a** Compute the counts and frequency of positive and negative words in each subreddit, using the positive and negative word categories from the General Inquirer. Note that some words have multiple senses (e.g. \"ABOUT\"). Combine all tags for all senses."
   ]
  },
  {
   "cell_type": "code",
   "execution_count": 59,
   "metadata": {
    "collapsed": false
   },
   "outputs": [
    {
     "ename": "ValueError",
     "evalue": "substring not found",
     "output_type": "error",
     "traceback": [
      "\u001b[0;31m---------------------------------------------------------------------------\u001b[0m",
      "\u001b[0;31mValueError\u001b[0m                                Traceback (most recent call last)",
      "\u001b[0;32m<ipython-input-59-3d9be95221d7>\u001b[0m in \u001b[0;36m<module>\u001b[0;34m()\u001b[0m\n\u001b[1;32m      1\u001b[0m \u001b[0;31m#keep\u001b[0m\u001b[0;34m\u001b[0m\u001b[0;34m\u001b[0m\u001b[0m\n\u001b[0;32m----> 2\u001b[0;31m \u001b[0mline\u001b[0m\u001b[0;34m[\u001b[0m\u001b[0;34m'Entry'\u001b[0m\u001b[0;34m]\u001b[0m\u001b[0;34m.\u001b[0m\u001b[0mlower\u001b[0m\u001b[0;34m(\u001b[0m\u001b[0;34m)\u001b[0m\u001b[0;34m[\u001b[0m\u001b[0;34m:\u001b[0m\u001b[0mline\u001b[0m\u001b[0;34m[\u001b[0m\u001b[0;34m'Entry'\u001b[0m\u001b[0;34m]\u001b[0m\u001b[0;34m.\u001b[0m\u001b[0mindex\u001b[0m\u001b[0;34m(\u001b[0m\u001b[0;34m'#'\u001b[0m\u001b[0;34m)\u001b[0m\u001b[0;34m]\u001b[0m\u001b[0;34m\u001b[0m\u001b[0m\n\u001b[0m",
      "\u001b[0;31mValueError\u001b[0m: substring not found"
     ]
    }
   ],
   "source": [
    "#keep\n",
    "line['Entry'].lower()[:line['Entry'].index('#')]"
   ]
  },
  {
   "cell_type": "code",
   "execution_count": 65,
   "metadata": {
    "collapsed": false
   },
   "outputs": [
    {
     "name": "stdout",
     "output_type": "stream",
     "text": [
      "{'Libertarian': {'neg': 2236, 'pos': 3596}, 'Socialism': {'neg': 3907, 'pos': 6431}, 'Anarchism': {'neg': 4007, 'pos': 6206}, 'Progressive': {'neg': 2388, 'pos': 3538}, 'Conservative': {'neg': 1997, 'pos': 2897}}\n"
     ]
    }
   ],
   "source": [
    "# your code\n",
    "subreddit_names1 = ['Libertarian','Conservative']\n",
    "linebreak = '-----==----==---==-----'\n",
    "pos_neg = {}\n",
    "for subreddit in subreddit_names:\n",
    "    pos_neg[subreddit]={\"pos\":0, \"neg\":0}\n",
    "    com = subreddits[subreddit]\n",
    "    for comment in com:\n",
    "        for sent in sent_tokenize(comment):\n",
    "            for word in word_tokenize(sent):\n",
    "                if(word_senti.get(word)):\n",
    "                    sent = word_senti.get(word)\n",
    "                    for sen in sent:\n",
    "                        if sen == 'P':                        \n",
    "                            pos_neg[subreddit][\"pos\"]+=1\n",
    "                        if sen == 'N':                        \n",
    "                            pos_neg[subreddit][\"neg\"]+=1\n",
    "\n",
    "print pos_neg"
   ]
  },
  {
   "cell_type": "markdown",
   "metadata": {},
   "source": [
    "**Deliverable 2b** Use the binomial CDF to determine whether the **proportion of emotion words** that are positive in each subreddit is **significantly different** from the baseline rate, computed over all other subreddits. (Emotion words are all those words that are marked as either Positive or Negative.) Report a two-tailed p-value. Recall that p-values are always in the range $[0,1]$."
   ]
  },
  {
   "cell_type": "code",
   "execution_count": 69,
   "metadata": {
    "collapsed": false
   },
   "outputs": [],
   "source": [
    "from scipy.stats import binom"
   ]
  },
  {
   "cell_type": "code",
   "execution_count": 72,
   "metadata": {
    "collapsed": false
   },
   "outputs": [
    {
     "name": "stdout",
     "output_type": "stream",
     "text": [
      "0.609305701153\n",
      "{'Libertarian': 0.87598832740798827, 'Socialism': 0.99626954576978766, 'Progressive': 0.027367280949124041, 'Anarchism': 0.36993427056705236, 'Conservative': 0.0067795601264248381}\n"
     ]
    }
   ],
   "source": [
    "# your code\n",
    "theta = 0\n",
    "num=den=0.0\n",
    "for k in pos_neg.values():\n",
    "    num+=k['pos']\n",
    "    den+=k['pos']+k['neg']\n",
    "theta = num/den\n",
    "print theta\n",
    "cdf = {}\n",
    "for i, v in pos_neg.iteritems():\n",
    "    k = v['pos']\n",
    "    N = v['pos']+v['neg']\n",
    "    cdf[i] = binom.cdf(k,N,theta)\n",
    "\n",
    "print cdf\n",
    "#p value = 2 * cdf\n"
   ]
  },
  {
   "cell_type": "markdown",
   "metadata": {},
   "source": [
    "**Deliverable 2c** Perform a similar analysis for another GI category of your choosing. \n",
    "You may compare the counts of the category against the total number of tokens, or against an alternative category (as done above), but please justify your choice. Compute a two-tailed p-value as above."
   ]
  },
  {
   "cell_type": "code",
   "execution_count": 8,
   "metadata": {
    "collapsed": false
   },
   "outputs": [],
   "source": [
    "# your code"
   ]
  },
  {
   "cell_type": "markdown",
   "metadata": {},
   "source": [
    "# Classification #\n",
    "\n",
    "In this part, you will build a classifier to predict the correct subreddit for each comment.\n",
    "\n",
    "To do this, you will use [sklearn](http://scikit-learn.org/). You should take a look at the documentation for this package. "
   ]
  },
  {
   "cell_type": "code",
   "execution_count": 84,
   "metadata": {
    "collapsed": false
   },
   "outputs": [],
   "source": [
    "# you may find this generator helpful, but you don't have to use it\n",
    "def getText(subreddits):\n",
    "    for subreddit in subreddits:\n",
    "        for comment in subreddit:\n",
    "            yield comment"
   ]
  },
  {
   "cell_type": "markdown",
   "metadata": {},
   "source": [
    "**Deliverable 3a** \n",
    "\n",
    "- Use [CountVectorizer](http://scikit-learn.org/stable/modules/feature_extraction.html) to build a matrix representation of the text, such that each row is a comment and each column is a word. Include all words.\n",
    "- Print the shape of this matrix\n",
    "- Use this matrix to redo the (sorted) log-count-log-rank plot from the previous section, this time over all documents in the dataset.\n",
    "- Also use this matrix to count the percentage of singleton words."
   ]
  },
  {
   "cell_type": "code",
   "execution_count": 43,
   "metadata": {
    "collapsed": false
   },
   "outputs": [
    {
     "name": "stdout",
     "output_type": "stream",
     "text": [
      "4291\n",
      "  (0, 7379)\t1\n",
      "  (0, 14545)\t1\n",
      "  (0, 4930)\t2\n",
      "  (0, 17061)\t3\n",
      "  (0, 15336)\t3\n",
      "  (0, 16636)\t2\n",
      "  (0, 12447)\t1\n",
      "  (0, 10691)\t1\n",
      "  (0, 15270)\t5\n",
      "  (0, 4078)\t1\n",
      "  (0, 10625)\t4\n",
      "  (0, 7257)\t1\n",
      "  (0, 16379)\t1\n",
      "  (0, 15344)\t1\n",
      "  (0, 11125)\t1\n",
      "  (0, 7886)\t1\n",
      "  (0, 6435)\t1\n",
      "  (0, 9301)\t1\n",
      "  (0, 16709)\t1\n",
      "  (0, 9396)\t1\n",
      "  (0, 14134)\t1\n",
      "  (0, 15315)\t1\n",
      "  (0, 7058)\t1\n",
      "  (0, 5332)\t1\n",
      "  (0, 5325)\t1\n",
      "  :\t:\n",
      "  (4290, 6174)\t1\n",
      "  (4290, 8710)\t1\n",
      "  (4290, 10704)\t1\n",
      "  (4290, 1921)\t1\n",
      "  (4290, 13355)\t1\n",
      "  (4290, 15359)\t1\n",
      "  (4290, 5721)\t1\n",
      "  (4290, 5724)\t1\n",
      "  (4290, 10695)\t1\n",
      "  (4290, 13763)\t3\n",
      "  (4290, 3957)\t1\n",
      "  (4290, 13321)\t1\n",
      "  (4290, 10662)\t1\n",
      "  (4290, 2884)\t1\n",
      "  (4290, 7099)\t2\n",
      "  (4290, 12313)\t1\n",
      "  (4290, 7191)\t1\n",
      "  (4290, 8488)\t1\n",
      "  (4290, 6888)\t1\n",
      "  (4290, 3737)\t1\n",
      "  (4290, 16606)\t1\n",
      "  (4290, 8077)\t1\n",
      "  (4290, 1866)\t1\n",
      "  (4290, 11944)\t1\n",
      "  (4290, 15840)\t1\n",
      "<function <lambda> at 0x1108f3140>\n"
     ]
    }
   ],
   "source": [
    "# your code\n",
    "from sklearn.feature_extraction.text import CountVectorizer\n",
    "vectorizer = CountVectorizer(min_df=1)\n",
    "# vectorizer.fit_transform(corpus)\n",
    "# print subreddits['Libertarian']\n",
    "corpus = []\n",
    "for reddit, comms in subreddits.iteritems():\n",
    "    for com in comms:\n",
    "        corpus.append(com)\n",
    "print len(corpus)\n",
    "X = vectorizer.fit_transform(corpus)\n",
    "print X\n",
    "analyzer = vectorizer.build_analyzer()\n"
   ]
  },
  {
   "cell_type": "markdown",
   "metadata": {},
   "source": [
    "**Deliverable 3b** \n",
    "You will now train a [Logistic Regression](http://scikit-learn.org/stable/modules/generated/sklearn.linear_model.LogisticRegression.html) classifier. For now, you may use the default parameters.\n",
    "\n",
    "- To do this, you will need a vector or list of labels for each comment. The labels should be numeric. \n",
    "- Create this vector, and use it to compute the proportion of comments from each class.\n",
    "- One you have the vector, apply [cross-validation](http://scikit-learn.org/stable/modules/feature_extraction.html) to evaluate the classifier performance.\n",
    "- Try 3-fold, 4-fold, 5-fold, 7-fold, and 10-fold cross-validation. Plot the results and explain the trend that you observe (explaining why you think it is happening)."
   ]
  },
  {
   "cell_type": "code",
   "execution_count": 10,
   "metadata": {
    "collapsed": false
   },
   "outputs": [],
   "source": [
    "# your code"
   ]
  },
  {
   "cell_type": "markdown",
   "metadata": {},
   "source": [
    "Logistic regression has a tuning parameter: regularization (called \"C\"). \n",
    "You can set this using [cross-validation](http://scikit-learn.org/stable/auto_examples/grid_search_digits.html).\n",
    "\n",
    "**Deliverable 3c** Try several values for regularization, and plot the average accuracy on 5-fold cross-validation."
   ]
  },
  {
   "cell_type": "code",
   "execution_count": 91,
   "metadata": {
    "collapsed": false
   },
   "outputs": [],
   "source": [
    "from sklearn.grid_search import GridSearchCV"
   ]
  },
  {
   "cell_type": "code",
   "execution_count": 11,
   "metadata": {
    "collapsed": false
   },
   "outputs": [],
   "source": [
    "# your code"
   ]
  },
  {
   "cell_type": "markdown",
   "metadata": {},
   "source": [
    "**Deliverable 3d** Using the best regularization, fit a classifier to the entire dataset.\n",
    "\n",
    "List the top 5 words with the highest coefficients for each class. See clf.coef_ "
   ]
  },
  {
   "cell_type": "code",
   "execution_count": 12,
   "metadata": {
    "collapsed": false
   },
   "outputs": [],
   "source": [
    "# your code"
   ]
  },
  {
   "cell_type": "markdown",
   "metadata": {},
   "source": [
    "**Deliverable 3e** Now include bigrams in the training set.\n",
    "\n",
    "- See CountVectorizer for some idea about how to do this.\n",
    "- Use GridSearchCV to find the accuracy across a range of C parameters, with 5 CV folds\n",
    "- Train a classifier using the best C parameter on the entire training set\n",
    "- For each class, report the ten features (unigrams or bigrams) with the highest positive weights in this classifier"
   ]
  },
  {
   "cell_type": "code",
   "execution_count": 13,
   "metadata": {
    "collapsed": false
   },
   "outputs": [],
   "source": [
    "# your code"
   ]
  },
  {
   "cell_type": "markdown",
   "metadata": {},
   "source": [
    "**Deliverable 3f: Player's choice** \n",
    "\n",
    "Try to improve the classification accuracy, either by finding another classifier or doing some intelligent preprocessing of the text. This part will count as much as the rest of deliverable 2, so please make a good effort."
   ]
  },
  {
   "cell_type": "code",
   "execution_count": 14,
   "metadata": {
    "collapsed": false
   },
   "outputs": [],
   "source": [
    "# your code"
   ]
  },
  {
   "cell_type": "markdown",
   "metadata": {},
   "source": [
    "# Topic models #"
   ]
  },
  {
   "cell_type": "markdown",
   "metadata": {},
   "source": [
    "** Deliverable 4a** Use CountVectorizer to build a data matrix 'x', where you include all words that appear in at least five documents and fewer than 10% of all documents. Print the shape of this matrix."
   ]
  },
  {
   "cell_type": "code",
   "execution_count": null,
   "metadata": {
    "collapsed": false
   },
   "outputs": [],
   "source": [
    "# your code"
   ]
  },
  {
   "cell_type": "markdown",
   "metadata": {},
   "source": [
    "The code below removes all documents with fewer than 20 tokens."
   ]
  },
  {
   "cell_type": "code",
   "execution_count": 15,
   "metadata": {
    "collapsed": false
   },
   "outputs": [
    {
     "ename": "NameError",
     "evalue": "name 'x' is not defined",
     "output_type": "error",
     "traceback": [
      "\u001b[1;31m---------------------------------------------------------------------------\u001b[0m\n\u001b[1;31mNameError\u001b[0m                                 Traceback (most recent call last)",
      "\u001b[1;32m<ipython-input-15-59330c8c6fdf>\u001b[0m in \u001b[0;36m<module>\u001b[1;34m()\u001b[0m\n\u001b[1;32m----> 1\u001b[1;33m \u001b[0mx_long_comments\u001b[0m \u001b[1;33m=\u001b[0m \u001b[0mx\u001b[0m\u001b[1;33m[\u001b[0m\u001b[1;33m[\u001b[0m\u001b[0mi\u001b[0m \u001b[1;32mfor\u001b[0m \u001b[0mi\u001b[0m\u001b[1;33m,\u001b[0m\u001b[0ms\u001b[0m \u001b[1;32min\u001b[0m \u001b[0menumerate\u001b[0m\u001b[1;33m(\u001b[0m\u001b[0mx\u001b[0m\u001b[1;33m.\u001b[0m\u001b[0msum\u001b[0m\u001b[1;33m(\u001b[0m\u001b[1;36m1\u001b[0m\u001b[1;33m)\u001b[0m\u001b[1;33m)\u001b[0m \u001b[1;32mif\u001b[0m \u001b[0ms\u001b[0m \u001b[1;33m>\u001b[0m \u001b[1;36m20\u001b[0m\u001b[1;33m]\u001b[0m\u001b[1;33m,\u001b[0m\u001b[1;33m:\u001b[0m\u001b[1;33m]\u001b[0m\u001b[1;33m\u001b[0m\u001b[0m\n\u001b[0m\u001b[0;32m      2\u001b[0m \u001b[1;32mprint\u001b[0m \u001b[0mx_long_comments\u001b[0m\u001b[1;33m.\u001b[0m\u001b[0mshape\u001b[0m\u001b[1;33m\u001b[0m\u001b[0m\n",
      "\u001b[1;31mNameError\u001b[0m: name 'x' is not defined"
     ]
    }
   ],
   "source": [
    "x_long_comments = x[[i for i,s in enumerate(x.sum(1)) if s > 20],:]\n",
    "print x_long_comments.shape"
   ]
  },
  {
   "cell_type": "markdown",
   "metadata": {},
   "source": [
    "## Gensim ##\n",
    "\n",
    "Gensim is a package for topic modeling in python (among other things). \n",
    "You can install it with \"pip install gensim\""
   ]
  },
  {
   "cell_type": "code",
   "execution_count": 104,
   "metadata": {
    "collapsed": false
   },
   "outputs": [],
   "source": [
    "from gensim.models import ldamodel;\n",
    "from gensim import matutils;"
   ]
  },
  {
   "cell_type": "markdown",
   "metadata": {},
   "source": [
    "The code below converts your word matrix to a gensim object"
   ]
  },
  {
   "cell_type": "code",
   "execution_count": 105,
   "metadata": {
    "collapsed": false
   },
   "outputs": [],
   "source": [
    "corpus_gensim = matutils.Sparse2Corpus(x_long_comments.T)\n",
    "vocab_gensim = {val:key for key,val in vectorizer.vocabulary_.items()}"
   ]
  },
  {
   "cell_type": "markdown",
   "metadata": {},
   "source": [
    "This code runs an LDA topic model on the corpus_gensim data structure, for 100 passes, with 5 topics. Use vocab_gensim as the vocabulary, as specified by the id2word argument. You may want to try with the option \"alpha='auto'\"."
   ]
  },
  {
   "cell_type": "code",
   "execution_count": 106,
   "metadata": {
    "collapsed": false
   },
   "outputs": [],
   "source": [
    "#takes around 5 minutes on my machine\n",
    "model = ldamodel.LdaModel(corpus_gensim,id2word=vocab_gensim,num_topics=5,passes=100)"
   ]
  },
  {
   "cell_type": "markdown",
   "metadata": {},
   "source": [
    "**Deliverable 4b** Show the top words per topic. Use the following equation:\n",
    "\n",
    "$\\psi_{k,w} = \\log \\beta_{k,w} - \\log \\frac{1}{K} \\sum_{k'} \\beta_{k',w}$,\n",
    "\n",
    "where \n",
    "- $k$ indexes a topic\n",
    "- $w$ indexes a word\n",
    "- $\\psi_{k,w}$ is the score for a word $w$ in topic $k$\n",
    "- $K$ is the total number of topics\n",
    "- $\\beta_{k,w}$ is the probability of word $w$ appearing in topic $k$"
   ]
  },
  {
   "cell_type": "code",
   "execution_count": null,
   "metadata": {
    "collapsed": false
   },
   "outputs": [],
   "source": [
    "# your code"
   ]
  },
  {
   "cell_type": "markdown",
   "metadata": {},
   "source": [
    "** Deliverable 4c ** Now compute 15 topics (or more) over the same corpus, again for at least 100 passes. This may take a little while, but it should be less than an hour. Show the topics using the same code as you wrote for deliverable 4d."
   ]
  },
  {
   "cell_type": "code",
   "execution_count": 16,
   "metadata": {
    "collapsed": false
   },
   "outputs": [],
   "source": [
    "# your code"
   ]
  },
  {
   "cell_type": "markdown",
   "metadata": {},
   "source": [
    "**Deliverable 4d** Examine the topics. Do you think any of them should be more common in some of the subreddits? \n",
    "\n",
    "To compute the strength of topics in each document, you can use the code below.\n",
    "\n",
    "For your selected topic, use a z-test to determine whether it is indeed more common in the subreddit that you selected."
   ]
  },
  {
   "cell_type": "code",
   "execution_count": 17,
   "metadata": {
    "collapsed": false
   },
   "outputs": [],
   "source": [
    "# your code"
   ]
  }
 ],
 "metadata": {
  "kernelspec": {
   "display_name": "Python 2",
   "language": "python",
   "name": "python2"
  },
  "language_info": {
   "codemirror_mode": {
    "name": "ipython",
    "version": 2
   },
   "file_extension": ".py",
   "mimetype": "text/x-python",
   "name": "python",
   "nbconvert_exporter": "python",
   "pygments_lexer": "ipython2",
   "version": "2.7.9"
  }
 },
 "nbformat": 4,
 "nbformat_minor": 0
}
